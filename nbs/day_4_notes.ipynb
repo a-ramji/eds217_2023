{
 "cells": [
  {
   "cell_type": "markdown",
   "metadata": {},
   "source": [
    "# EDS 217 Day 4 Notes \n",
    "## 2023-09-11"
   ]
  },
  {
   "cell_type": "markdown",
   "metadata": {},
   "source": [
    "### Day 4 (kinda day 5 though) Notes \n"
   ]
  },
  {
   "cell_type": "markdown",
   "metadata": {},
   "source": []
  },
  {
   "cell_type": "markdown",
   "metadata": {},
   "source": [
    "used curl to get new version of 4-1_pandas.ipynb:\n",
    "\n",
    "curl https://raw.githubusercontent.com/environmental-data-science/eds217_2023/main/interactive_sessions/4-1_pandas.ipynb > 4-1_pandas.ipynb\n",
    "\n",
    "changed working directory to lectures, used curl to get new version of 03-debugging.ipynb:\n",
    "\n",
    "curl https://raw.githubusercontent.com/environmental-data-science/eds217_2023/main/lectures/03-debugging.ipynb > 03-debugging.ipynb"
   ]
  },
  {
   "cell_type": "markdown",
   "metadata": {},
   "source": [
    "used:\n",
    "`ls -l 03-debugging.ipynb`\n",
    "to check how recently the file had been updated etc."
   ]
  },
  {
   "cell_type": "code",
   "execution_count": 1,
   "metadata": {},
   "outputs": [
    {
     "name": "stdout",
     "output_type": "stream",
     "text": [
      "The Zen of Python, by Tim Peters\n",
      "\n",
      "Beautiful is better than ugly.\n",
      "Explicit is better than implicit.\n",
      "Simple is better than complex.\n",
      "Complex is better than complicated.\n",
      "Flat is better than nested.\n",
      "Sparse is better than dense.\n",
      "Readability counts.\n",
      "Special cases aren't special enough to break the rules.\n",
      "Although practicality beats purity.\n",
      "Errors should never pass silently.\n",
      "Unless explicitly silenced.\n",
      "In the face of ambiguity, refuse the temptation to guess.\n",
      "There should be one-- and preferably only one --obvious way to do it.\n",
      "Although that way may not be obvious at first unless you're Dutch.\n",
      "Now is better than never.\n",
      "Although never is often better than *right* now.\n",
      "If the implementation is hard to explain, it's a bad idea.\n",
      "If the implementation is easy to explain, it may be a good idea.\n",
      "Namespaces are one honking great idea -- let's do more of those!\n"
     ]
    }
   ],
   "source": [
    "# the Zen of python\n",
    "import this"
   ]
  },
  {
   "cell_type": "markdown",
   "metadata": {},
   "source": [
    "## Exceptions"
   ]
  },
  {
   "cell_type": "code",
   "execution_count": 2,
   "metadata": {},
   "outputs": [
    {
     "name": "stdout",
     "output_type": "stream",
     "text": [
      "It didn't work because division by zero\n"
     ]
    }
   ],
   "source": [
    "try:\n",
    "    print( 0 / 0)\n",
    "except Exception as e:\n",
    "    print(f\"It didn't work because {e}\")"
   ]
  },
  {
   "cell_type": "markdown",
   "metadata": {},
   "source": [
    "When python says anything other than `SyntaxError`, you should read this as `You are asking to do something I can't do`"
   ]
  },
  {
   "cell_type": "markdown",
   "metadata": {},
   "source": [
    "### Types of Exceptions\n",
    "\n",
    "Python has a lot of builtin Errors that correspond to the definition of the Python language. \n"
   ]
  },
  {
   "cell_type": "markdown",
   "metadata": {},
   "source": [
    "A few common Exceptions you will see include `TypeError`, `IndexError`, and `KeyError`."
   ]
  },
  {
   "cell_type": "code",
   "execution_count": null,
   "metadata": {},
   "outputs": [],
   "source": []
  },
  {
   "cell_type": "markdown",
   "metadata": {},
   "source": [
    "### `TypeError`\n",
    "\n",
    "\n",
    "A `TypeError` is raised when you try to perform a valid method on an inappropriate data type. "
   ]
  },
  {
   "cell_type": "markdown",
   "metadata": {},
   "source": [
    "### `IndexError`\n",
    "\n",
    "\n",
    "An `IndexError` is raised when you try to access an undefined element of a sequence. Sequences are structured data types whose elements are stored in a specific order. A **list** is an example of a sequence."
   ]
  },
  {
   "cell_type": "markdown",
   "metadata": {},
   "source": [
    "### `KeyError`\n",
    "\n",
    "A `KeyError` is raised when you try to perform a valid method on an inappropriate data type. "
   ]
  },
  {
   "cell_type": "code",
   "execution_count": null,
   "metadata": {},
   "outputs": [],
   "source": [
    "# KeyError Examples:\n",
    "\n",
    "my_dict = {'column_1': 'definition 1', 'another_word': 'a second definition'}\n",
    "my_dict['column12']"
   ]
  },
  {
   "cell_type": "markdown",
   "metadata": {},
   "source": [
    "### Deciphering Tracebacks \n",
    "When an exception is raised in python the interpreter generates a \"Traceback\" that shows **where** and **why** the error occurred. Generally, the REPL has most detailed Traceback information, although Jupyter Notebooks and iPython interactive shells also provide necessary information to debug any exception. "
   ]
  },
  {
   "cell_type": "code",
   "execution_count": null,
   "metadata": {},
   "outputs": [
    {
     "ename": "NameError",
     "evalue": "name 'results' is not defined",
     "output_type": "error",
     "traceback": [
      "\u001b[0;31m---------------------------------------------------------------------------\u001b[0m\n",
      "\u001b[0;31mNameError\u001b[0m                                 Traceback (most recent call last)\n",
      "Cell \u001b[0;32mIn[3], line 7\u001b[0m\n",
      "\u001b[1;32m      4\u001b[0m     \u001b[39mprint\u001b[39m(results)\n",
      "\u001b[1;32m      6\u001b[0m \u001b[39m# calling the function\u001b[39;00m\n",
      "\u001b[0;32m----> 7\u001b[0m multiply(\u001b[39m10\u001b[39;49m, \u001b[39m2\u001b[39;49m)\n",
      "\n",
      "Cell \u001b[0;32mIn[3], line 4\u001b[0m, in \u001b[0;36mmultiply\u001b[0;34m(num1, num2)\u001b[0m\n",
      "\u001b[1;32m      2\u001b[0m \u001b[39mdef\u001b[39;00m \u001b[39mmultiply\u001b[39m(num1, num2):\n",
      "\u001b[1;32m      3\u001b[0m     result \u001b[39m=\u001b[39m num1 \u001b[39m*\u001b[39m num2\n",
      "\u001b[0;32m----> 4\u001b[0m     \u001b[39mprint\u001b[39m(results)\n",
      "\n",
      "\u001b[0;31mNameError\u001b[0m: name 'results' is not defined"
     ]
    }
   ],
   "source": [
    "# defining a function\n",
    "def multiply(num1, num2):\n",
    "    result = num1 * num2\n",
    "    print(results)\n",
    " \n",
    "# calling the function\n",
    "multiply(10, 2)"
   ]
  },
  {
   "cell_type": "markdown",
   "metadata": {},
   "source": [
    "## Pandas"
   ]
  },
  {
   "cell_type": "code",
   "execution_count": 3,
   "metadata": {},
   "outputs": [],
   "source": [
    "import pandas as pd"
   ]
  },
  {
   "cell_type": "markdown",
   "metadata": {},
   "source": [
    "2 fundamental objects in this library:\n",
    "- Series\n",
    "- DataFrame"
   ]
  },
  {
   "cell_type": "markdown",
   "metadata": {},
   "source": [
    "also work w Datetime objects"
   ]
  },
  {
   "cell_type": "markdown",
   "metadata": {},
   "source": [
    "### Creating `Series` and `DataFrame` objects"
   ]
  },
  {
   "cell_type": "code",
   "execution_count": 5,
   "metadata": {},
   "outputs": [
    {
     "data": {
      "text/plain": [
       "0    25.8\n",
       "1    16.2\n",
       "2    17.9\n",
       "3    18.8\n",
       "4    23.6\n",
       "5    29.9\n",
       "6    23.6\n",
       "7    22.1\n",
       "dtype: float64"
      ]
     },
     "execution_count": 5,
     "metadata": {},
     "output_type": "execute_result"
    }
   ],
   "source": [
    "series = pd.Series([25.8, 16.2, 17.9, 18.8, 23.6, 29.9, 23.6, 22.1])\n",
    "\n",
    "series"
   ]
  },
  {
   "cell_type": "markdown",
   "metadata": {},
   "source": [
    "if you wrote '2.4' , it would consider everything as \"object\" type -- it's confused. It'll try to coerce the string into a number, but is still confused"
   ]
  },
  {
   "cell_type": "markdown",
   "metadata": {},
   "source": [
    "list of lists:"
   ]
  },
  {
   "cell_type": "markdown",
   "metadata": {},
   "source": [
    "\"columns\" keyword argument constructor lets us specify column names at the end"
   ]
  },
  {
   "cell_type": "code",
   "execution_count": 10,
   "metadata": {},
   "outputs": [
    {
     "data": {
      "text/html": [
       "<div>\n",
       "<style scoped>\n",
       "    .dataframe tbody tr th:only-of-type {\n",
       "        vertical-align: middle;\n",
       "    }\n",
       "\n",
       "    .dataframe tbody tr th {\n",
       "        vertical-align: top;\n",
       "    }\n",
       "\n",
       "    .dataframe thead th {\n",
       "        text-align: right;\n",
       "    }\n",
       "</style>\n",
       "<table border=\"1\" class=\"dataframe\">\n",
       "  <thead>\n",
       "    <tr style=\"text-align: right;\">\n",
       "      <th></th>\n",
       "      <th>A</th>\n",
       "      <th>B</th>\n",
       "      <th>C</th>\n",
       "      <th>D</th>\n",
       "    </tr>\n",
       "  </thead>\n",
       "  <tbody>\n",
       "    <tr>\n",
       "      <th>0</th>\n",
       "      <td>25.8</td>\n",
       "      <td>28.1</td>\n",
       "      <td>16.2</td>\n",
       "      <td>11.0</td>\n",
       "    </tr>\n",
       "    <tr>\n",
       "      <th>1</th>\n",
       "      <td>17.9</td>\n",
       "      <td>14.2</td>\n",
       "      <td>18.8</td>\n",
       "      <td>28.0</td>\n",
       "    </tr>\n",
       "    <tr>\n",
       "      <th>2</th>\n",
       "      <td>23.6</td>\n",
       "      <td>18.4</td>\n",
       "      <td>29.9</td>\n",
       "      <td>27.8</td>\n",
       "    </tr>\n",
       "    <tr>\n",
       "      <th>3</th>\n",
       "      <td>23.6</td>\n",
       "      <td>36.2</td>\n",
       "      <td>22.1</td>\n",
       "      <td>14.5</td>\n",
       "    </tr>\n",
       "  </tbody>\n",
       "</table>\n",
       "</div>"
      ],
      "text/plain": [
       "      A     B     C     D\n",
       "0  25.8  28.1  16.2  11.0\n",
       "1  17.9  14.2  18.8  28.0\n",
       "2  23.6  18.4  29.9  27.8\n",
       "3  23.6  36.2  22.1  14.5"
      ]
     },
     "execution_count": 10,
     "metadata": {},
     "output_type": "execute_result"
    }
   ],
   "source": [
    "# Create a df from a list of lists\n",
    "df = pd.DataFrame([[25.8, 28.1, 16.2, 11.0],[17.9, 14.2, 18.8, 28.0],\n",
    "                   [23.6, 18.4, 29.9, 27.8],[23.6, 36.2, 22.1, 14.5]],\n",
    "                 columns=['A','B','C','D'])\n",
    "df"
   ]
  },
  {
   "cell_type": "markdown",
   "metadata": {},
   "source": [
    "creating a DataFrame from a `dict` object:\n",
    "- manually entering each column, note the rotation"
   ]
  },
  {
   "cell_type": "code",
   "execution_count": 14,
   "metadata": {},
   "outputs": [
    {
     "data": {
      "text/html": [
       "<div>\n",
       "<style scoped>\n",
       "    .dataframe tbody tr th:only-of-type {\n",
       "        vertical-align: middle;\n",
       "    }\n",
       "\n",
       "    .dataframe tbody tr th {\n",
       "        vertical-align: top;\n",
       "    }\n",
       "\n",
       "    .dataframe thead th {\n",
       "        text-align: right;\n",
       "    }\n",
       "</style>\n",
       "<table border=\"1\" class=\"dataframe\">\n",
       "  <thead>\n",
       "    <tr style=\"text-align: right;\">\n",
       "      <th></th>\n",
       "      <th>A</th>\n",
       "      <th>B</th>\n",
       "      <th>C</th>\n",
       "      <th>D</th>\n",
       "    </tr>\n",
       "  </thead>\n",
       "  <tbody>\n",
       "    <tr>\n",
       "      <th>0</th>\n",
       "      <td>25.8</td>\n",
       "      <td>28.1</td>\n",
       "      <td>16.2</td>\n",
       "      <td>11.0</td>\n",
       "    </tr>\n",
       "    <tr>\n",
       "      <th>1</th>\n",
       "      <td>17.9</td>\n",
       "      <td>14.2</td>\n",
       "      <td>18.8</td>\n",
       "      <td>28.0</td>\n",
       "    </tr>\n",
       "    <tr>\n",
       "      <th>2</th>\n",
       "      <td>23.6</td>\n",
       "      <td>18.4</td>\n",
       "      <td>29.9</td>\n",
       "      <td>27.8</td>\n",
       "    </tr>\n",
       "    <tr>\n",
       "      <th>3</th>\n",
       "      <td>23.6</td>\n",
       "      <td>36.2</td>\n",
       "      <td>22.1</td>\n",
       "      <td>14.5</td>\n",
       "    </tr>\n",
       "  </tbody>\n",
       "</table>\n",
       "</div>"
      ],
      "text/plain": [
       "      A     B     C     D\n",
       "0  25.8  28.1  16.2  11.0\n",
       "1  17.9  14.2  18.8  28.0\n",
       "2  23.6  18.4  29.9  27.8\n",
       "3  23.6  36.2  22.1  14.5"
      ]
     },
     "execution_count": 14,
     "metadata": {},
     "output_type": "execute_result"
    }
   ],
   "source": [
    "# Create a df from a dictionary\n",
    "dict_df = pd.DataFrame({\n",
    "    'A': [25.8, 17.9, 23.6, 23.6],\n",
    "    'B': [28.1, 14.2, 18.4, 36.2],\n",
    "    'C': [16.2, 18.8, 29.9, 22.1],\n",
    "    'D': [11.0, 28.0, 27.8, 14.5]\n",
    "    })\n",
    "\n",
    "dict_df"
   ]
  },
  {
   "cell_type": "markdown",
   "metadata": {},
   "source": [
    "\n",
    "Using this method, each `key` corresponds to a column name, and each `value` is a column."
   ]
  },
  {
   "cell_type": "code",
   "execution_count": null,
   "metadata": {},
   "outputs": [],
   "source": []
  },
  {
   "cell_type": "markdown",
   "metadata": {},
   "source": [
    "### Importing Data"
   ]
  },
  {
   "cell_type": "markdown",
   "metadata": {},
   "source": [
    "`pd.read_csv()` function requires AT LEAST a path or url to a csv file\n",
    "- assumes the data starts in the first row unless the column names are the first row\n",
    "- data separated by commas unless you specify otherwise\n",
    "    - using \"se\" parameter, i.e. `sep='\\t' ` = tab delimiter"
   ]
  },
  {
   "cell_type": "markdown",
   "metadata": {},
   "source": [
    "\n",
    "In this session, we'll be importing a CSV file containing radiation data for October 2019 from a Baseline Surface Radiation Network (BSRN) station in Southern Africa. [BSRN](https://bsrn.awi.de) is a Global Energy and Water Cycle Experiment project aimed at monitoring changes in the Earth's surface radiation field. The network is comprised of 64 stations across various climate zones across the globe, whose data are used as the global baseline for surface radiation by the Global Climate Observing System.\n",
    "\n",
    "The CSV file is located in the [data](../data) folder on the course GitHub repository. The files should already by in your private repo. \n",
    "\n",
    "While the file may not display properly in VSCode, the first 10 lines of the file should look like:\n",
    "\n",
    "```\n",
    "DATE,H_m,SWD_Wm2,STD_SWD,DIR_Wm2,STD_DIR,DIF_Wm2,STD_DIF,LWD_Wm2,STD_LWD,SWU_Wm2,LWU_Wm2,T_degC,RH,P_hPa\n",
    "2019-10-01 00:00:00,2,-3,0,0,0,-3,0,300,0.1,0,383,16.2,30.7,966\n",
    "2019-10-01 00:01:00,2,-3,0,0,0,-3,0,300,0.3,0,383,16.4,30.7,966\n",
    "2019-10-01 00:02:00,2,-3,0,0,0,-3,0,300,0.2,0,383,16.5,30.5,966\n",
    "2019-10-01 00:03:00,2,-3,0,0,0,-3,0,300,0.1,0,383,16.5,30.4,966\n",
    "2019-10-01 00:04:00,2,-3,0,0,0,-3,0,300,0.1,0,383,16.8,30.5,966\n",
    "2019-10-01 00:05:00,2,-2,0,0,0,-2,0,300,0.2,0,383,16.9,30.5,966\n",
    "2019-10-01 00:06:00,2,-2,0,0,0,-2,0,300,0.2,0,383,16.8,30.4,966\n",
    "2019-10-01 00:07:00,2,-2,0,0,0,-2,0,300,0.1,0,384,17,31,966\n",
    "2019-10-01 00:08:00,2,-2,0,0,0,-2,0,300,0.2,0,384,16.7,30.6,966\n",
    "```\n",
    "\n",
    "The first line of the file contains the names of the columns, which are described in the table below.\n",
    "\n",
    "| Column name | Description |\n",
    "| :---------- | :---------- |\n",
    "| **DATE**    | Date/Time |\n",
    "| **H_m**     | Height of measurement $(\\text{m})$ |\n",
    "| **SWD_Wm2** | Incoming shortwave radiation $(\\text{W m}^{-2})$|\n",
    "| **STD_SWD** | Standard deviation of incoming shortwave radiation $(\\text{W m}^{-2})$ |\n",
    "| **DIR_Wm2** | Direct radiation $(\\text{W m}^{-2})$ |\n",
    "| **STD_DIR** | Standard deviation of direct radiation $(\\text{W m}^{-2})$ |\n",
    "| **DIF_Wm2** | Diffuse radiation $(\\text{W m}^{-2})$ |\n",
    "| **STD_DIF** | Standard deviation of diffuse radiation $(\\text{W m}^{-2})$ |\n",
    "| **LWD_Wm2** | Incoming longwave radiation $(\\text{W m}^{-2})$ |\n",
    "| **STD_LWD** | Standard deviation of incoming longwave radiation $(\\text{W m}^{-2})$ |\n",
    "| **SWU_Wm2** | Outgoing shortwave radiation $(\\text{W m}^{-2})$ |\n",
    "| **LWU_Wm2** | Outgoing longwave radiation $(\\text{W m}^{-2})$ |\n",
    "| **T_degC**  | Air temperature $(^{\\circ}\\text{C})$ |\n",
    "| **RH**      | Relative humidity $(\\%)$ |\n",
    "| **P_hPa**   | Air pressure $(\\text{hPa})$ |\n",
    "\n",
    "\n",
    "We can import the data into pandas using the following syntax:\n",
    "\n",
    "```python\n",
    "bsrn = pd.read_csv('../data/BSRN_GOB_2019-10.csv')\n",
    "```\n",
    "\n",
    "<div class=\"example\">\n",
    "    ✏️ <b> Try it. </b> \n",
    "    Copy and paste the code above to import the data in the CSV file into a pandas <code>DataFrame</code> named <code>bsrn</code>.\n",
    "</div>"
   ]
  },
  {
   "cell_type": "code",
   "execution_count": 15,
   "metadata": {},
   "outputs": [],
   "source": [
    "bsrn = pd.read_csv('../data/BSRN_GOB_2019-10.csv')"
   ]
  },
  {
   "cell_type": "code",
   "execution_count": 16,
   "metadata": {},
   "outputs": [
    {
     "data": {
      "text/html": [
       "<div>\n",
       "<style scoped>\n",
       "    .dataframe tbody tr th:only-of-type {\n",
       "        vertical-align: middle;\n",
       "    }\n",
       "\n",
       "    .dataframe tbody tr th {\n",
       "        vertical-align: top;\n",
       "    }\n",
       "\n",
       "    .dataframe thead th {\n",
       "        text-align: right;\n",
       "    }\n",
       "</style>\n",
       "<table border=\"1\" class=\"dataframe\">\n",
       "  <thead>\n",
       "    <tr style=\"text-align: right;\">\n",
       "      <th></th>\n",
       "      <th>DATE</th>\n",
       "      <th>H_m</th>\n",
       "      <th>SWD_Wm2</th>\n",
       "      <th>STD_SWD</th>\n",
       "      <th>DIR_Wm2</th>\n",
       "      <th>STD_DIR</th>\n",
       "      <th>DIF_Wm2</th>\n",
       "      <th>STD_DIF</th>\n",
       "      <th>LWD_Wm2</th>\n",
       "      <th>STD_LWD</th>\n",
       "      <th>SWU_Wm2</th>\n",
       "      <th>LWU_Wm2</th>\n",
       "      <th>T_degC</th>\n",
       "      <th>RH</th>\n",
       "      <th>P_hPa</th>\n",
       "    </tr>\n",
       "  </thead>\n",
       "  <tbody>\n",
       "    <tr>\n",
       "      <th>0</th>\n",
       "      <td>2019-10-01 00:00:00</td>\n",
       "      <td>2</td>\n",
       "      <td>-3.0</td>\n",
       "      <td>0.0</td>\n",
       "      <td>0.0</td>\n",
       "      <td>0.0</td>\n",
       "      <td>-3.0</td>\n",
       "      <td>0.0</td>\n",
       "      <td>300.0</td>\n",
       "      <td>0.1</td>\n",
       "      <td>0</td>\n",
       "      <td>383</td>\n",
       "      <td>16.2</td>\n",
       "      <td>30.7</td>\n",
       "      <td>966</td>\n",
       "    </tr>\n",
       "    <tr>\n",
       "      <th>1</th>\n",
       "      <td>2019-10-01 00:01:00</td>\n",
       "      <td>2</td>\n",
       "      <td>-3.0</td>\n",
       "      <td>0.0</td>\n",
       "      <td>0.0</td>\n",
       "      <td>0.0</td>\n",
       "      <td>-3.0</td>\n",
       "      <td>0.0</td>\n",
       "      <td>300.0</td>\n",
       "      <td>0.3</td>\n",
       "      <td>0</td>\n",
       "      <td>383</td>\n",
       "      <td>16.4</td>\n",
       "      <td>30.7</td>\n",
       "      <td>966</td>\n",
       "    </tr>\n",
       "    <tr>\n",
       "      <th>2</th>\n",
       "      <td>2019-10-01 00:02:00</td>\n",
       "      <td>2</td>\n",
       "      <td>-3.0</td>\n",
       "      <td>0.0</td>\n",
       "      <td>0.0</td>\n",
       "      <td>0.0</td>\n",
       "      <td>-3.0</td>\n",
       "      <td>0.0</td>\n",
       "      <td>300.0</td>\n",
       "      <td>0.2</td>\n",
       "      <td>0</td>\n",
       "      <td>383</td>\n",
       "      <td>16.5</td>\n",
       "      <td>30.5</td>\n",
       "      <td>966</td>\n",
       "    </tr>\n",
       "    <tr>\n",
       "      <th>3</th>\n",
       "      <td>2019-10-01 00:03:00</td>\n",
       "      <td>2</td>\n",
       "      <td>-3.0</td>\n",
       "      <td>0.0</td>\n",
       "      <td>0.0</td>\n",
       "      <td>0.0</td>\n",
       "      <td>-3.0</td>\n",
       "      <td>0.0</td>\n",
       "      <td>300.0</td>\n",
       "      <td>0.1</td>\n",
       "      <td>0</td>\n",
       "      <td>383</td>\n",
       "      <td>16.5</td>\n",
       "      <td>30.4</td>\n",
       "      <td>966</td>\n",
       "    </tr>\n",
       "    <tr>\n",
       "      <th>4</th>\n",
       "      <td>2019-10-01 00:04:00</td>\n",
       "      <td>2</td>\n",
       "      <td>-3.0</td>\n",
       "      <td>0.0</td>\n",
       "      <td>0.0</td>\n",
       "      <td>0.0</td>\n",
       "      <td>-3.0</td>\n",
       "      <td>0.0</td>\n",
       "      <td>300.0</td>\n",
       "      <td>0.1</td>\n",
       "      <td>0</td>\n",
       "      <td>383</td>\n",
       "      <td>16.8</td>\n",
       "      <td>30.5</td>\n",
       "      <td>966</td>\n",
       "    </tr>\n",
       "    <tr>\n",
       "      <th>...</th>\n",
       "      <td>...</td>\n",
       "      <td>...</td>\n",
       "      <td>...</td>\n",
       "      <td>...</td>\n",
       "      <td>...</td>\n",
       "      <td>...</td>\n",
       "      <td>...</td>\n",
       "      <td>...</td>\n",
       "      <td>...</td>\n",
       "      <td>...</td>\n",
       "      <td>...</td>\n",
       "      <td>...</td>\n",
       "      <td>...</td>\n",
       "      <td>...</td>\n",
       "      <td>...</td>\n",
       "    </tr>\n",
       "    <tr>\n",
       "      <th>44635</th>\n",
       "      <td>2019-10-31 23:55:00</td>\n",
       "      <td>2</td>\n",
       "      <td>-2.0</td>\n",
       "      <td>0.0</td>\n",
       "      <td>0.0</td>\n",
       "      <td>0.0</td>\n",
       "      <td>-2.0</td>\n",
       "      <td>0.0</td>\n",
       "      <td>380.0</td>\n",
       "      <td>0.1</td>\n",
       "      <td>0</td>\n",
       "      <td>423</td>\n",
       "      <td>23.0</td>\n",
       "      <td>35.6</td>\n",
       "      <td>964</td>\n",
       "    </tr>\n",
       "    <tr>\n",
       "      <th>44636</th>\n",
       "      <td>2019-10-31 23:56:00</td>\n",
       "      <td>2</td>\n",
       "      <td>-2.0</td>\n",
       "      <td>0.0</td>\n",
       "      <td>0.0</td>\n",
       "      <td>0.0</td>\n",
       "      <td>-2.0</td>\n",
       "      <td>0.0</td>\n",
       "      <td>380.0</td>\n",
       "      <td>0.1</td>\n",
       "      <td>0</td>\n",
       "      <td>423</td>\n",
       "      <td>23.1</td>\n",
       "      <td>35.5</td>\n",
       "      <td>964</td>\n",
       "    </tr>\n",
       "    <tr>\n",
       "      <th>44637</th>\n",
       "      <td>2019-10-31 23:57:00</td>\n",
       "      <td>2</td>\n",
       "      <td>-2.0</td>\n",
       "      <td>0.0</td>\n",
       "      <td>0.0</td>\n",
       "      <td>0.0</td>\n",
       "      <td>-2.0</td>\n",
       "      <td>0.0</td>\n",
       "      <td>380.0</td>\n",
       "      <td>0.1</td>\n",
       "      <td>0</td>\n",
       "      <td>423</td>\n",
       "      <td>23.0</td>\n",
       "      <td>35.3</td>\n",
       "      <td>964</td>\n",
       "    </tr>\n",
       "    <tr>\n",
       "      <th>44638</th>\n",
       "      <td>2019-10-31 23:58:00</td>\n",
       "      <td>2</td>\n",
       "      <td>-2.0</td>\n",
       "      <td>0.0</td>\n",
       "      <td>0.0</td>\n",
       "      <td>0.0</td>\n",
       "      <td>-2.0</td>\n",
       "      <td>0.0</td>\n",
       "      <td>381.0</td>\n",
       "      <td>0.2</td>\n",
       "      <td>0</td>\n",
       "      <td>423</td>\n",
       "      <td>23.0</td>\n",
       "      <td>35.2</td>\n",
       "      <td>964</td>\n",
       "    </tr>\n",
       "    <tr>\n",
       "      <th>44639</th>\n",
       "      <td>2019-10-31 23:59:00</td>\n",
       "      <td>2</td>\n",
       "      <td>-2.0</td>\n",
       "      <td>0.0</td>\n",
       "      <td>0.0</td>\n",
       "      <td>0.0</td>\n",
       "      <td>-2.0</td>\n",
       "      <td>0.0</td>\n",
       "      <td>381.0</td>\n",
       "      <td>0.1</td>\n",
       "      <td>0</td>\n",
       "      <td>423</td>\n",
       "      <td>23.1</td>\n",
       "      <td>35.0</td>\n",
       "      <td>964</td>\n",
       "    </tr>\n",
       "  </tbody>\n",
       "</table>\n",
       "<p>44640 rows × 15 columns</p>\n",
       "</div>"
      ],
      "text/plain": [
       "                      DATE  H_m  SWD_Wm2  STD_SWD  DIR_Wm2  STD_DIR  DIF_Wm2  \\\n",
       "0      2019-10-01 00:00:00    2     -3.0      0.0      0.0      0.0     -3.0   \n",
       "1      2019-10-01 00:01:00    2     -3.0      0.0      0.0      0.0     -3.0   \n",
       "2      2019-10-01 00:02:00    2     -3.0      0.0      0.0      0.0     -3.0   \n",
       "3      2019-10-01 00:03:00    2     -3.0      0.0      0.0      0.0     -3.0   \n",
       "4      2019-10-01 00:04:00    2     -3.0      0.0      0.0      0.0     -3.0   \n",
       "...                    ...  ...      ...      ...      ...      ...      ...   \n",
       "44635  2019-10-31 23:55:00    2     -2.0      0.0      0.0      0.0     -2.0   \n",
       "44636  2019-10-31 23:56:00    2     -2.0      0.0      0.0      0.0     -2.0   \n",
       "44637  2019-10-31 23:57:00    2     -2.0      0.0      0.0      0.0     -2.0   \n",
       "44638  2019-10-31 23:58:00    2     -2.0      0.0      0.0      0.0     -2.0   \n",
       "44639  2019-10-31 23:59:00    2     -2.0      0.0      0.0      0.0     -2.0   \n",
       "\n",
       "       STD_DIF  LWD_Wm2  STD_LWD  SWU_Wm2  LWU_Wm2  T_degC    RH  P_hPa  \n",
       "0          0.0    300.0      0.1        0      383    16.2  30.7    966  \n",
       "1          0.0    300.0      0.3        0      383    16.4  30.7    966  \n",
       "2          0.0    300.0      0.2        0      383    16.5  30.5    966  \n",
       "3          0.0    300.0      0.1        0      383    16.5  30.4    966  \n",
       "4          0.0    300.0      0.1        0      383    16.8  30.5    966  \n",
       "...        ...      ...      ...      ...      ...     ...   ...    ...  \n",
       "44635      0.0    380.0      0.1        0      423    23.0  35.6    964  \n",
       "44636      0.0    380.0      0.1        0      423    23.1  35.5    964  \n",
       "44637      0.0    380.0      0.1        0      423    23.0  35.3    964  \n",
       "44638      0.0    381.0      0.2        0      423    23.0  35.2    964  \n",
       "44639      0.0    381.0      0.1        0      423    23.1  35.0    964  \n",
       "\n",
       "[44640 rows x 15 columns]"
      ]
     },
     "execution_count": 16,
     "metadata": {},
     "output_type": "execute_result"
    }
   ],
   "source": [
    "bsrn"
   ]
  },
  {
   "cell_type": "markdown",
   "metadata": {},
   "source": [
    "- can use any csv file locally w tab completion"
   ]
  },
  {
   "cell_type": "markdown",
   "metadata": {},
   "source": [
    "- this one is radiation data\n",
    "- U and D are for upward and downward radiation directions"
   ]
  },
  {
   "cell_type": "code",
   "execution_count": 19,
   "metadata": {},
   "outputs": [
    {
     "data": {
      "text/html": [
       "<div>\n",
       "<style scoped>\n",
       "    .dataframe tbody tr th:only-of-type {\n",
       "        vertical-align: middle;\n",
       "    }\n",
       "\n",
       "    .dataframe tbody tr th {\n",
       "        vertical-align: top;\n",
       "    }\n",
       "\n",
       "    .dataframe thead th {\n",
       "        text-align: right;\n",
       "    }\n",
       "</style>\n",
       "<table border=\"1\" class=\"dataframe\">\n",
       "  <thead>\n",
       "    <tr style=\"text-align: right;\">\n",
       "      <th></th>\n",
       "      <th>H_m</th>\n",
       "      <th>SWD_Wm2</th>\n",
       "      <th>STD_SWD</th>\n",
       "      <th>DIR_Wm2</th>\n",
       "      <th>STD_DIR</th>\n",
       "      <th>DIF_Wm2</th>\n",
       "      <th>STD_DIF</th>\n",
       "      <th>LWD_Wm2</th>\n",
       "      <th>STD_LWD</th>\n",
       "      <th>SWU_Wm2</th>\n",
       "      <th>LWU_Wm2</th>\n",
       "      <th>T_degC</th>\n",
       "      <th>RH</th>\n",
       "      <th>P_hPa</th>\n",
       "    </tr>\n",
       "  </thead>\n",
       "  <tbody>\n",
       "    <tr>\n",
       "      <th>count</th>\n",
       "      <td>44640.0</td>\n",
       "      <td>44630.000000</td>\n",
       "      <td>44637.000000</td>\n",
       "      <td>44623.000000</td>\n",
       "      <td>44623.000000</td>\n",
       "      <td>44632.000000</td>\n",
       "      <td>44632.000000</td>\n",
       "      <td>44589.000000</td>\n",
       "      <td>44637.000000</td>\n",
       "      <td>44640.000000</td>\n",
       "      <td>44640.000000</td>\n",
       "      <td>44640.000000</td>\n",
       "      <td>44640.000000</td>\n",
       "      <td>44640.000000</td>\n",
       "    </tr>\n",
       "    <tr>\n",
       "      <th>mean</th>\n",
       "      <td>2.0</td>\n",
       "      <td>318.046516</td>\n",
       "      <td>3.269498</td>\n",
       "      <td>348.581987</td>\n",
       "      <td>3.916621</td>\n",
       "      <td>65.294542</td>\n",
       "      <td>0.349209</td>\n",
       "      <td>342.350692</td>\n",
       "      <td>0.224545</td>\n",
       "      <td>110.445004</td>\n",
       "      <td>455.054032</td>\n",
       "      <td>22.525101</td>\n",
       "      <td>39.586891</td>\n",
       "      <td>965.043302</td>\n",
       "    </tr>\n",
       "    <tr>\n",
       "      <th>std</th>\n",
       "      <td>0.0</td>\n",
       "      <td>401.239735</td>\n",
       "      <td>19.032068</td>\n",
       "      <td>412.247947</td>\n",
       "      <td>21.608338</td>\n",
       "      <td>92.513191</td>\n",
       "      <td>1.290990</td>\n",
       "      <td>36.968507</td>\n",
       "      <td>0.354692</td>\n",
       "      <td>134.875619</td>\n",
       "      <td>79.024957</td>\n",
       "      <td>7.340310</td>\n",
       "      <td>24.702667</td>\n",
       "      <td>1.637144</td>\n",
       "    </tr>\n",
       "    <tr>\n",
       "      <th>min</th>\n",
       "      <td>2.0</td>\n",
       "      <td>-8.000000</td>\n",
       "      <td>0.000000</td>\n",
       "      <td>-1.000000</td>\n",
       "      <td>0.000000</td>\n",
       "      <td>-9.000000</td>\n",
       "      <td>0.000000</td>\n",
       "      <td>266.000000</td>\n",
       "      <td>0.000000</td>\n",
       "      <td>-2.000000</td>\n",
       "      <td>338.000000</td>\n",
       "      <td>9.200000</td>\n",
       "      <td>5.200000</td>\n",
       "      <td>960.000000</td>\n",
       "    </tr>\n",
       "    <tr>\n",
       "      <th>25%</th>\n",
       "      <td>2.0</td>\n",
       "      <td>-2.000000</td>\n",
       "      <td>0.000000</td>\n",
       "      <td>0.000000</td>\n",
       "      <td>0.000000</td>\n",
       "      <td>-2.000000</td>\n",
       "      <td>0.000000</td>\n",
       "      <td>313.000000</td>\n",
       "      <td>0.100000</td>\n",
       "      <td>0.000000</td>\n",
       "      <td>388.000000</td>\n",
       "      <td>16.200000</td>\n",
       "      <td>18.000000</td>\n",
       "      <td>964.000000</td>\n",
       "    </tr>\n",
       "    <tr>\n",
       "      <th>50%</th>\n",
       "      <td>2.0</td>\n",
       "      <td>27.000000</td>\n",
       "      <td>0.300000</td>\n",
       "      <td>0.000000</td>\n",
       "      <td>0.000000</td>\n",
       "      <td>19.000000</td>\n",
       "      <td>0.100000</td>\n",
       "      <td>340.000000</td>\n",
       "      <td>0.100000</td>\n",
       "      <td>11.000000</td>\n",
       "      <td>432.000000</td>\n",
       "      <td>22.400000</td>\n",
       "      <td>33.100000</td>\n",
       "      <td>965.000000</td>\n",
       "    </tr>\n",
       "    <tr>\n",
       "      <th>75%</th>\n",
       "      <td>2.0</td>\n",
       "      <td>694.000000</td>\n",
       "      <td>1.000000</td>\n",
       "      <td>813.000000</td>\n",
       "      <td>0.900000</td>\n",
       "      <td>113.000000</td>\n",
       "      <td>0.200000</td>\n",
       "      <td>368.000000</td>\n",
       "      <td>0.300000</td>\n",
       "      <td>245.000000</td>\n",
       "      <td>522.000000</td>\n",
       "      <td>28.400000</td>\n",
       "      <td>58.900000</td>\n",
       "      <td>966.000000</td>\n",
       "    </tr>\n",
       "    <tr>\n",
       "      <th>max</th>\n",
       "      <td>2.0</td>\n",
       "      <td>1383.000000</td>\n",
       "      <td>337.800000</td>\n",
       "      <td>1066.000000</td>\n",
       "      <td>383.100000</td>\n",
       "      <td>659.000000</td>\n",
       "      <td>51.500000</td>\n",
       "      <td>456.000000</td>\n",
       "      <td>18.600000</td>\n",
       "      <td>454.000000</td>\n",
       "      <td>657.000000</td>\n",
       "      <td>43.500000</td>\n",
       "      <td>94.800000</td>\n",
       "      <td>969.000000</td>\n",
       "    </tr>\n",
       "  </tbody>\n",
       "</table>\n",
       "</div>"
      ],
      "text/plain": [
       "           H_m       SWD_Wm2       STD_SWD       DIR_Wm2       STD_DIR  \\\n",
       "count  44640.0  44630.000000  44637.000000  44623.000000  44623.000000   \n",
       "mean       2.0    318.046516      3.269498    348.581987      3.916621   \n",
       "std        0.0    401.239735     19.032068    412.247947     21.608338   \n",
       "min        2.0     -8.000000      0.000000     -1.000000      0.000000   \n",
       "25%        2.0     -2.000000      0.000000      0.000000      0.000000   \n",
       "50%        2.0     27.000000      0.300000      0.000000      0.000000   \n",
       "75%        2.0    694.000000      1.000000    813.000000      0.900000   \n",
       "max        2.0   1383.000000    337.800000   1066.000000    383.100000   \n",
       "\n",
       "            DIF_Wm2       STD_DIF       LWD_Wm2       STD_LWD       SWU_Wm2  \\\n",
       "count  44632.000000  44632.000000  44589.000000  44637.000000  44640.000000   \n",
       "mean      65.294542      0.349209    342.350692      0.224545    110.445004   \n",
       "std       92.513191      1.290990     36.968507      0.354692    134.875619   \n",
       "min       -9.000000      0.000000    266.000000      0.000000     -2.000000   \n",
       "25%       -2.000000      0.000000    313.000000      0.100000      0.000000   \n",
       "50%       19.000000      0.100000    340.000000      0.100000     11.000000   \n",
       "75%      113.000000      0.200000    368.000000      0.300000    245.000000   \n",
       "max      659.000000     51.500000    456.000000     18.600000    454.000000   \n",
       "\n",
       "            LWU_Wm2        T_degC            RH         P_hPa  \n",
       "count  44640.000000  44640.000000  44640.000000  44640.000000  \n",
       "mean     455.054032     22.525101     39.586891    965.043302  \n",
       "std       79.024957      7.340310     24.702667      1.637144  \n",
       "min      338.000000      9.200000      5.200000    960.000000  \n",
       "25%      388.000000     16.200000     18.000000    964.000000  \n",
       "50%      432.000000     22.400000     33.100000    965.000000  \n",
       "75%      522.000000     28.400000     58.900000    966.000000  \n",
       "max      657.000000     43.500000     94.800000    969.000000  "
      ]
     },
     "execution_count": 19,
     "metadata": {},
     "output_type": "execute_result"
    }
   ],
   "source": [
    "bsrn.describe()"
   ]
  },
  {
   "cell_type": "code",
   "execution_count": 18,
   "metadata": {},
   "outputs": [
    {
     "data": {
      "text/plain": [
       "pandas.core.frame.DataFrame"
      ]
     },
     "execution_count": 18,
     "metadata": {},
     "output_type": "execute_result"
    }
   ],
   "source": [
    "type(bsrn)"
   ]
  },
  {
   "cell_type": "markdown",
   "metadata": {},
   "source": [
    "Both `df.head()` and `df.tail()` can also accept an integer argument, e.g. `df.head(n)`, where the first `n` rows will be printed.\n",
    "\n",
    "<div class=\"example\">\n",
    "    ✏️ <b> Try it. </b> \n",
    "    Print the first and last 10 rows of <code>bsrn</code> using <code>df.head()</code> and <code>df.tail()</code>.\n",
    "</div>"
   ]
  },
  {
   "cell_type": "code",
   "execution_count": 20,
   "metadata": {},
   "outputs": [
    {
     "data": {
      "text/html": [
       "<div>\n",
       "<style scoped>\n",
       "    .dataframe tbody tr th:only-of-type {\n",
       "        vertical-align: middle;\n",
       "    }\n",
       "\n",
       "    .dataframe tbody tr th {\n",
       "        vertical-align: top;\n",
       "    }\n",
       "\n",
       "    .dataframe thead th {\n",
       "        text-align: right;\n",
       "    }\n",
       "</style>\n",
       "<table border=\"1\" class=\"dataframe\">\n",
       "  <thead>\n",
       "    <tr style=\"text-align: right;\">\n",
       "      <th></th>\n",
       "      <th>DATE</th>\n",
       "      <th>H_m</th>\n",
       "      <th>SWD_Wm2</th>\n",
       "      <th>STD_SWD</th>\n",
       "      <th>DIR_Wm2</th>\n",
       "      <th>STD_DIR</th>\n",
       "      <th>DIF_Wm2</th>\n",
       "      <th>STD_DIF</th>\n",
       "      <th>LWD_Wm2</th>\n",
       "      <th>STD_LWD</th>\n",
       "      <th>SWU_Wm2</th>\n",
       "      <th>LWU_Wm2</th>\n",
       "      <th>T_degC</th>\n",
       "      <th>RH</th>\n",
       "      <th>P_hPa</th>\n",
       "    </tr>\n",
       "  </thead>\n",
       "  <tbody>\n",
       "    <tr>\n",
       "      <th>44635</th>\n",
       "      <td>2019-10-31 23:55:00</td>\n",
       "      <td>2</td>\n",
       "      <td>-2.0</td>\n",
       "      <td>0.0</td>\n",
       "      <td>0.0</td>\n",
       "      <td>0.0</td>\n",
       "      <td>-2.0</td>\n",
       "      <td>0.0</td>\n",
       "      <td>380.0</td>\n",
       "      <td>0.1</td>\n",
       "      <td>0</td>\n",
       "      <td>423</td>\n",
       "      <td>23.0</td>\n",
       "      <td>35.6</td>\n",
       "      <td>964</td>\n",
       "    </tr>\n",
       "    <tr>\n",
       "      <th>44636</th>\n",
       "      <td>2019-10-31 23:56:00</td>\n",
       "      <td>2</td>\n",
       "      <td>-2.0</td>\n",
       "      <td>0.0</td>\n",
       "      <td>0.0</td>\n",
       "      <td>0.0</td>\n",
       "      <td>-2.0</td>\n",
       "      <td>0.0</td>\n",
       "      <td>380.0</td>\n",
       "      <td>0.1</td>\n",
       "      <td>0</td>\n",
       "      <td>423</td>\n",
       "      <td>23.1</td>\n",
       "      <td>35.5</td>\n",
       "      <td>964</td>\n",
       "    </tr>\n",
       "    <tr>\n",
       "      <th>44637</th>\n",
       "      <td>2019-10-31 23:57:00</td>\n",
       "      <td>2</td>\n",
       "      <td>-2.0</td>\n",
       "      <td>0.0</td>\n",
       "      <td>0.0</td>\n",
       "      <td>0.0</td>\n",
       "      <td>-2.0</td>\n",
       "      <td>0.0</td>\n",
       "      <td>380.0</td>\n",
       "      <td>0.1</td>\n",
       "      <td>0</td>\n",
       "      <td>423</td>\n",
       "      <td>23.0</td>\n",
       "      <td>35.3</td>\n",
       "      <td>964</td>\n",
       "    </tr>\n",
       "    <tr>\n",
       "      <th>44638</th>\n",
       "      <td>2019-10-31 23:58:00</td>\n",
       "      <td>2</td>\n",
       "      <td>-2.0</td>\n",
       "      <td>0.0</td>\n",
       "      <td>0.0</td>\n",
       "      <td>0.0</td>\n",
       "      <td>-2.0</td>\n",
       "      <td>0.0</td>\n",
       "      <td>381.0</td>\n",
       "      <td>0.2</td>\n",
       "      <td>0</td>\n",
       "      <td>423</td>\n",
       "      <td>23.0</td>\n",
       "      <td>35.2</td>\n",
       "      <td>964</td>\n",
       "    </tr>\n",
       "    <tr>\n",
       "      <th>44639</th>\n",
       "      <td>2019-10-31 23:59:00</td>\n",
       "      <td>2</td>\n",
       "      <td>-2.0</td>\n",
       "      <td>0.0</td>\n",
       "      <td>0.0</td>\n",
       "      <td>0.0</td>\n",
       "      <td>-2.0</td>\n",
       "      <td>0.0</td>\n",
       "      <td>381.0</td>\n",
       "      <td>0.1</td>\n",
       "      <td>0</td>\n",
       "      <td>423</td>\n",
       "      <td>23.1</td>\n",
       "      <td>35.0</td>\n",
       "      <td>964</td>\n",
       "    </tr>\n",
       "  </tbody>\n",
       "</table>\n",
       "</div>"
      ],
      "text/plain": [
       "                      DATE  H_m  SWD_Wm2  STD_SWD  DIR_Wm2  STD_DIR  DIF_Wm2  \\\n",
       "44635  2019-10-31 23:55:00    2     -2.0      0.0      0.0      0.0     -2.0   \n",
       "44636  2019-10-31 23:56:00    2     -2.0      0.0      0.0      0.0     -2.0   \n",
       "44637  2019-10-31 23:57:00    2     -2.0      0.0      0.0      0.0     -2.0   \n",
       "44638  2019-10-31 23:58:00    2     -2.0      0.0      0.0      0.0     -2.0   \n",
       "44639  2019-10-31 23:59:00    2     -2.0      0.0      0.0      0.0     -2.0   \n",
       "\n",
       "       STD_DIF  LWD_Wm2  STD_LWD  SWU_Wm2  LWU_Wm2  T_degC    RH  P_hPa  \n",
       "44635      0.0    380.0      0.1        0      423    23.0  35.6    964  \n",
       "44636      0.0    380.0      0.1        0      423    23.1  35.5    964  \n",
       "44637      0.0    380.0      0.1        0      423    23.0  35.3    964  \n",
       "44638      0.0    381.0      0.2        0      423    23.0  35.2    964  \n",
       "44639      0.0    381.0      0.1        0      423    23.1  35.0    964  "
      ]
     },
     "execution_count": 20,
     "metadata": {},
     "output_type": "execute_result"
    }
   ],
   "source": [
    "bsrn.head(10)\n",
    "bsrn.tail(5)"
   ]
  },
  {
   "cell_type": "code",
   "execution_count": 21,
   "metadata": {},
   "outputs": [
    {
     "name": "stdout",
     "output_type": "stream",
     "text": [
      "<class 'pandas.core.frame.DataFrame'>\n",
      "RangeIndex: 44640 entries, 0 to 44639\n",
      "Data columns (total 15 columns):\n",
      " #   Column   Non-Null Count  Dtype  \n",
      "---  ------   --------------  -----  \n",
      " 0   DATE     44640 non-null  object \n",
      " 1   H_m      44640 non-null  int64  \n",
      " 2   SWD_Wm2  44630 non-null  float64\n",
      " 3   STD_SWD  44637 non-null  float64\n",
      " 4   DIR_Wm2  44623 non-null  float64\n",
      " 5   STD_DIR  44623 non-null  float64\n",
      " 6   DIF_Wm2  44632 non-null  float64\n",
      " 7   STD_DIF  44632 non-null  float64\n",
      " 8   LWD_Wm2  44589 non-null  float64\n",
      " 9   STD_LWD  44637 non-null  float64\n",
      " 10  SWU_Wm2  44640 non-null  int64  \n",
      " 11  LWU_Wm2  44640 non-null  int64  \n",
      " 12  T_degC   44640 non-null  float64\n",
      " 13  RH       44640 non-null  float64\n",
      " 14  P_hPa    44640 non-null  int64  \n",
      "dtypes: float64(10), int64(4), object(1)\n",
      "memory usage: 5.1+ MB\n"
     ]
    }
   ],
   "source": [
    "bsrn.info()"
   ]
  },
  {
   "cell_type": "markdown",
   "metadata": {},
   "source": [
    "`df.info()` provides several different pieces of info about the DataFrame that are sometimes useful to retrieve separately\n",
    "\n",
    "ex.: `df.index()` and `df.columns()`\n",
    "\n",
    "- `df.index()` returns the index as an iterable obkect for use in plotting\n",
    "- `df.columns()` returns column names as an index object which can be used in a for loop or to reset the column names"
   ]
  },
  {
   "cell_type": "markdown",
   "metadata": {},
   "source": [
    "The `df.info()` method provides several different pieces of information about the DataFrame that are sometimes useful to retrieve separately. For example, `df.index` returns the index as an iterable object for use in plotting and the `df.columns` method returns the column names as an index object which can be used in a `for` loop or to reset the column names. These and other descriptive DataFrame methods are summarized in the table below.\n",
    "\n",
    "\n",
    "| Method | Description |\n",
    "| :----- | :---------- |\n",
    "| <span style=\"font-family: Lucida Console, Courier, monospace; font-weight: bold\"> df.info() </span> | Prints a concise summary of the DataFrame |\n",
    "| <span style=\"font-family: Lucida Console, Courier, monospace; font-weight: bold\"> df.head(<i>n</i>) </span> | Returns the first *n* rows of the DataFrame |\n",
    "| <span style=\"font-family: Lucida Console, Courier, monospace; font-weight: bold\"> df.tail(<i>n</i>) </span> | Returns the last *n* rows of the DataFrame |\n",
    "| <span style=\"font-family: Lucida Console, Courier, monospace; font-weight: bold\"> df.index </span> | Returns the index range (number of rows) |\n",
    "| <span style=\"font-family: Lucida Console, Courier, monospace; font-weight: bold\"> df.columns </span> | Returns the column names |\n",
    "| <span style=\"font-family: Lucida Console, Courier, monospace; font-weight: bold\"> df.dtypes </span> | Returns a Series with the data types of each column indexed by column name |\n",
    "| <span style=\"font-family: Lucida Console, Courier, monospace; font-weight: bold\"> df.size </span> | Returns the total number of values in the DataFrame as an `int` |\n",
    "| <span style=\"font-family: Lucida Console, Courier, monospace; font-weight: bold\"> df.shape </span> | Returns the shape of the DataFrame as a tuple (*rows*,*columns*) |\n",
    "| <span style=\"font-family: Lucida Console, Courier, monospace; font-weight: bold\"> df.values </span> | Returns the DataFrame values as a NumPy array (not recommended) |\n",
    "| <span style=\"font-family: Lucida Console, Courier, monospace; font-weight: bold\"> df.describe() </span> | Returns a DataFrame with summary statistics of each column |"
   ]
  },
  {
   "cell_type": "code",
   "execution_count": 25,
   "metadata": {},
   "outputs": [
    {
     "data": {
      "text/html": [
       "<div>\n",
       "<style scoped>\n",
       "    .dataframe tbody tr th:only-of-type {\n",
       "        vertical-align: middle;\n",
       "    }\n",
       "\n",
       "    .dataframe tbody tr th {\n",
       "        vertical-align: top;\n",
       "    }\n",
       "\n",
       "    .dataframe thead th {\n",
       "        text-align: right;\n",
       "    }\n",
       "</style>\n",
       "<table border=\"1\" class=\"dataframe\">\n",
       "  <thead>\n",
       "    <tr style=\"text-align: right;\">\n",
       "      <th></th>\n",
       "      <th>DATE</th>\n",
       "      <th>H_m</th>\n",
       "      <th>SWD_Wm2</th>\n",
       "      <th>STD_SWD</th>\n",
       "      <th>DIR_Wm2</th>\n",
       "      <th>STD_DIR</th>\n",
       "      <th>DIF_Wm2</th>\n",
       "      <th>STD_DIF</th>\n",
       "      <th>LWD_Wm2</th>\n",
       "      <th>STD_LWD</th>\n",
       "      <th>SWU_Wm2</th>\n",
       "      <th>LWU_Wm2</th>\n",
       "      <th>T_degC</th>\n",
       "      <th>RH</th>\n",
       "      <th>P_hPa</th>\n",
       "    </tr>\n",
       "  </thead>\n",
       "  <tbody>\n",
       "    <tr>\n",
       "      <th>0</th>\n",
       "      <td>2019-10-01 00:00:00</td>\n",
       "      <td>2</td>\n",
       "      <td>-3.0</td>\n",
       "      <td>0.0</td>\n",
       "      <td>0.0</td>\n",
       "      <td>0.0</td>\n",
       "      <td>-3.0</td>\n",
       "      <td>0.0</td>\n",
       "      <td>300.0</td>\n",
       "      <td>0.1</td>\n",
       "      <td>0</td>\n",
       "      <td>383</td>\n",
       "      <td>16.2</td>\n",
       "      <td>30.7</td>\n",
       "      <td>966</td>\n",
       "    </tr>\n",
       "  </tbody>\n",
       "</table>\n",
       "</div>"
      ],
      "text/plain": [
       "                  DATE  H_m  SWD_Wm2  STD_SWD  DIR_Wm2  STD_DIR  DIF_Wm2  \\\n",
       "0  2019-10-01 00:00:00    2     -3.0      0.0      0.0      0.0     -3.0   \n",
       "\n",
       "   STD_DIF  LWD_Wm2  STD_LWD  SWU_Wm2  LWU_Wm2  T_degC    RH  P_hPa  \n",
       "0      0.0    300.0      0.1        0      383    16.2  30.7    966  "
      ]
     },
     "execution_count": 25,
     "metadata": {},
     "output_type": "execute_result"
    }
   ],
   "source": [
    "bsrn.head(1)\n"
   ]
  },
  {
   "cell_type": "markdown",
   "metadata": {},
   "source": [
    "the first element here might not be interpreted (currently) as datetime info"
   ]
  },
  {
   "cell_type": "code",
   "execution_count": 29,
   "metadata": {},
   "outputs": [
    {
     "data": {
      "text/plain": [
       "669600"
      ]
     },
     "execution_count": 29,
     "metadata": {},
     "output_type": "execute_result"
    }
   ],
   "source": [
    "bsrn.size"
   ]
  },
  {
   "cell_type": "markdown",
   "metadata": {},
   "source": [
    "### DataFrame indexing + data selection\n",
    "<hr style=\"border-top: 0.2px solid gray; margin-top: 12px; margin-bottom: 1px\"></hr>\n",
    "\n",
    "Because DataFrames can contain *labels* as well as *indices*, indexing in pandas DataFrames is a bit more complicated than we've seen with strings, lists, and arrays. Generally speaking, pandas allows indexing by either the integer index or the label, but the syntax is a bit different for each. \n",
    "\n",
    "The index operator, which refers to the square brackets following an object `[]`, does not work quite like we might expect it to.\n"
   ]
  },
  {
   "cell_type": "markdown",
   "metadata": {},
   "source": [
    "we need to fix the time stamps... "
   ]
  },
  {
   "cell_type": "code",
   "execution_count": 30,
   "metadata": {},
   "outputs": [
    {
     "data": {
      "text/plain": [
       "RangeIndex(start=0, stop=44640, step=1)"
      ]
     },
     "execution_count": 30,
     "metadata": {},
     "output_type": "execute_result"
    }
   ],
   "source": [
    "bsrn.index"
   ]
  },
  {
   "cell_type": "code",
   "execution_count": 31,
   "metadata": {},
   "outputs": [
    {
     "data": {
      "text/plain": [
       "Index(['DATE', 'H_m', 'SWD_Wm2', 'STD_SWD', 'DIR_Wm2', 'STD_DIR', 'DIF_Wm2',\n",
       "       'STD_DIF', 'LWD_Wm2', 'STD_LWD', 'SWU_Wm2', 'LWU_Wm2', 'T_degC', 'RH',\n",
       "       'P_hPa'],\n",
       "      dtype='object')"
      ]
     },
     "execution_count": 31,
     "metadata": {},
     "output_type": "execute_result"
    }
   ],
   "source": [
    "bsrn.columns"
   ]
  },
  {
   "cell_type": "code",
   "execution_count": 34,
   "metadata": {},
   "outputs": [],
   "source": [
    "# 2nd row, data in the 4th column\n",
    "# bsrn[1][3]\n",
    "# doesn't like this -- not an array of arrays"
   ]
  },
  {
   "cell_type": "markdown",
   "metadata": {},
   "source": [
    "series can be indexed w [] notation, DataFrames cannot... ?\n",
    "- the columns aren't numbered 0:... \n",
    "- not an array of arrays, it's a DataFrame -- the columns have names"
   ]
  },
  {
   "cell_type": "markdown",
   "metadata": {},
   "source": [
    "introducing... `iloc` !!\n",
    "(index location)"
   ]
  },
  {
   "cell_type": "code",
   "execution_count": 35,
   "metadata": {},
   "outputs": [
    {
     "data": {
      "text/plain": [
       "0.0"
      ]
     },
     "execution_count": 35,
     "metadata": {},
     "output_type": "execute_result"
    }
   ],
   "source": [
    "bsrn.iloc[1,3]"
   ]
  },
  {
   "cell_type": "code",
   "execution_count": 36,
   "metadata": {},
   "outputs": [
    {
     "data": {
      "text/plain": [
       "19.6"
      ]
     },
     "execution_count": 36,
     "metadata": {},
     "output_type": "execute_result"
    }
   ],
   "source": [
    "bsrn.iloc[1434,12]"
   ]
  },
  {
   "cell_type": "markdown",
   "metadata": {},
   "source": [
    "\n",
    "`df.iloc` acts just like the index operator works with arrays. In addition to indexing a single value, `df.iloc` can be used to select multiple rows and columns via slicing: `df.iloc[row_start:row_end:row_step, col_start:col_end:col_step]`."
   ]
  },
  {
   "cell_type": "code",
   "execution_count": 38,
   "metadata": {},
   "outputs": [
    {
     "data": {
      "text/html": [
       "<div>\n",
       "<style scoped>\n",
       "    .dataframe tbody tr th:only-of-type {\n",
       "        vertical-align: middle;\n",
       "    }\n",
       "\n",
       "    .dataframe tbody tr th {\n",
       "        vertical-align: top;\n",
       "    }\n",
       "\n",
       "    .dataframe thead th {\n",
       "        text-align: right;\n",
       "    }\n",
       "</style>\n",
       "<table border=\"1\" class=\"dataframe\">\n",
       "  <thead>\n",
       "    <tr style=\"text-align: right;\">\n",
       "      <th></th>\n",
       "      <th>T_degC</th>\n",
       "      <th>RH</th>\n",
       "      <th>P_hPa</th>\n",
       "    </tr>\n",
       "  </thead>\n",
       "  <tbody>\n",
       "    <tr>\n",
       "      <th>1434</th>\n",
       "      <td>19.6</td>\n",
       "      <td>17.6</td>\n",
       "      <td>965</td>\n",
       "    </tr>\n",
       "    <tr>\n",
       "      <th>1435</th>\n",
       "      <td>19.5</td>\n",
       "      <td>17.5</td>\n",
       "      <td>965</td>\n",
       "    </tr>\n",
       "    <tr>\n",
       "      <th>1436</th>\n",
       "      <td>19.4</td>\n",
       "      <td>17.4</td>\n",
       "      <td>965</td>\n",
       "    </tr>\n",
       "    <tr>\n",
       "      <th>1437</th>\n",
       "      <td>19.1</td>\n",
       "      <td>17.5</td>\n",
       "      <td>965</td>\n",
       "    </tr>\n",
       "    <tr>\n",
       "      <th>1438</th>\n",
       "      <td>19.4</td>\n",
       "      <td>17.6</td>\n",
       "      <td>965</td>\n",
       "    </tr>\n",
       "    <tr>\n",
       "      <th>1439</th>\n",
       "      <td>19.3</td>\n",
       "      <td>17.5</td>\n",
       "      <td>965</td>\n",
       "    </tr>\n",
       "  </tbody>\n",
       "</table>\n",
       "</div>"
      ],
      "text/plain": [
       "      T_degC    RH  P_hPa\n",
       "1434    19.6  17.6    965\n",
       "1435    19.5  17.5    965\n",
       "1436    19.4  17.4    965\n",
       "1437    19.1  17.5    965\n",
       "1438    19.4  17.6    965\n",
       "1439    19.3  17.5    965"
      ]
     },
     "execution_count": 38,
     "metadata": {},
     "output_type": "execute_result"
    }
   ],
   "source": [
    "bsrn.iloc[1434:1440,12:]"
   ]
  },
  {
   "cell_type": "code",
   "execution_count": 42,
   "metadata": {},
   "outputs": [
    {
     "data": {
      "text/html": [
       "<div>\n",
       "<style scoped>\n",
       "    .dataframe tbody tr th:only-of-type {\n",
       "        vertical-align: middle;\n",
       "    }\n",
       "\n",
       "    .dataframe tbody tr th {\n",
       "        vertical-align: top;\n",
       "    }\n",
       "\n",
       "    .dataframe thead th {\n",
       "        text-align: right;\n",
       "    }\n",
       "</style>\n",
       "<table border=\"1\" class=\"dataframe\">\n",
       "  <thead>\n",
       "    <tr style=\"text-align: right;\">\n",
       "      <th></th>\n",
       "      <th>T_degC</th>\n",
       "      <th>RH</th>\n",
       "      <th>P_hPa</th>\n",
       "    </tr>\n",
       "  </thead>\n",
       "  <tbody>\n",
       "    <tr>\n",
       "      <th>44634</th>\n",
       "      <td>22.9</td>\n",
       "      <td>35.7</td>\n",
       "      <td>964</td>\n",
       "    </tr>\n",
       "    <tr>\n",
       "      <th>44635</th>\n",
       "      <td>23.0</td>\n",
       "      <td>35.6</td>\n",
       "      <td>964</td>\n",
       "    </tr>\n",
       "    <tr>\n",
       "      <th>44636</th>\n",
       "      <td>23.1</td>\n",
       "      <td>35.5</td>\n",
       "      <td>964</td>\n",
       "    </tr>\n",
       "    <tr>\n",
       "      <th>44637</th>\n",
       "      <td>23.0</td>\n",
       "      <td>35.3</td>\n",
       "      <td>964</td>\n",
       "    </tr>\n",
       "    <tr>\n",
       "      <th>44638</th>\n",
       "      <td>23.0</td>\n",
       "      <td>35.2</td>\n",
       "      <td>964</td>\n",
       "    </tr>\n",
       "    <tr>\n",
       "      <th>44639</th>\n",
       "      <td>23.1</td>\n",
       "      <td>35.0</td>\n",
       "      <td>964</td>\n",
       "    </tr>\n",
       "  </tbody>\n",
       "</table>\n",
       "</div>"
      ],
      "text/plain": [
       "       T_degC    RH  P_hPa\n",
       "44634    22.9  35.7    964\n",
       "44635    23.0  35.6    964\n",
       "44636    23.1  35.5    964\n",
       "44637    23.0  35.3    964\n",
       "44638    23.0  35.2    964\n",
       "44639    23.1  35.0    964"
      ]
     },
     "execution_count": 42,
     "metadata": {},
     "output_type": "execute_result"
    }
   ],
   "source": [
    "bsrn.iloc[-6:,-3:] \n",
    "# go 6 rows from the bottom to the end,\n",
    "# 3 columns from the end to the end"
   ]
  },
  {
   "cell_type": "code",
   "execution_count": 37,
   "metadata": {},
   "outputs": [
    {
     "data": {
      "text/html": [
       "<div>\n",
       "<style scoped>\n",
       "    .dataframe tbody tr th:only-of-type {\n",
       "        vertical-align: middle;\n",
       "    }\n",
       "\n",
       "    .dataframe tbody tr th {\n",
       "        vertical-align: top;\n",
       "    }\n",
       "\n",
       "    .dataframe thead th {\n",
       "        text-align: right;\n",
       "    }\n",
       "</style>\n",
       "<table border=\"1\" class=\"dataframe\">\n",
       "  <thead>\n",
       "    <tr style=\"text-align: right;\">\n",
       "      <th></th>\n",
       "      <th>DATE</th>\n",
       "      <th>H_m</th>\n",
       "      <th>SWD_Wm2</th>\n",
       "      <th>STD_SWD</th>\n",
       "      <th>DIR_Wm2</th>\n",
       "    </tr>\n",
       "  </thead>\n",
       "  <tbody>\n",
       "    <tr>\n",
       "      <th>0</th>\n",
       "      <td>2019-10-01 00:00:00</td>\n",
       "      <td>2</td>\n",
       "      <td>-3.0</td>\n",
       "      <td>0.0</td>\n",
       "      <td>0.0</td>\n",
       "    </tr>\n",
       "    <tr>\n",
       "      <th>40</th>\n",
       "      <td>2019-10-01 00:40:00</td>\n",
       "      <td>2</td>\n",
       "      <td>-3.0</td>\n",
       "      <td>0.0</td>\n",
       "      <td>0.0</td>\n",
       "    </tr>\n",
       "    <tr>\n",
       "      <th>80</th>\n",
       "      <td>2019-10-01 01:20:00</td>\n",
       "      <td>2</td>\n",
       "      <td>-3.0</td>\n",
       "      <td>0.0</td>\n",
       "      <td>0.0</td>\n",
       "    </tr>\n",
       "    <tr>\n",
       "      <th>120</th>\n",
       "      <td>2019-10-01 02:00:00</td>\n",
       "      <td>2</td>\n",
       "      <td>-3.0</td>\n",
       "      <td>0.0</td>\n",
       "      <td>0.0</td>\n",
       "    </tr>\n",
       "    <tr>\n",
       "      <th>160</th>\n",
       "      <td>2019-10-01 02:40:00</td>\n",
       "      <td>2</td>\n",
       "      <td>-2.0</td>\n",
       "      <td>0.0</td>\n",
       "      <td>0.0</td>\n",
       "    </tr>\n",
       "    <tr>\n",
       "      <th>...</th>\n",
       "      <td>...</td>\n",
       "      <td>...</td>\n",
       "      <td>...</td>\n",
       "      <td>...</td>\n",
       "      <td>...</td>\n",
       "    </tr>\n",
       "    <tr>\n",
       "      <th>44440</th>\n",
       "      <td>2019-10-31 20:40:00</td>\n",
       "      <td>2</td>\n",
       "      <td>-2.0</td>\n",
       "      <td>0.0</td>\n",
       "      <td>0.0</td>\n",
       "    </tr>\n",
       "    <tr>\n",
       "      <th>44480</th>\n",
       "      <td>2019-10-31 21:20:00</td>\n",
       "      <td>2</td>\n",
       "      <td>-2.0</td>\n",
       "      <td>0.0</td>\n",
       "      <td>0.0</td>\n",
       "    </tr>\n",
       "    <tr>\n",
       "      <th>44520</th>\n",
       "      <td>2019-10-31 22:00:00</td>\n",
       "      <td>2</td>\n",
       "      <td>-2.0</td>\n",
       "      <td>0.0</td>\n",
       "      <td>0.0</td>\n",
       "    </tr>\n",
       "    <tr>\n",
       "      <th>44560</th>\n",
       "      <td>2019-10-31 22:40:00</td>\n",
       "      <td>2</td>\n",
       "      <td>-2.0</td>\n",
       "      <td>0.0</td>\n",
       "      <td>0.0</td>\n",
       "    </tr>\n",
       "    <tr>\n",
       "      <th>44600</th>\n",
       "      <td>2019-10-31 23:20:00</td>\n",
       "      <td>2</td>\n",
       "      <td>-2.0</td>\n",
       "      <td>0.0</td>\n",
       "      <td>0.0</td>\n",
       "    </tr>\n",
       "  </tbody>\n",
       "</table>\n",
       "<p>1116 rows × 5 columns</p>\n",
       "</div>"
      ],
      "text/plain": [
       "                      DATE  H_m  SWD_Wm2  STD_SWD  DIR_Wm2\n",
       "0      2019-10-01 00:00:00    2     -3.0      0.0      0.0\n",
       "40     2019-10-01 00:40:00    2     -3.0      0.0      0.0\n",
       "80     2019-10-01 01:20:00    2     -3.0      0.0      0.0\n",
       "120    2019-10-01 02:00:00    2     -3.0      0.0      0.0\n",
       "160    2019-10-01 02:40:00    2     -2.0      0.0      0.0\n",
       "...                    ...  ...      ...      ...      ...\n",
       "44440  2019-10-31 20:40:00    2     -2.0      0.0      0.0\n",
       "44480  2019-10-31 21:20:00    2     -2.0      0.0      0.0\n",
       "44520  2019-10-31 22:00:00    2     -2.0      0.0      0.0\n",
       "44560  2019-10-31 22:40:00    2     -2.0      0.0      0.0\n",
       "44600  2019-10-31 23:20:00    2     -2.0      0.0      0.0\n",
       "\n",
       "[1116 rows x 5 columns]"
      ]
     },
     "execution_count": 37,
     "metadata": {},
     "output_type": "execute_result"
    }
   ],
   "source": [
    "bsrn.iloc[::40,:5]"
   ]
  },
  {
   "cell_type": "markdown",
   "metadata": {},
   "source": [
    "#### Row indexing"
   ]
  },
  {
   "cell_type": "markdown",
   "metadata": {},
   "source": [
    "`df.loc` locates rows based on their labels"
   ]
  },
  {
   "cell_type": "code",
   "execution_count": 43,
   "metadata": {},
   "outputs": [
    {
     "data": {
      "text/plain": [
       "DATE       2019-10-01 23:54:00\n",
       "H_m                          2\n",
       "SWD_Wm2                   -2.0\n",
       "STD_SWD                    0.0\n",
       "DIR_Wm2                    0.0\n",
       "STD_DIR                    0.0\n",
       "DIF_Wm2                   -2.0\n",
       "STD_DIF                    0.0\n",
       "LWD_Wm2                  307.0\n",
       "STD_LWD                    0.1\n",
       "SWU_Wm2                      0\n",
       "LWU_Wm2                    385\n",
       "T_degC                    19.6\n",
       "RH                        17.6\n",
       "P_hPa                      965\n",
       "Name: 1434, dtype: object"
      ]
     },
     "execution_count": 43,
     "metadata": {},
     "output_type": "execute_result"
    }
   ],
   "source": [
    "bsrn.loc[1434]"
   ]
  },
  {
   "cell_type": "code",
   "execution_count": 44,
   "metadata": {},
   "outputs": [
    {
     "data": {
      "text/plain": [
       "DATE       2019-10-01 00:00:00\n",
       "H_m                          2\n",
       "SWD_Wm2                   -3.0\n",
       "STD_SWD                    0.0\n",
       "DIR_Wm2                    0.0\n",
       "STD_DIR                    0.0\n",
       "DIF_Wm2                   -3.0\n",
       "STD_DIF                    0.0\n",
       "LWD_Wm2                  300.0\n",
       "STD_LWD                    0.1\n",
       "SWU_Wm2                      0\n",
       "LWU_Wm2                    383\n",
       "T_degC                    16.2\n",
       "RH                        30.7\n",
       "P_hPa                      966\n",
       "Name: 0, dtype: object"
      ]
     },
     "execution_count": 44,
     "metadata": {},
     "output_type": "execute_result"
    }
   ],
   "source": [
    "bsrn.loc[0]"
   ]
  },
  {
   "cell_type": "code",
   "execution_count": 45,
   "metadata": {},
   "outputs": [
    {
     "data": {
      "text/plain": [
       "pandas.core.series.Series"
      ]
     },
     "execution_count": 45,
     "metadata": {},
     "output_type": "execute_result"
    }
   ],
   "source": [
    "type(bsrn.loc[0])"
   ]
  },
  {
   "cell_type": "markdown",
   "metadata": {},
   "source": [
    "- in `df.loc`, stop value is *inclusive*"
   ]
  },
  {
   "cell_type": "code",
   "execution_count": 47,
   "metadata": {},
   "outputs": [
    {
     "data": {
      "text/html": [
       "<div>\n",
       "<style scoped>\n",
       "    .dataframe tbody tr th:only-of-type {\n",
       "        vertical-align: middle;\n",
       "    }\n",
       "\n",
       "    .dataframe tbody tr th {\n",
       "        vertical-align: top;\n",
       "    }\n",
       "\n",
       "    .dataframe thead th {\n",
       "        text-align: right;\n",
       "    }\n",
       "</style>\n",
       "<table border=\"1\" class=\"dataframe\">\n",
       "  <thead>\n",
       "    <tr style=\"text-align: right;\">\n",
       "      <th></th>\n",
       "      <th>DATE</th>\n",
       "      <th>H_m</th>\n",
       "      <th>SWD_Wm2</th>\n",
       "      <th>STD_SWD</th>\n",
       "      <th>DIR_Wm2</th>\n",
       "      <th>STD_DIR</th>\n",
       "      <th>DIF_Wm2</th>\n",
       "      <th>STD_DIF</th>\n",
       "      <th>LWD_Wm2</th>\n",
       "      <th>STD_LWD</th>\n",
       "      <th>SWU_Wm2</th>\n",
       "      <th>LWU_Wm2</th>\n",
       "      <th>T_degC</th>\n",
       "      <th>RH</th>\n",
       "      <th>P_hPa</th>\n",
       "    </tr>\n",
       "  </thead>\n",
       "  <tbody>\n",
       "    <tr>\n",
       "      <th>1434</th>\n",
       "      <td>2019-10-01 23:54:00</td>\n",
       "      <td>2</td>\n",
       "      <td>-2.0</td>\n",
       "      <td>0.0</td>\n",
       "      <td>0.0</td>\n",
       "      <td>0.0</td>\n",
       "      <td>-2.0</td>\n",
       "      <td>0.0</td>\n",
       "      <td>307.0</td>\n",
       "      <td>0.1</td>\n",
       "      <td>0</td>\n",
       "      <td>385</td>\n",
       "      <td>19.6</td>\n",
       "      <td>17.6</td>\n",
       "      <td>965</td>\n",
       "    </tr>\n",
       "    <tr>\n",
       "      <th>1435</th>\n",
       "      <td>2019-10-01 23:55:00</td>\n",
       "      <td>2</td>\n",
       "      <td>-2.0</td>\n",
       "      <td>0.0</td>\n",
       "      <td>0.0</td>\n",
       "      <td>0.0</td>\n",
       "      <td>-2.0</td>\n",
       "      <td>0.0</td>\n",
       "      <td>307.0</td>\n",
       "      <td>0.1</td>\n",
       "      <td>0</td>\n",
       "      <td>385</td>\n",
       "      <td>19.5</td>\n",
       "      <td>17.5</td>\n",
       "      <td>965</td>\n",
       "    </tr>\n",
       "    <tr>\n",
       "      <th>1436</th>\n",
       "      <td>2019-10-01 23:56:00</td>\n",
       "      <td>2</td>\n",
       "      <td>-2.0</td>\n",
       "      <td>0.0</td>\n",
       "      <td>0.0</td>\n",
       "      <td>0.0</td>\n",
       "      <td>-2.0</td>\n",
       "      <td>0.0</td>\n",
       "      <td>307.0</td>\n",
       "      <td>0.1</td>\n",
       "      <td>0</td>\n",
       "      <td>386</td>\n",
       "      <td>19.4</td>\n",
       "      <td>17.4</td>\n",
       "      <td>965</td>\n",
       "    </tr>\n",
       "    <tr>\n",
       "      <th>1437</th>\n",
       "      <td>2019-10-01 23:57:00</td>\n",
       "      <td>2</td>\n",
       "      <td>-2.0</td>\n",
       "      <td>0.0</td>\n",
       "      <td>0.0</td>\n",
       "      <td>0.0</td>\n",
       "      <td>-2.0</td>\n",
       "      <td>0.1</td>\n",
       "      <td>306.0</td>\n",
       "      <td>0.1</td>\n",
       "      <td>0</td>\n",
       "      <td>386</td>\n",
       "      <td>19.1</td>\n",
       "      <td>17.5</td>\n",
       "      <td>965</td>\n",
       "    </tr>\n",
       "    <tr>\n",
       "      <th>1438</th>\n",
       "      <td>2019-10-01 23:58:00</td>\n",
       "      <td>2</td>\n",
       "      <td>-2.0</td>\n",
       "      <td>0.0</td>\n",
       "      <td>0.0</td>\n",
       "      <td>0.0</td>\n",
       "      <td>-2.0</td>\n",
       "      <td>0.0</td>\n",
       "      <td>306.0</td>\n",
       "      <td>0.2</td>\n",
       "      <td>0</td>\n",
       "      <td>386</td>\n",
       "      <td>19.4</td>\n",
       "      <td>17.6</td>\n",
       "      <td>965</td>\n",
       "    </tr>\n",
       "    <tr>\n",
       "      <th>1439</th>\n",
       "      <td>2019-10-01 23:59:00</td>\n",
       "      <td>2</td>\n",
       "      <td>-2.0</td>\n",
       "      <td>0.0</td>\n",
       "      <td>0.0</td>\n",
       "      <td>0.0</td>\n",
       "      <td>-2.0</td>\n",
       "      <td>0.0</td>\n",
       "      <td>306.0</td>\n",
       "      <td>0.1</td>\n",
       "      <td>0</td>\n",
       "      <td>386</td>\n",
       "      <td>19.3</td>\n",
       "      <td>17.5</td>\n",
       "      <td>965</td>\n",
       "    </tr>\n",
       "    <tr>\n",
       "      <th>1440</th>\n",
       "      <td>2019-10-02 00:00:00</td>\n",
       "      <td>2</td>\n",
       "      <td>-2.0</td>\n",
       "      <td>0.0</td>\n",
       "      <td>0.0</td>\n",
       "      <td>0.0</td>\n",
       "      <td>-2.0</td>\n",
       "      <td>0.0</td>\n",
       "      <td>306.0</td>\n",
       "      <td>0.1</td>\n",
       "      <td>0</td>\n",
       "      <td>386</td>\n",
       "      <td>19.1</td>\n",
       "      <td>17.5</td>\n",
       "      <td>965</td>\n",
       "    </tr>\n",
       "  </tbody>\n",
       "</table>\n",
       "</div>"
      ],
      "text/plain": [
       "                     DATE  H_m  SWD_Wm2  STD_SWD  DIR_Wm2  STD_DIR  DIF_Wm2  \\\n",
       "1434  2019-10-01 23:54:00    2     -2.0      0.0      0.0      0.0     -2.0   \n",
       "1435  2019-10-01 23:55:00    2     -2.0      0.0      0.0      0.0     -2.0   \n",
       "1436  2019-10-01 23:56:00    2     -2.0      0.0      0.0      0.0     -2.0   \n",
       "1437  2019-10-01 23:57:00    2     -2.0      0.0      0.0      0.0     -2.0   \n",
       "1438  2019-10-01 23:58:00    2     -2.0      0.0      0.0      0.0     -2.0   \n",
       "1439  2019-10-01 23:59:00    2     -2.0      0.0      0.0      0.0     -2.0   \n",
       "1440  2019-10-02 00:00:00    2     -2.0      0.0      0.0      0.0     -2.0   \n",
       "\n",
       "      STD_DIF  LWD_Wm2  STD_LWD  SWU_Wm2  LWU_Wm2  T_degC    RH  P_hPa  \n",
       "1434      0.0    307.0      0.1        0      385    19.6  17.6    965  \n",
       "1435      0.0    307.0      0.1        0      385    19.5  17.5    965  \n",
       "1436      0.0    307.0      0.1        0      386    19.4  17.4    965  \n",
       "1437      0.1    306.0      0.1        0      386    19.1  17.5    965  \n",
       "1438      0.0    306.0      0.2        0      386    19.4  17.6    965  \n",
       "1439      0.0    306.0      0.1        0      386    19.3  17.5    965  \n",
       "1440      0.0    306.0      0.1        0      386    19.1  17.5    965  "
      ]
     },
     "execution_count": 47,
     "metadata": {},
     "output_type": "execute_result"
    }
   ],
   "source": [
    "bsrn.loc[1434:1440]"
   ]
  },
  {
   "cell_type": "code",
   "execution_count": 49,
   "metadata": {},
   "outputs": [
    {
     "data": {
      "text/plain": [
       "DATE       2019-10-01 00:00:00\n",
       "H_m                          2\n",
       "SWD_Wm2                   -3.0\n",
       "STD_SWD                    0.0\n",
       "DIR_Wm2                    0.0\n",
       "STD_DIR                    0.0\n",
       "DIF_Wm2                   -3.0\n",
       "STD_DIF                    0.0\n",
       "LWD_Wm2                  300.0\n",
       "STD_LWD                    0.1\n",
       "SWU_Wm2                      0\n",
       "LWU_Wm2                    383\n",
       "T_degC                    16.2\n",
       "RH                        30.7\n",
       "P_hPa                      966\n",
       "Name: 0, dtype: object"
      ]
     },
     "execution_count": 49,
     "metadata": {},
     "output_type": "execute_result"
    }
   ],
   "source": [
    "bsrn.loc[0]"
   ]
  },
  {
   "cell_type": "code",
   "execution_count": 51,
   "metadata": {},
   "outputs": [
    {
     "data": {
      "text/plain": [
       "30.7"
      ]
     },
     "execution_count": 51,
     "metadata": {},
     "output_type": "execute_result"
    }
   ],
   "source": [
    "one_row = bsrn.loc[0]\n",
    "# you can index into this row -- type series \n",
    "# using strings or numbers\n",
    "one_row['RH']"
   ]
  },
  {
   "cell_type": "code",
   "execution_count": 53,
   "metadata": {},
   "outputs": [
    {
     "data": {
      "text/plain": [
       "30.7"
      ]
     },
     "execution_count": 53,
     "metadata": {},
     "output_type": "execute_result"
    }
   ],
   "source": [
    "one_row[13]"
   ]
  },
  {
   "cell_type": "markdown",
   "metadata": {},
   "source": [
    "#### Column indexing"
   ]
  },
  {
   "cell_type": "markdown",
   "metadata": {},
   "source": [
    "In addition to integer indexing with `df.iloc`, columns can be accessed in two ways: dot notation `.` or square brackets `[]`. The former takes advantage of the fact that the columns are effectively \"attributes\" of the DataFrame and returns a Series:"
   ]
  },
  {
   "cell_type": "code",
   "execution_count": 57,
   "metadata": {},
   "outputs": [
    {
     "data": {
      "text/plain": [
       "Index(['DATE', 'H_m', 'SWD_Wm2', 'STD_SWD', 'DIR_Wm2', 'STD_DIR', 'DIF_Wm2',\n",
       "       'STD_DIF', 'LWD_Wm2', 'STD_LWD', 'SWU_Wm2', 'LWU_Wm2', 'T_degC', 'RH',\n",
       "       'P_hPa'],\n",
       "      dtype='object')"
      ]
     },
     "execution_count": 57,
     "metadata": {},
     "output_type": "execute_result"
    }
   ],
   "source": [
    "bsrn.columns"
   ]
  },
  {
   "cell_type": "code",
   "execution_count": 58,
   "metadata": {},
   "outputs": [
    {
     "data": {
      "text/plain": [
       "0        2\n",
       "1        2\n",
       "2        2\n",
       "3        2\n",
       "4        2\n",
       "        ..\n",
       "44635    2\n",
       "44636    2\n",
       "44637    2\n",
       "44638    2\n",
       "44639    2\n",
       "Name: H_m, Length: 44640, dtype: int64"
      ]
     },
     "execution_count": 58,
     "metadata": {},
     "output_type": "execute_result"
    }
   ],
   "source": [
    "bsrn['H_m']"
   ]
  },
  {
   "cell_type": "code",
   "execution_count": 55,
   "metadata": {},
   "outputs": [
    {
     "data": {
      "text/plain": [
       "0       -3.0\n",
       "1       -3.0\n",
       "2       -3.0\n",
       "3       -3.0\n",
       "4       -3.0\n",
       "        ... \n",
       "44635   -2.0\n",
       "44636   -2.0\n",
       "44637   -2.0\n",
       "44638   -2.0\n",
       "44639   -2.0\n",
       "Name: SWD_Wm2, Length: 44640, dtype: float64"
      ]
     },
     "execution_count": 55,
     "metadata": {},
     "output_type": "execute_result"
    }
   ],
   "source": [
    "bsrn.SWD_Wm2"
   ]
  },
  {
   "cell_type": "markdown",
   "metadata": {},
   "source": [
    "- note: bsrn[0] results in a keyError because you don't have a column named 0 and the columns aren't numerically indexed"
   ]
  },
  {
   "cell_type": "markdown",
   "metadata": {},
   "source": [
    "Using single brackets, the result is a Series. However, using double brackets, it is possible to return the column as a DataFrame:"
   ]
  },
  {
   "cell_type": "code",
   "execution_count": 59,
   "metadata": {},
   "outputs": [
    {
     "data": {
      "text/html": [
       "<div>\n",
       "<style scoped>\n",
       "    .dataframe tbody tr th:only-of-type {\n",
       "        vertical-align: middle;\n",
       "    }\n",
       "\n",
       "    .dataframe tbody tr th {\n",
       "        vertical-align: top;\n",
       "    }\n",
       "\n",
       "    .dataframe thead th {\n",
       "        text-align: right;\n",
       "    }\n",
       "</style>\n",
       "<table border=\"1\" class=\"dataframe\">\n",
       "  <thead>\n",
       "    <tr style=\"text-align: right;\">\n",
       "      <th></th>\n",
       "      <th>SWD_Wm2</th>\n",
       "    </tr>\n",
       "  </thead>\n",
       "  <tbody>\n",
       "    <tr>\n",
       "      <th>0</th>\n",
       "      <td>-3.0</td>\n",
       "    </tr>\n",
       "    <tr>\n",
       "      <th>1</th>\n",
       "      <td>-3.0</td>\n",
       "    </tr>\n",
       "    <tr>\n",
       "      <th>2</th>\n",
       "      <td>-3.0</td>\n",
       "    </tr>\n",
       "    <tr>\n",
       "      <th>3</th>\n",
       "      <td>-3.0</td>\n",
       "    </tr>\n",
       "    <tr>\n",
       "      <th>4</th>\n",
       "      <td>-3.0</td>\n",
       "    </tr>\n",
       "    <tr>\n",
       "      <th>...</th>\n",
       "      <td>...</td>\n",
       "    </tr>\n",
       "    <tr>\n",
       "      <th>44635</th>\n",
       "      <td>-2.0</td>\n",
       "    </tr>\n",
       "    <tr>\n",
       "      <th>44636</th>\n",
       "      <td>-2.0</td>\n",
       "    </tr>\n",
       "    <tr>\n",
       "      <th>44637</th>\n",
       "      <td>-2.0</td>\n",
       "    </tr>\n",
       "    <tr>\n",
       "      <th>44638</th>\n",
       "      <td>-2.0</td>\n",
       "    </tr>\n",
       "    <tr>\n",
       "      <th>44639</th>\n",
       "      <td>-2.0</td>\n",
       "    </tr>\n",
       "  </tbody>\n",
       "</table>\n",
       "<p>44640 rows × 1 columns</p>\n",
       "</div>"
      ],
      "text/plain": [
       "       SWD_Wm2\n",
       "0         -3.0\n",
       "1         -3.0\n",
       "2         -3.0\n",
       "3         -3.0\n",
       "4         -3.0\n",
       "...        ...\n",
       "44635     -2.0\n",
       "44636     -2.0\n",
       "44637     -2.0\n",
       "44638     -2.0\n",
       "44639     -2.0\n",
       "\n",
       "[44640 rows x 1 columns]"
      ]
     },
     "execution_count": 59,
     "metadata": {},
     "output_type": "execute_result"
    }
   ],
   "source": [
    "bsrn[['SWD_Wm2']]"
   ]
  },
  {
   "cell_type": "markdown",
   "metadata": {},
   "source": [
    "- no such thing as \"these things\" in python\n",
    "- only \"this list of things\"\n",
    "- you *have* to wrap it in a list"
   ]
  },
  {
   "cell_type": "code",
   "execution_count": 63,
   "metadata": {},
   "outputs": [
    {
     "data": {
      "text/html": [
       "<div>\n",
       "<style scoped>\n",
       "    .dataframe tbody tr th:only-of-type {\n",
       "        vertical-align: middle;\n",
       "    }\n",
       "\n",
       "    .dataframe tbody tr th {\n",
       "        vertical-align: top;\n",
       "    }\n",
       "\n",
       "    .dataframe thead th {\n",
       "        text-align: right;\n",
       "    }\n",
       "</style>\n",
       "<table border=\"1\" class=\"dataframe\">\n",
       "  <thead>\n",
       "    <tr style=\"text-align: right;\">\n",
       "      <th></th>\n",
       "      <th>H_m</th>\n",
       "      <th>RH</th>\n",
       "    </tr>\n",
       "  </thead>\n",
       "  <tbody>\n",
       "    <tr>\n",
       "      <th>0</th>\n",
       "      <td>2</td>\n",
       "      <td>30.7</td>\n",
       "    </tr>\n",
       "    <tr>\n",
       "      <th>1</th>\n",
       "      <td>2</td>\n",
       "      <td>30.7</td>\n",
       "    </tr>\n",
       "    <tr>\n",
       "      <th>2</th>\n",
       "      <td>2</td>\n",
       "      <td>30.5</td>\n",
       "    </tr>\n",
       "    <tr>\n",
       "      <th>3</th>\n",
       "      <td>2</td>\n",
       "      <td>30.4</td>\n",
       "    </tr>\n",
       "    <tr>\n",
       "      <th>4</th>\n",
       "      <td>2</td>\n",
       "      <td>30.5</td>\n",
       "    </tr>\n",
       "    <tr>\n",
       "      <th>...</th>\n",
       "      <td>...</td>\n",
       "      <td>...</td>\n",
       "    </tr>\n",
       "    <tr>\n",
       "      <th>44635</th>\n",
       "      <td>2</td>\n",
       "      <td>35.6</td>\n",
       "    </tr>\n",
       "    <tr>\n",
       "      <th>44636</th>\n",
       "      <td>2</td>\n",
       "      <td>35.5</td>\n",
       "    </tr>\n",
       "    <tr>\n",
       "      <th>44637</th>\n",
       "      <td>2</td>\n",
       "      <td>35.3</td>\n",
       "    </tr>\n",
       "    <tr>\n",
       "      <th>44638</th>\n",
       "      <td>2</td>\n",
       "      <td>35.2</td>\n",
       "    </tr>\n",
       "    <tr>\n",
       "      <th>44639</th>\n",
       "      <td>2</td>\n",
       "      <td>35.0</td>\n",
       "    </tr>\n",
       "  </tbody>\n",
       "</table>\n",
       "<p>44640 rows × 2 columns</p>\n",
       "</div>"
      ],
      "text/plain": [
       "       H_m    RH\n",
       "0        2  30.7\n",
       "1        2  30.7\n",
       "2        2  30.5\n",
       "3        2  30.4\n",
       "4        2  30.5\n",
       "...    ...   ...\n",
       "44635    2  35.6\n",
       "44636    2  35.5\n",
       "44637    2  35.3\n",
       "44638    2  35.2\n",
       "44639    2  35.0\n",
       "\n",
       "[44640 rows x 2 columns]"
      ]
     },
     "execution_count": 63,
     "metadata": {},
     "output_type": "execute_result"
    }
   ],
   "source": [
    "bsrn[ # this bracket says we want stuff from bsrn\n",
    "        [\"H_m\", 'RH'] # this list is the stuff we want (in brackets!!)\n",
    "] # this bracket ends our comms with pandas"
   ]
  },
  {
   "cell_type": "markdown",
   "metadata": {},
   "source": [
    "if you have a list of columns, it's a DataFrame. If you specify only 1 column in this expected list of columns, it'll still be type: DataFrame"
   ]
  },
  {
   "cell_type": "code",
   "execution_count": 61,
   "metadata": {},
   "outputs": [
    {
     "data": {
      "text/html": [
       "<div>\n",
       "<style scoped>\n",
       "    .dataframe tbody tr th:only-of-type {\n",
       "        vertical-align: middle;\n",
       "    }\n",
       "\n",
       "    .dataframe tbody tr th {\n",
       "        vertical-align: top;\n",
       "    }\n",
       "\n",
       "    .dataframe thead th {\n",
       "        text-align: right;\n",
       "    }\n",
       "</style>\n",
       "<table border=\"1\" class=\"dataframe\">\n",
       "  <thead>\n",
       "    <tr style=\"text-align: right;\">\n",
       "      <th></th>\n",
       "      <th>SWD_Wm2</th>\n",
       "      <th>LWD_Wm2</th>\n",
       "    </tr>\n",
       "  </thead>\n",
       "  <tbody>\n",
       "    <tr>\n",
       "      <th>0</th>\n",
       "      <td>-3.0</td>\n",
       "      <td>300.0</td>\n",
       "    </tr>\n",
       "    <tr>\n",
       "      <th>1</th>\n",
       "      <td>-3.0</td>\n",
       "      <td>300.0</td>\n",
       "    </tr>\n",
       "    <tr>\n",
       "      <th>2</th>\n",
       "      <td>-3.0</td>\n",
       "      <td>300.0</td>\n",
       "    </tr>\n",
       "    <tr>\n",
       "      <th>3</th>\n",
       "      <td>-3.0</td>\n",
       "      <td>300.0</td>\n",
       "    </tr>\n",
       "    <tr>\n",
       "      <th>4</th>\n",
       "      <td>-3.0</td>\n",
       "      <td>300.0</td>\n",
       "    </tr>\n",
       "    <tr>\n",
       "      <th>...</th>\n",
       "      <td>...</td>\n",
       "      <td>...</td>\n",
       "    </tr>\n",
       "    <tr>\n",
       "      <th>44635</th>\n",
       "      <td>-2.0</td>\n",
       "      <td>380.0</td>\n",
       "    </tr>\n",
       "    <tr>\n",
       "      <th>44636</th>\n",
       "      <td>-2.0</td>\n",
       "      <td>380.0</td>\n",
       "    </tr>\n",
       "    <tr>\n",
       "      <th>44637</th>\n",
       "      <td>-2.0</td>\n",
       "      <td>380.0</td>\n",
       "    </tr>\n",
       "    <tr>\n",
       "      <th>44638</th>\n",
       "      <td>-2.0</td>\n",
       "      <td>381.0</td>\n",
       "    </tr>\n",
       "    <tr>\n",
       "      <th>44639</th>\n",
       "      <td>-2.0</td>\n",
       "      <td>381.0</td>\n",
       "    </tr>\n",
       "  </tbody>\n",
       "</table>\n",
       "<p>44640 rows × 2 columns</p>\n",
       "</div>"
      ],
      "text/plain": [
       "       SWD_Wm2  LWD_Wm2\n",
       "0         -3.0    300.0\n",
       "1         -3.0    300.0\n",
       "2         -3.0    300.0\n",
       "3         -3.0    300.0\n",
       "4         -3.0    300.0\n",
       "...        ...      ...\n",
       "44635     -2.0    380.0\n",
       "44636     -2.0    380.0\n",
       "44637     -2.0    380.0\n",
       "44638     -2.0    381.0\n",
       "44639     -2.0    381.0\n",
       "\n",
       "[44640 rows x 2 columns]"
      ]
     },
     "execution_count": 61,
     "metadata": {},
     "output_type": "execute_result"
    }
   ],
   "source": [
    "bsrn[['SWD_Wm2', 'LWD_Wm2']]"
   ]
  },
  {
   "cell_type": "markdown",
   "metadata": {},
   "source": [
    "difference between series and array"
   ]
  },
  {
   "cell_type": "markdown",
   "metadata": {},
   "source": [
    "dot notation can only be used if your columns are named \"nicely\" :) (like lower snake case)"
   ]
  },
  {
   "cell_type": "markdown",
   "metadata": {},
   "source": [
    "want to get height of measurement and temperature in degrees c"
   ]
  },
  {
   "cell_type": "code",
   "execution_count": 66,
   "metadata": {},
   "outputs": [
    {
     "data": {
      "text/html": [
       "<div>\n",
       "<style scoped>\n",
       "    .dataframe tbody tr th:only-of-type {\n",
       "        vertical-align: middle;\n",
       "    }\n",
       "\n",
       "    .dataframe tbody tr th {\n",
       "        vertical-align: top;\n",
       "    }\n",
       "\n",
       "    .dataframe thead th {\n",
       "        text-align: right;\n",
       "    }\n",
       "</style>\n",
       "<table border=\"1\" class=\"dataframe\">\n",
       "  <thead>\n",
       "    <tr style=\"text-align: right;\">\n",
       "      <th></th>\n",
       "      <th>H_m</th>\n",
       "      <th>T_degC</th>\n",
       "    </tr>\n",
       "  </thead>\n",
       "  <tbody>\n",
       "    <tr>\n",
       "      <th>0</th>\n",
       "      <td>2</td>\n",
       "      <td>16.2</td>\n",
       "    </tr>\n",
       "    <tr>\n",
       "      <th>1</th>\n",
       "      <td>2</td>\n",
       "      <td>16.4</td>\n",
       "    </tr>\n",
       "    <tr>\n",
       "      <th>2</th>\n",
       "      <td>2</td>\n",
       "      <td>16.5</td>\n",
       "    </tr>\n",
       "    <tr>\n",
       "      <th>3</th>\n",
       "      <td>2</td>\n",
       "      <td>16.5</td>\n",
       "    </tr>\n",
       "    <tr>\n",
       "      <th>4</th>\n",
       "      <td>2</td>\n",
       "      <td>16.8</td>\n",
       "    </tr>\n",
       "  </tbody>\n",
       "</table>\n",
       "</div>"
      ],
      "text/plain": [
       "   H_m  T_degC\n",
       "0    2    16.2\n",
       "1    2    16.4\n",
       "2    2    16.5\n",
       "3    2    16.5\n",
       "4    2    16.8"
      ]
     },
     "execution_count": 66,
     "metadata": {},
     "output_type": "execute_result"
    }
   ],
   "source": [
    "new_df = bsrn[['H_m', 'T_degC']]\n",
    "new_df.head()"
   ]
  },
  {
   "cell_type": "markdown",
   "metadata": {},
   "source": [
    "this is truly a new dataframe, not a copy. It's made out of a subset of the old one, not just pointing at a part of it."
   ]
  },
  {
   "cell_type": "markdown",
   "metadata": {},
   "source": [
    "Datetime strings are still objects"
   ]
  },
  {
   "cell_type": "code",
   "execution_count": 69,
   "metadata": {},
   "outputs": [
    {
     "name": "stdout",
     "output_type": "stream",
     "text": [
      "<class 'pandas.core.frame.DataFrame'>\n",
      "RangeIndex: 44640 entries, 0 to 44639\n",
      "Data columns (total 15 columns):\n",
      " #   Column   Non-Null Count  Dtype  \n",
      "---  ------   --------------  -----  \n",
      " 0   DATE     44640 non-null  object \n",
      " 1   H_m      44640 non-null  int64  \n",
      " 2   SWD_Wm2  44630 non-null  float64\n",
      " 3   STD_SWD  44637 non-null  float64\n",
      " 4   DIR_Wm2  44623 non-null  float64\n",
      " 5   STD_DIR  44623 non-null  float64\n",
      " 6   DIF_Wm2  44632 non-null  float64\n",
      " 7   STD_DIF  44632 non-null  float64\n",
      " 8   LWD_Wm2  44589 non-null  float64\n",
      " 9   STD_LWD  44637 non-null  float64\n",
      " 10  SWU_Wm2  44640 non-null  int64  \n",
      " 11  LWU_Wm2  44640 non-null  int64  \n",
      " 12  T_degC   44640 non-null  float64\n",
      " 13  RH       44640 non-null  float64\n",
      " 14  P_hPa    44640 non-null  int64  \n",
      "dtypes: float64(10), int64(4), object(1)\n",
      "memory usage: 5.1+ MB\n"
     ]
    }
   ],
   "source": [
    "bsrn.info()"
   ]
  },
  {
   "cell_type": "code",
   "execution_count": 68,
   "metadata": {},
   "outputs": [
    {
     "data": {
      "text/html": [
       "<div>\n",
       "<style scoped>\n",
       "    .dataframe tbody tr th:only-of-type {\n",
       "        vertical-align: middle;\n",
       "    }\n",
       "\n",
       "    .dataframe tbody tr th {\n",
       "        vertical-align: top;\n",
       "    }\n",
       "\n",
       "    .dataframe thead th {\n",
       "        text-align: right;\n",
       "    }\n",
       "</style>\n",
       "<table border=\"1\" class=\"dataframe\">\n",
       "  <thead>\n",
       "    <tr style=\"text-align: right;\">\n",
       "      <th></th>\n",
       "      <th>H_m</th>\n",
       "      <th>SWD_Wm2</th>\n",
       "      <th>STD_SWD</th>\n",
       "      <th>DIR_Wm2</th>\n",
       "      <th>STD_DIR</th>\n",
       "      <th>DIF_Wm2</th>\n",
       "      <th>STD_DIF</th>\n",
       "      <th>LWD_Wm2</th>\n",
       "      <th>STD_LWD</th>\n",
       "      <th>SWU_Wm2</th>\n",
       "      <th>LWU_Wm2</th>\n",
       "      <th>T_degC</th>\n",
       "      <th>RH</th>\n",
       "      <th>P_hPa</th>\n",
       "    </tr>\n",
       "  </thead>\n",
       "  <tbody>\n",
       "    <tr>\n",
       "      <th>count</th>\n",
       "      <td>44640.0</td>\n",
       "      <td>44630.000000</td>\n",
       "      <td>44637.000000</td>\n",
       "      <td>44623.000000</td>\n",
       "      <td>44623.000000</td>\n",
       "      <td>44632.000000</td>\n",
       "      <td>44632.000000</td>\n",
       "      <td>44589.000000</td>\n",
       "      <td>44637.000000</td>\n",
       "      <td>44640.000000</td>\n",
       "      <td>44640.000000</td>\n",
       "      <td>44640.000000</td>\n",
       "      <td>44640.000000</td>\n",
       "      <td>44640.000000</td>\n",
       "    </tr>\n",
       "    <tr>\n",
       "      <th>mean</th>\n",
       "      <td>2.0</td>\n",
       "      <td>318.046516</td>\n",
       "      <td>3.269498</td>\n",
       "      <td>348.581987</td>\n",
       "      <td>3.916621</td>\n",
       "      <td>65.294542</td>\n",
       "      <td>0.349209</td>\n",
       "      <td>342.350692</td>\n",
       "      <td>0.224545</td>\n",
       "      <td>110.445004</td>\n",
       "      <td>455.054032</td>\n",
       "      <td>22.525101</td>\n",
       "      <td>39.586891</td>\n",
       "      <td>965.043302</td>\n",
       "    </tr>\n",
       "    <tr>\n",
       "      <th>std</th>\n",
       "      <td>0.0</td>\n",
       "      <td>401.239735</td>\n",
       "      <td>19.032068</td>\n",
       "      <td>412.247947</td>\n",
       "      <td>21.608338</td>\n",
       "      <td>92.513191</td>\n",
       "      <td>1.290990</td>\n",
       "      <td>36.968507</td>\n",
       "      <td>0.354692</td>\n",
       "      <td>134.875619</td>\n",
       "      <td>79.024957</td>\n",
       "      <td>7.340310</td>\n",
       "      <td>24.702667</td>\n",
       "      <td>1.637144</td>\n",
       "    </tr>\n",
       "    <tr>\n",
       "      <th>min</th>\n",
       "      <td>2.0</td>\n",
       "      <td>-8.000000</td>\n",
       "      <td>0.000000</td>\n",
       "      <td>-1.000000</td>\n",
       "      <td>0.000000</td>\n",
       "      <td>-9.000000</td>\n",
       "      <td>0.000000</td>\n",
       "      <td>266.000000</td>\n",
       "      <td>0.000000</td>\n",
       "      <td>-2.000000</td>\n",
       "      <td>338.000000</td>\n",
       "      <td>9.200000</td>\n",
       "      <td>5.200000</td>\n",
       "      <td>960.000000</td>\n",
       "    </tr>\n",
       "    <tr>\n",
       "      <th>25%</th>\n",
       "      <td>2.0</td>\n",
       "      <td>-2.000000</td>\n",
       "      <td>0.000000</td>\n",
       "      <td>0.000000</td>\n",
       "      <td>0.000000</td>\n",
       "      <td>-2.000000</td>\n",
       "      <td>0.000000</td>\n",
       "      <td>313.000000</td>\n",
       "      <td>0.100000</td>\n",
       "      <td>0.000000</td>\n",
       "      <td>388.000000</td>\n",
       "      <td>16.200000</td>\n",
       "      <td>18.000000</td>\n",
       "      <td>964.000000</td>\n",
       "    </tr>\n",
       "    <tr>\n",
       "      <th>50%</th>\n",
       "      <td>2.0</td>\n",
       "      <td>27.000000</td>\n",
       "      <td>0.300000</td>\n",
       "      <td>0.000000</td>\n",
       "      <td>0.000000</td>\n",
       "      <td>19.000000</td>\n",
       "      <td>0.100000</td>\n",
       "      <td>340.000000</td>\n",
       "      <td>0.100000</td>\n",
       "      <td>11.000000</td>\n",
       "      <td>432.000000</td>\n",
       "      <td>22.400000</td>\n",
       "      <td>33.100000</td>\n",
       "      <td>965.000000</td>\n",
       "    </tr>\n",
       "    <tr>\n",
       "      <th>75%</th>\n",
       "      <td>2.0</td>\n",
       "      <td>694.000000</td>\n",
       "      <td>1.000000</td>\n",
       "      <td>813.000000</td>\n",
       "      <td>0.900000</td>\n",
       "      <td>113.000000</td>\n",
       "      <td>0.200000</td>\n",
       "      <td>368.000000</td>\n",
       "      <td>0.300000</td>\n",
       "      <td>245.000000</td>\n",
       "      <td>522.000000</td>\n",
       "      <td>28.400000</td>\n",
       "      <td>58.900000</td>\n",
       "      <td>966.000000</td>\n",
       "    </tr>\n",
       "    <tr>\n",
       "      <th>max</th>\n",
       "      <td>2.0</td>\n",
       "      <td>1383.000000</td>\n",
       "      <td>337.800000</td>\n",
       "      <td>1066.000000</td>\n",
       "      <td>383.100000</td>\n",
       "      <td>659.000000</td>\n",
       "      <td>51.500000</td>\n",
       "      <td>456.000000</td>\n",
       "      <td>18.600000</td>\n",
       "      <td>454.000000</td>\n",
       "      <td>657.000000</td>\n",
       "      <td>43.500000</td>\n",
       "      <td>94.800000</td>\n",
       "      <td>969.000000</td>\n",
       "    </tr>\n",
       "  </tbody>\n",
       "</table>\n",
       "</div>"
      ],
      "text/plain": [
       "           H_m       SWD_Wm2       STD_SWD       DIR_Wm2       STD_DIR  \\\n",
       "count  44640.0  44630.000000  44637.000000  44623.000000  44623.000000   \n",
       "mean       2.0    318.046516      3.269498    348.581987      3.916621   \n",
       "std        0.0    401.239735     19.032068    412.247947     21.608338   \n",
       "min        2.0     -8.000000      0.000000     -1.000000      0.000000   \n",
       "25%        2.0     -2.000000      0.000000      0.000000      0.000000   \n",
       "50%        2.0     27.000000      0.300000      0.000000      0.000000   \n",
       "75%        2.0    694.000000      1.000000    813.000000      0.900000   \n",
       "max        2.0   1383.000000    337.800000   1066.000000    383.100000   \n",
       "\n",
       "            DIF_Wm2       STD_DIF       LWD_Wm2       STD_LWD       SWU_Wm2  \\\n",
       "count  44632.000000  44632.000000  44589.000000  44637.000000  44640.000000   \n",
       "mean      65.294542      0.349209    342.350692      0.224545    110.445004   \n",
       "std       92.513191      1.290990     36.968507      0.354692    134.875619   \n",
       "min       -9.000000      0.000000    266.000000      0.000000     -2.000000   \n",
       "25%       -2.000000      0.000000    313.000000      0.100000      0.000000   \n",
       "50%       19.000000      0.100000    340.000000      0.100000     11.000000   \n",
       "75%      113.000000      0.200000    368.000000      0.300000    245.000000   \n",
       "max      659.000000     51.500000    456.000000     18.600000    454.000000   \n",
       "\n",
       "            LWU_Wm2        T_degC            RH         P_hPa  \n",
       "count  44640.000000  44640.000000  44640.000000  44640.000000  \n",
       "mean     455.054032     22.525101     39.586891    965.043302  \n",
       "std       79.024957      7.340310     24.702667      1.637144  \n",
       "min      338.000000      9.200000      5.200000    960.000000  \n",
       "25%      388.000000     16.200000     18.000000    964.000000  \n",
       "50%      432.000000     22.400000     33.100000    965.000000  \n",
       "75%      522.000000     28.400000     58.900000    966.000000  \n",
       "max      657.000000     43.500000     94.800000    969.000000  "
      ]
     },
     "execution_count": 68,
     "metadata": {},
     "output_type": "execute_result"
    }
   ],
   "source": [
    "bsrn.describe()"
   ]
  },
  {
   "cell_type": "markdown",
   "metadata": {},
   "source": [
    "### `Datetime` objects"
   ]
  },
  {
   "cell_type": "markdown",
   "metadata": {},
   "source": [
    "the timestamp is the unique identifier for our data -- makes sense for our data to be indexed by these unique IDs \n",
    "- making our datetimes the index"
   ]
  },
  {
   "cell_type": "code",
   "execution_count": 78,
   "metadata": {},
   "outputs": [
    {
     "data": {
      "text/html": [
       "<div>\n",
       "<style scoped>\n",
       "    .dataframe tbody tr th:only-of-type {\n",
       "        vertical-align: middle;\n",
       "    }\n",
       "\n",
       "    .dataframe tbody tr th {\n",
       "        vertical-align: top;\n",
       "    }\n",
       "\n",
       "    .dataframe thead th {\n",
       "        text-align: right;\n",
       "    }\n",
       "</style>\n",
       "<table border=\"1\" class=\"dataframe\">\n",
       "  <thead>\n",
       "    <tr style=\"text-align: right;\">\n",
       "      <th></th>\n",
       "      <th>DATE</th>\n",
       "      <th>H_m</th>\n",
       "      <th>SWD_Wm2</th>\n",
       "      <th>STD_SWD</th>\n",
       "      <th>DIR_Wm2</th>\n",
       "      <th>STD_DIR</th>\n",
       "      <th>DIF_Wm2</th>\n",
       "      <th>STD_DIF</th>\n",
       "      <th>LWD_Wm2</th>\n",
       "      <th>STD_LWD</th>\n",
       "      <th>SWU_Wm2</th>\n",
       "      <th>LWU_Wm2</th>\n",
       "      <th>T_degC</th>\n",
       "      <th>RH</th>\n",
       "      <th>P_hPa</th>\n",
       "    </tr>\n",
       "  </thead>\n",
       "  <tbody>\n",
       "    <tr>\n",
       "      <th>0</th>\n",
       "      <td>2019-10-01 00:00:00</td>\n",
       "      <td>2</td>\n",
       "      <td>-3.0</td>\n",
       "      <td>0.0</td>\n",
       "      <td>0.0</td>\n",
       "      <td>0.0</td>\n",
       "      <td>-3.0</td>\n",
       "      <td>0.0</td>\n",
       "      <td>300.0</td>\n",
       "      <td>0.1</td>\n",
       "      <td>0</td>\n",
       "      <td>383</td>\n",
       "      <td>16.2</td>\n",
       "      <td>30.7</td>\n",
       "      <td>966</td>\n",
       "    </tr>\n",
       "    <tr>\n",
       "      <th>1</th>\n",
       "      <td>2019-10-01 00:01:00</td>\n",
       "      <td>2</td>\n",
       "      <td>-3.0</td>\n",
       "      <td>0.0</td>\n",
       "      <td>0.0</td>\n",
       "      <td>0.0</td>\n",
       "      <td>-3.0</td>\n",
       "      <td>0.0</td>\n",
       "      <td>300.0</td>\n",
       "      <td>0.3</td>\n",
       "      <td>0</td>\n",
       "      <td>383</td>\n",
       "      <td>16.4</td>\n",
       "      <td>30.7</td>\n",
       "      <td>966</td>\n",
       "    </tr>\n",
       "    <tr>\n",
       "      <th>2</th>\n",
       "      <td>2019-10-01 00:02:00</td>\n",
       "      <td>2</td>\n",
       "      <td>-3.0</td>\n",
       "      <td>0.0</td>\n",
       "      <td>0.0</td>\n",
       "      <td>0.0</td>\n",
       "      <td>-3.0</td>\n",
       "      <td>0.0</td>\n",
       "      <td>300.0</td>\n",
       "      <td>0.2</td>\n",
       "      <td>0</td>\n",
       "      <td>383</td>\n",
       "      <td>16.5</td>\n",
       "      <td>30.5</td>\n",
       "      <td>966</td>\n",
       "    </tr>\n",
       "    <tr>\n",
       "      <th>3</th>\n",
       "      <td>2019-10-01 00:03:00</td>\n",
       "      <td>2</td>\n",
       "      <td>-3.0</td>\n",
       "      <td>0.0</td>\n",
       "      <td>0.0</td>\n",
       "      <td>0.0</td>\n",
       "      <td>-3.0</td>\n",
       "      <td>0.0</td>\n",
       "      <td>300.0</td>\n",
       "      <td>0.1</td>\n",
       "      <td>0</td>\n",
       "      <td>383</td>\n",
       "      <td>16.5</td>\n",
       "      <td>30.4</td>\n",
       "      <td>966</td>\n",
       "    </tr>\n",
       "    <tr>\n",
       "      <th>4</th>\n",
       "      <td>2019-10-01 00:04:00</td>\n",
       "      <td>2</td>\n",
       "      <td>-3.0</td>\n",
       "      <td>0.0</td>\n",
       "      <td>0.0</td>\n",
       "      <td>0.0</td>\n",
       "      <td>-3.0</td>\n",
       "      <td>0.0</td>\n",
       "      <td>300.0</td>\n",
       "      <td>0.1</td>\n",
       "      <td>0</td>\n",
       "      <td>383</td>\n",
       "      <td>16.8</td>\n",
       "      <td>30.5</td>\n",
       "      <td>966</td>\n",
       "    </tr>\n",
       "  </tbody>\n",
       "</table>\n",
       "</div>"
      ],
      "text/plain": [
       "                 DATE  H_m  SWD_Wm2  STD_SWD  DIR_Wm2  STD_DIR  DIF_Wm2  \\\n",
       "0 2019-10-01 00:00:00    2     -3.0      0.0      0.0      0.0     -3.0   \n",
       "1 2019-10-01 00:01:00    2     -3.0      0.0      0.0      0.0     -3.0   \n",
       "2 2019-10-01 00:02:00    2     -3.0      0.0      0.0      0.0     -3.0   \n",
       "3 2019-10-01 00:03:00    2     -3.0      0.0      0.0      0.0     -3.0   \n",
       "4 2019-10-01 00:04:00    2     -3.0      0.0      0.0      0.0     -3.0   \n",
       "\n",
       "   STD_DIF  LWD_Wm2  STD_LWD  SWU_Wm2  LWU_Wm2  T_degC    RH  P_hPa  \n",
       "0      0.0    300.0      0.1        0      383    16.2  30.7    966  \n",
       "1      0.0    300.0      0.3        0      383    16.4  30.7    966  \n",
       "2      0.0    300.0      0.2        0      383    16.5  30.5    966  \n",
       "3      0.0    300.0      0.1        0      383    16.5  30.4    966  \n",
       "4      0.0    300.0      0.1        0      383    16.8  30.5    966  "
      ]
     },
     "execution_count": 78,
     "metadata": {},
     "output_type": "execute_result"
    }
   ],
   "source": [
    "bsrn.head()"
   ]
  },
  {
   "cell_type": "code",
   "execution_count": 79,
   "metadata": {},
   "outputs": [
    {
     "name": "stdout",
     "output_type": "stream",
     "text": [
      "<class 'pandas.core.frame.DataFrame'>\n",
      "DatetimeIndex: 44640 entries, 2019-10-01 00:00:00 to 2019-10-31 23:59:00\n",
      "Data columns (total 14 columns):\n",
      " #   Column   Non-Null Count  Dtype  \n",
      "---  ------   --------------  -----  \n",
      " 0   H_m      44640 non-null  int64  \n",
      " 1   SWD_Wm2  44630 non-null  float64\n",
      " 2   STD_SWD  44637 non-null  float64\n",
      " 3   DIR_Wm2  44623 non-null  float64\n",
      " 4   STD_DIR  44623 non-null  float64\n",
      " 5   DIF_Wm2  44632 non-null  float64\n",
      " 6   STD_DIF  44632 non-null  float64\n",
      " 7   LWD_Wm2  44589 non-null  float64\n",
      " 8   STD_LWD  44637 non-null  float64\n",
      " 9   SWU_Wm2  44640 non-null  int64  \n",
      " 10  LWU_Wm2  44640 non-null  int64  \n",
      " 11  T_degC   44640 non-null  float64\n",
      " 12  RH       44640 non-null  float64\n",
      " 13  P_hPa    44640 non-null  int64  \n",
      "dtypes: float64(10), int64(4)\n",
      "memory usage: 5.1 MB\n"
     ]
    }
   ],
   "source": [
    "# Convert bsrn.DATE column to datetime objects\n",
    "bsrn = pd.read_csv('../data/BSRN_GOB_2019-10.csv')\n",
    "bsrn['DATE'] = pd.to_datetime(bsrn.DATE)  # Note: overwriting a column like this is NOT recommended.\n",
    "# Set bsrn.DATE as the DataFrame index\n",
    "bsrn.set_index('DATE', inplace=True) # make our unique datetime identifiers sa the index\n",
    "bsrn.info()"
   ]
  },
  {
   "cell_type": "code",
   "execution_count": 75,
   "metadata": {},
   "outputs": [
    {
     "data": {
      "text/html": [
       "<div>\n",
       "<style scoped>\n",
       "    .dataframe tbody tr th:only-of-type {\n",
       "        vertical-align: middle;\n",
       "    }\n",
       "\n",
       "    .dataframe tbody tr th {\n",
       "        vertical-align: top;\n",
       "    }\n",
       "\n",
       "    .dataframe thead th {\n",
       "        text-align: right;\n",
       "    }\n",
       "</style>\n",
       "<table border=\"1\" class=\"dataframe\">\n",
       "  <thead>\n",
       "    <tr style=\"text-align: right;\">\n",
       "      <th></th>\n",
       "      <th>H_m</th>\n",
       "      <th>SWD_Wm2</th>\n",
       "      <th>STD_SWD</th>\n",
       "      <th>DIR_Wm2</th>\n",
       "      <th>STD_DIR</th>\n",
       "      <th>DIF_Wm2</th>\n",
       "      <th>STD_DIF</th>\n",
       "      <th>LWD_Wm2</th>\n",
       "      <th>STD_LWD</th>\n",
       "      <th>SWU_Wm2</th>\n",
       "      <th>LWU_Wm2</th>\n",
       "      <th>T_degC</th>\n",
       "      <th>RH</th>\n",
       "      <th>P_hPa</th>\n",
       "    </tr>\n",
       "    <tr>\n",
       "      <th>DATE</th>\n",
       "      <th></th>\n",
       "      <th></th>\n",
       "      <th></th>\n",
       "      <th></th>\n",
       "      <th></th>\n",
       "      <th></th>\n",
       "      <th></th>\n",
       "      <th></th>\n",
       "      <th></th>\n",
       "      <th></th>\n",
       "      <th></th>\n",
       "      <th></th>\n",
       "      <th></th>\n",
       "      <th></th>\n",
       "    </tr>\n",
       "  </thead>\n",
       "  <tbody>\n",
       "    <tr>\n",
       "      <th>2019-10-01 00:00:00</th>\n",
       "      <td>2</td>\n",
       "      <td>-3.0</td>\n",
       "      <td>0.0</td>\n",
       "      <td>0.0</td>\n",
       "      <td>0.0</td>\n",
       "      <td>-3.0</td>\n",
       "      <td>0.0</td>\n",
       "      <td>300.0</td>\n",
       "      <td>0.1</td>\n",
       "      <td>0</td>\n",
       "      <td>383</td>\n",
       "      <td>16.2</td>\n",
       "      <td>30.7</td>\n",
       "      <td>966</td>\n",
       "    </tr>\n",
       "    <tr>\n",
       "      <th>2019-10-01 00:01:00</th>\n",
       "      <td>2</td>\n",
       "      <td>-3.0</td>\n",
       "      <td>0.0</td>\n",
       "      <td>0.0</td>\n",
       "      <td>0.0</td>\n",
       "      <td>-3.0</td>\n",
       "      <td>0.0</td>\n",
       "      <td>300.0</td>\n",
       "      <td>0.3</td>\n",
       "      <td>0</td>\n",
       "      <td>383</td>\n",
       "      <td>16.4</td>\n",
       "      <td>30.7</td>\n",
       "      <td>966</td>\n",
       "    </tr>\n",
       "    <tr>\n",
       "      <th>2019-10-01 00:02:00</th>\n",
       "      <td>2</td>\n",
       "      <td>-3.0</td>\n",
       "      <td>0.0</td>\n",
       "      <td>0.0</td>\n",
       "      <td>0.0</td>\n",
       "      <td>-3.0</td>\n",
       "      <td>0.0</td>\n",
       "      <td>300.0</td>\n",
       "      <td>0.2</td>\n",
       "      <td>0</td>\n",
       "      <td>383</td>\n",
       "      <td>16.5</td>\n",
       "      <td>30.5</td>\n",
       "      <td>966</td>\n",
       "    </tr>\n",
       "    <tr>\n",
       "      <th>2019-10-01 00:03:00</th>\n",
       "      <td>2</td>\n",
       "      <td>-3.0</td>\n",
       "      <td>0.0</td>\n",
       "      <td>0.0</td>\n",
       "      <td>0.0</td>\n",
       "      <td>-3.0</td>\n",
       "      <td>0.0</td>\n",
       "      <td>300.0</td>\n",
       "      <td>0.1</td>\n",
       "      <td>0</td>\n",
       "      <td>383</td>\n",
       "      <td>16.5</td>\n",
       "      <td>30.4</td>\n",
       "      <td>966</td>\n",
       "    </tr>\n",
       "    <tr>\n",
       "      <th>2019-10-01 00:04:00</th>\n",
       "      <td>2</td>\n",
       "      <td>-3.0</td>\n",
       "      <td>0.0</td>\n",
       "      <td>0.0</td>\n",
       "      <td>0.0</td>\n",
       "      <td>-3.0</td>\n",
       "      <td>0.0</td>\n",
       "      <td>300.0</td>\n",
       "      <td>0.1</td>\n",
       "      <td>0</td>\n",
       "      <td>383</td>\n",
       "      <td>16.8</td>\n",
       "      <td>30.5</td>\n",
       "      <td>966</td>\n",
       "    </tr>\n",
       "  </tbody>\n",
       "</table>\n",
       "</div>"
      ],
      "text/plain": [
       "                     H_m  SWD_Wm2  STD_SWD  DIR_Wm2  STD_DIR  DIF_Wm2  \\\n",
       "DATE                                                                    \n",
       "2019-10-01 00:00:00    2     -3.0      0.0      0.0      0.0     -3.0   \n",
       "2019-10-01 00:01:00    2     -3.0      0.0      0.0      0.0     -3.0   \n",
       "2019-10-01 00:02:00    2     -3.0      0.0      0.0      0.0     -3.0   \n",
       "2019-10-01 00:03:00    2     -3.0      0.0      0.0      0.0     -3.0   \n",
       "2019-10-01 00:04:00    2     -3.0      0.0      0.0      0.0     -3.0   \n",
       "\n",
       "                     STD_DIF  LWD_Wm2  STD_LWD  SWU_Wm2  LWU_Wm2  T_degC  \\\n",
       "DATE                                                                       \n",
       "2019-10-01 00:00:00      0.0    300.0      0.1        0      383    16.2   \n",
       "2019-10-01 00:01:00      0.0    300.0      0.3        0      383    16.4   \n",
       "2019-10-01 00:02:00      0.0    300.0      0.2        0      383    16.5   \n",
       "2019-10-01 00:03:00      0.0    300.0      0.1        0      383    16.5   \n",
       "2019-10-01 00:04:00      0.0    300.0      0.1        0      383    16.8   \n",
       "\n",
       "                       RH  P_hPa  \n",
       "DATE                              \n",
       "2019-10-01 00:00:00  30.7    966  \n",
       "2019-10-01 00:01:00  30.7    966  \n",
       "2019-10-01 00:02:00  30.5    966  \n",
       "2019-10-01 00:03:00  30.4    966  \n",
       "2019-10-01 00:04:00  30.5    966  "
      ]
     },
     "execution_count": 75,
     "metadata": {},
     "output_type": "execute_result"
    }
   ],
   "source": [
    "bsrn.head()"
   ]
  },
  {
   "cell_type": "markdown",
   "metadata": {},
   "source": [
    "converted the concept of lists of lists to a very formal structure, where every entry can be indexed and has an address of date and type, structure = good :)"
   ]
  },
  {
   "cell_type": "code",
   "execution_count": 80,
   "metadata": {},
   "outputs": [
    {
     "data": {
      "text/plain": [
       "DatetimeIndex(['2019-10-01 00:00:00', '2019-10-01 00:01:00',\n",
       "               '2019-10-01 00:02:00', '2019-10-01 00:03:00',\n",
       "               '2019-10-01 00:04:00', '2019-10-01 00:05:00',\n",
       "               '2019-10-01 00:06:00', '2019-10-01 00:07:00',\n",
       "               '2019-10-01 00:08:00', '2019-10-01 00:09:00',\n",
       "               ...\n",
       "               '2019-10-31 23:50:00', '2019-10-31 23:51:00',\n",
       "               '2019-10-31 23:52:00', '2019-10-31 23:53:00',\n",
       "               '2019-10-31 23:54:00', '2019-10-31 23:55:00',\n",
       "               '2019-10-31 23:56:00', '2019-10-31 23:57:00',\n",
       "               '2019-10-31 23:58:00', '2019-10-31 23:59:00'],\n",
       "              dtype='datetime64[ns]', name='DATE', length=44640, freq=None)"
      ]
     },
     "execution_count": 80,
     "metadata": {},
     "output_type": "execute_result"
    }
   ],
   "source": [
    "bsrn.index"
   ]
  },
  {
   "cell_type": "code",
   "execution_count": 81,
   "metadata": {},
   "outputs": [
    {
     "data": {
      "text/plain": [
       "Index([ 0,  0,  0,  0,  0,  0,  0,  0,  0,  0,\n",
       "       ...\n",
       "       23, 23, 23, 23, 23, 23, 23, 23, 23, 23],\n",
       "      dtype='int32', name='DATE', length=44640)"
      ]
     },
     "execution_count": 81,
     "metadata": {},
     "output_type": "execute_result"
    }
   ],
   "source": [
    "bsrn.index.hour"
   ]
  },
  {
   "cell_type": "code",
   "execution_count": 82,
   "metadata": {},
   "outputs": [
    {
     "data": {
      "text/plain": [
       "Index([ 1,  1,  1,  1,  1,  1,  1,  1,  1,  1,\n",
       "       ...\n",
       "       31, 31, 31, 31, 31, 31, 31, 31, 31, 31],\n",
       "      dtype='int32', name='DATE', length=44640)"
      ]
     },
     "execution_count": 82,
     "metadata": {},
     "output_type": "execute_result"
    }
   ],
   "source": [
    "bsrn.index.day"
   ]
  },
  {
   "cell_type": "markdown",
   "metadata": {},
   "source": [
    "by having an index that's a datetime, you can start selecting and indexing into your data in powerful ways "
   ]
  },
  {
   "cell_type": "code",
   "execution_count": 84,
   "metadata": {},
   "outputs": [
    {
     "data": {
      "text/plain": [
       "Index([ 0,  1,  2,  3,  4,  5,  6,  7,  8,  9, 10, 11, 12, 13, 14, 15, 16, 17,\n",
       "       18, 19, 20, 21, 22, 23],\n",
       "      dtype='int32', name='DATE')"
      ]
     },
     "execution_count": 84,
     "metadata": {},
     "output_type": "execute_result"
    }
   ],
   "source": [
    "result = bsrn.index.hour\n",
    "result.unique()"
   ]
  },
  {
   "cell_type": "code",
   "execution_count": 85,
   "metadata": {},
   "outputs": [
    {
     "data": {
      "text/plain": [
       "Index([ 0,  1,  2,  3,  4,  5,  6,  7,  8,  9, 10, 11, 12, 13, 14, 15, 16, 17,\n",
       "       18, 19, 20, 21, 22, 23],\n",
       "      dtype='int32', name='DATE')"
      ]
     },
     "execution_count": 85,
     "metadata": {},
     "output_type": "execute_result"
    }
   ],
   "source": [
    "bsrn.index.hour.unique()"
   ]
  },
  {
   "cell_type": "code",
   "execution_count": 86,
   "metadata": {},
   "outputs": [
    {
     "data": {
      "text/html": [
       "<div>\n",
       "<style scoped>\n",
       "    .dataframe tbody tr th:only-of-type {\n",
       "        vertical-align: middle;\n",
       "    }\n",
       "\n",
       "    .dataframe tbody tr th {\n",
       "        vertical-align: top;\n",
       "    }\n",
       "\n",
       "    .dataframe thead th {\n",
       "        text-align: right;\n",
       "    }\n",
       "</style>\n",
       "<table border=\"1\" class=\"dataframe\">\n",
       "  <thead>\n",
       "    <tr style=\"text-align: right;\">\n",
       "      <th></th>\n",
       "      <th>H_m</th>\n",
       "      <th>SWD_Wm2</th>\n",
       "      <th>STD_SWD</th>\n",
       "      <th>DIR_Wm2</th>\n",
       "      <th>STD_DIR</th>\n",
       "      <th>DIF_Wm2</th>\n",
       "      <th>STD_DIF</th>\n",
       "      <th>LWD_Wm2</th>\n",
       "      <th>STD_LWD</th>\n",
       "      <th>SWU_Wm2</th>\n",
       "      <th>LWU_Wm2</th>\n",
       "      <th>T_degC</th>\n",
       "      <th>RH</th>\n",
       "      <th>P_hPa</th>\n",
       "    </tr>\n",
       "  </thead>\n",
       "  <tbody>\n",
       "    <tr>\n",
       "      <th>count</th>\n",
       "      <td>44640.0</td>\n",
       "      <td>44630.000000</td>\n",
       "      <td>44637.000000</td>\n",
       "      <td>44623.000000</td>\n",
       "      <td>44623.000000</td>\n",
       "      <td>44632.000000</td>\n",
       "      <td>44632.000000</td>\n",
       "      <td>44589.000000</td>\n",
       "      <td>44637.000000</td>\n",
       "      <td>44640.000000</td>\n",
       "      <td>44640.000000</td>\n",
       "      <td>44640.000000</td>\n",
       "      <td>44640.000000</td>\n",
       "      <td>44640.000000</td>\n",
       "    </tr>\n",
       "    <tr>\n",
       "      <th>mean</th>\n",
       "      <td>2.0</td>\n",
       "      <td>318.046516</td>\n",
       "      <td>3.269498</td>\n",
       "      <td>348.581987</td>\n",
       "      <td>3.916621</td>\n",
       "      <td>65.294542</td>\n",
       "      <td>0.349209</td>\n",
       "      <td>342.350692</td>\n",
       "      <td>0.224545</td>\n",
       "      <td>110.445004</td>\n",
       "      <td>455.054032</td>\n",
       "      <td>22.525101</td>\n",
       "      <td>39.586891</td>\n",
       "      <td>965.043302</td>\n",
       "    </tr>\n",
       "    <tr>\n",
       "      <th>std</th>\n",
       "      <td>0.0</td>\n",
       "      <td>401.239735</td>\n",
       "      <td>19.032068</td>\n",
       "      <td>412.247947</td>\n",
       "      <td>21.608338</td>\n",
       "      <td>92.513191</td>\n",
       "      <td>1.290990</td>\n",
       "      <td>36.968507</td>\n",
       "      <td>0.354692</td>\n",
       "      <td>134.875619</td>\n",
       "      <td>79.024957</td>\n",
       "      <td>7.340310</td>\n",
       "      <td>24.702667</td>\n",
       "      <td>1.637144</td>\n",
       "    </tr>\n",
       "    <tr>\n",
       "      <th>min</th>\n",
       "      <td>2.0</td>\n",
       "      <td>-8.000000</td>\n",
       "      <td>0.000000</td>\n",
       "      <td>-1.000000</td>\n",
       "      <td>0.000000</td>\n",
       "      <td>-9.000000</td>\n",
       "      <td>0.000000</td>\n",
       "      <td>266.000000</td>\n",
       "      <td>0.000000</td>\n",
       "      <td>-2.000000</td>\n",
       "      <td>338.000000</td>\n",
       "      <td>9.200000</td>\n",
       "      <td>5.200000</td>\n",
       "      <td>960.000000</td>\n",
       "    </tr>\n",
       "    <tr>\n",
       "      <th>25%</th>\n",
       "      <td>2.0</td>\n",
       "      <td>-2.000000</td>\n",
       "      <td>0.000000</td>\n",
       "      <td>0.000000</td>\n",
       "      <td>0.000000</td>\n",
       "      <td>-2.000000</td>\n",
       "      <td>0.000000</td>\n",
       "      <td>313.000000</td>\n",
       "      <td>0.100000</td>\n",
       "      <td>0.000000</td>\n",
       "      <td>388.000000</td>\n",
       "      <td>16.200000</td>\n",
       "      <td>18.000000</td>\n",
       "      <td>964.000000</td>\n",
       "    </tr>\n",
       "    <tr>\n",
       "      <th>50%</th>\n",
       "      <td>2.0</td>\n",
       "      <td>27.000000</td>\n",
       "      <td>0.300000</td>\n",
       "      <td>0.000000</td>\n",
       "      <td>0.000000</td>\n",
       "      <td>19.000000</td>\n",
       "      <td>0.100000</td>\n",
       "      <td>340.000000</td>\n",
       "      <td>0.100000</td>\n",
       "      <td>11.000000</td>\n",
       "      <td>432.000000</td>\n",
       "      <td>22.400000</td>\n",
       "      <td>33.100000</td>\n",
       "      <td>965.000000</td>\n",
       "    </tr>\n",
       "    <tr>\n",
       "      <th>75%</th>\n",
       "      <td>2.0</td>\n",
       "      <td>694.000000</td>\n",
       "      <td>1.000000</td>\n",
       "      <td>813.000000</td>\n",
       "      <td>0.900000</td>\n",
       "      <td>113.000000</td>\n",
       "      <td>0.200000</td>\n",
       "      <td>368.000000</td>\n",
       "      <td>0.300000</td>\n",
       "      <td>245.000000</td>\n",
       "      <td>522.000000</td>\n",
       "      <td>28.400000</td>\n",
       "      <td>58.900000</td>\n",
       "      <td>966.000000</td>\n",
       "    </tr>\n",
       "    <tr>\n",
       "      <th>max</th>\n",
       "      <td>2.0</td>\n",
       "      <td>1383.000000</td>\n",
       "      <td>337.800000</td>\n",
       "      <td>1066.000000</td>\n",
       "      <td>383.100000</td>\n",
       "      <td>659.000000</td>\n",
       "      <td>51.500000</td>\n",
       "      <td>456.000000</td>\n",
       "      <td>18.600000</td>\n",
       "      <td>454.000000</td>\n",
       "      <td>657.000000</td>\n",
       "      <td>43.500000</td>\n",
       "      <td>94.800000</td>\n",
       "      <td>969.000000</td>\n",
       "    </tr>\n",
       "  </tbody>\n",
       "</table>\n",
       "</div>"
      ],
      "text/plain": [
       "           H_m       SWD_Wm2       STD_SWD       DIR_Wm2       STD_DIR  \\\n",
       "count  44640.0  44630.000000  44637.000000  44623.000000  44623.000000   \n",
       "mean       2.0    318.046516      3.269498    348.581987      3.916621   \n",
       "std        0.0    401.239735     19.032068    412.247947     21.608338   \n",
       "min        2.0     -8.000000      0.000000     -1.000000      0.000000   \n",
       "25%        2.0     -2.000000      0.000000      0.000000      0.000000   \n",
       "50%        2.0     27.000000      0.300000      0.000000      0.000000   \n",
       "75%        2.0    694.000000      1.000000    813.000000      0.900000   \n",
       "max        2.0   1383.000000    337.800000   1066.000000    383.100000   \n",
       "\n",
       "            DIF_Wm2       STD_DIF       LWD_Wm2       STD_LWD       SWU_Wm2  \\\n",
       "count  44632.000000  44632.000000  44589.000000  44637.000000  44640.000000   \n",
       "mean      65.294542      0.349209    342.350692      0.224545    110.445004   \n",
       "std       92.513191      1.290990     36.968507      0.354692    134.875619   \n",
       "min       -9.000000      0.000000    266.000000      0.000000     -2.000000   \n",
       "25%       -2.000000      0.000000    313.000000      0.100000      0.000000   \n",
       "50%       19.000000      0.100000    340.000000      0.100000     11.000000   \n",
       "75%      113.000000      0.200000    368.000000      0.300000    245.000000   \n",
       "max      659.000000     51.500000    456.000000     18.600000    454.000000   \n",
       "\n",
       "            LWU_Wm2        T_degC            RH         P_hPa  \n",
       "count  44640.000000  44640.000000  44640.000000  44640.000000  \n",
       "mean     455.054032     22.525101     39.586891    965.043302  \n",
       "std       79.024957      7.340310     24.702667      1.637144  \n",
       "min      338.000000      9.200000      5.200000    960.000000  \n",
       "25%      388.000000     16.200000     18.000000    964.000000  \n",
       "50%      432.000000     22.400000     33.100000    965.000000  \n",
       "75%      522.000000     28.400000     58.900000    966.000000  \n",
       "max      657.000000     43.500000     94.800000    969.000000  "
      ]
     },
     "execution_count": 86,
     "metadata": {},
     "output_type": "execute_result"
    }
   ],
   "source": [
    "bsrn.describe()"
   ]
  },
  {
   "cell_type": "code",
   "execution_count": 92,
   "metadata": {},
   "outputs": [
    {
     "data": {
      "text/plain": [
       "array([2], dtype=int64)"
      ]
     },
     "execution_count": 92,
     "metadata": {},
     "output_type": "execute_result"
    }
   ],
   "source": [
    "bsrn['H_m'].unique()\n",
    "# bsrn.index.unique() would return every single row, because by definition these are all unique IDs"
   ]
  },
  {
   "cell_type": "markdown",
   "metadata": {},
   "source": [
    "\n",
    "<div class=\"python\">\n",
    "    🐍 <b>Method chaining.</b>  This process of stringing multiple methods together in a single line of code is called <b>method chaining</b>, a hallmark of object-oriented programming. Method chaining is a means of concatenating functions in order to quickly complete a series of data transformations. In pandas, we often use method chaining in aggregation processes to perfrom calculations on groups or selections of data. Methods are appended using dot notation to the end of a command. Any code that is expressed using method chaining could also be written using a series of commands (and vice versa). Method chaining is common in JavaScript, and while it is not widely used in Python, it is commonly applied in pandas.\n",
    "</div>\n"
   ]
  },
  {
   "cell_type": "markdown",
   "metadata": {},
   "source": [
    "\n",
    "Dealing with `datetime` objects can be tricky and often requires a bit of trial and error before the timestamps are in the desired format. If you know the format of your dataset and its timestamp records, you can parse the datetimes and set the index when reading in the data. For example, we could have imported our data as follows:\n",
    "\n",
    "```python\n",
    "bsrn = pd.read_csv('../data/BSRN_GOB_2019-10.csv',index_col=0,parse_dates=True)\n",
    "```\n",
    "This would have accomplished what we ultimately did in three lines in a single line of code. But remember, working with most raw datasets is rarely this straightforward – even the file we are using in this session was preprocessed to streamline the import process!"
   ]
  },
  {
   "cell_type": "markdown",
   "metadata": {},
   "source": [
    "### A few useful operations\n",
    "<hr style=\"border-top: 0.2px solid gray; margin-top: 12px; margin-bottom: 1px\"></hr>\n",
    "\n",
    "Now that our DataFrame is a bit cleaner – each of the columns contains a single, numeric data type – we are ready to start working with our data. Next, we'll explore `DataFrame` reduction operations, how to add and delete data, and concatenation in pandas.\n",
    "\n",
    "#### `DataFrame` reduction\n",
    "\n",
    "Much like NumPy, pandas has several useful methods for *reducing* data to a single statistic. These are intuitively named and include: `df.mean()`, `df.median()`, `df.sum()`, `df.max()`, `df.min()`, and `df.std()`. Unlike array reduction, however, these basic statistical methods in pandas operate *column-wise*, returning a Series containing the statistic for each column indexed by column name. For example:\n"
   ]
  },
  {
   "cell_type": "code",
   "execution_count": 87,
   "metadata": {},
   "outputs": [
    {
     "data": {
      "text/plain": [
       "H_m          2.0\n",
       "SWD_Wm2     27.0\n",
       "STD_SWD      0.3\n",
       "DIR_Wm2      0.0\n",
       "STD_DIR      0.0\n",
       "DIF_Wm2     19.0\n",
       "STD_DIF      0.1\n",
       "LWD_Wm2    340.0\n",
       "STD_LWD      0.1\n",
       "SWU_Wm2     11.0\n",
       "LWU_Wm2    432.0\n",
       "T_degC      22.4\n",
       "RH          33.1\n",
       "P_hPa      965.0\n",
       "dtype: float64"
      ]
     },
     "execution_count": 87,
     "metadata": {},
     "output_type": "execute_result"
    }
   ],
   "source": [
    "bsrn.median()"
   ]
  },
  {
   "cell_type": "code",
   "execution_count": 93,
   "metadata": {},
   "outputs": [
    {
     "data": {
      "text/plain": [
       "LWD_Wm2    342.350692\n",
       "SWD_Wm2    318.046516\n",
       "dtype: float64"
      ]
     },
     "execution_count": 93,
     "metadata": {},
     "output_type": "execute_result"
    }
   ],
   "source": [
    "bsrn[['LWD_Wm2', 'SWD_Wm2']].mean()"
   ]
  },
  {
   "cell_type": "markdown",
   "metadata": {},
   "source": [
    "\n",
    "To retrieve the value for just a single column, you can use indexing to call the column as a Series:\n"
   ]
  },
  {
   "cell_type": "code",
   "execution_count": 88,
   "metadata": {},
   "outputs": [
    {
     "data": {
      "text/plain": [
       "27.0"
      ]
     },
     "execution_count": 88,
     "metadata": {},
     "output_type": "execute_result"
    }
   ],
   "source": [
    "bsrn.SWD_Wm2.median()"
   ]
  },
  {
   "cell_type": "markdown",
   "metadata": {},
   "source": [
    "\n",
    "Furthermore, while it is not apparent in this example, pandas default behaviour is to **ignore NaN values** when performing computations. This can be changed by passing `skipna=False` to the reduction method (e.g. `df.median(skipna=False)`), though skipping NaNs is often quite useful!\n",
    "\n"
   ]
  },
  {
   "cell_type": "code",
   "execution_count": null,
   "metadata": {},
   "outputs": [],
   "source": []
  },
  {
   "cell_type": "markdown",
   "metadata": {},
   "source": [
    "### Adding data"
   ]
  },
  {
   "cell_type": "markdown",
   "metadata": {},
   "source": []
  },
  {
   "cell_type": "code",
   "execution_count": 94,
   "metadata": {},
   "outputs": [
    {
     "data": {
      "text/html": [
       "<div>\n",
       "<style scoped>\n",
       "    .dataframe tbody tr th:only-of-type {\n",
       "        vertical-align: middle;\n",
       "    }\n",
       "\n",
       "    .dataframe tbody tr th {\n",
       "        vertical-align: top;\n",
       "    }\n",
       "\n",
       "    .dataframe thead th {\n",
       "        text-align: right;\n",
       "    }\n",
       "</style>\n",
       "<table border=\"1\" class=\"dataframe\">\n",
       "  <thead>\n",
       "    <tr style=\"text-align: right;\">\n",
       "      <th></th>\n",
       "      <th>A</th>\n",
       "      <th>B</th>\n",
       "      <th>C</th>\n",
       "      <th>D</th>\n",
       "      <th>E</th>\n",
       "      <th>F</th>\n",
       "      <th>G</th>\n",
       "    </tr>\n",
       "  </thead>\n",
       "  <tbody>\n",
       "    <tr>\n",
       "      <th>0</th>\n",
       "      <td>25.8</td>\n",
       "      <td>28.1</td>\n",
       "      <td>16.2</td>\n",
       "      <td>11.0</td>\n",
       "      <td>13.0</td>\n",
       "      <td>18</td>\n",
       "      <td>blue</td>\n",
       "    </tr>\n",
       "    <tr>\n",
       "      <th>1</th>\n",
       "      <td>17.9</td>\n",
       "      <td>14.2</td>\n",
       "      <td>18.8</td>\n",
       "      <td>28.0</td>\n",
       "      <td>40.1</td>\n",
       "      <td>22</td>\n",
       "      <td>blue</td>\n",
       "    </tr>\n",
       "    <tr>\n",
       "      <th>2</th>\n",
       "      <td>23.6</td>\n",
       "      <td>18.4</td>\n",
       "      <td>29.9</td>\n",
       "      <td>27.8</td>\n",
       "      <td>39.8</td>\n",
       "      <td>30</td>\n",
       "      <td>blue</td>\n",
       "    </tr>\n",
       "    <tr>\n",
       "      <th>3</th>\n",
       "      <td>23.6</td>\n",
       "      <td>36.2</td>\n",
       "      <td>22.1</td>\n",
       "      <td>14.5</td>\n",
       "      <td>28.2</td>\n",
       "      <td>24</td>\n",
       "      <td>blue</td>\n",
       "    </tr>\n",
       "  </tbody>\n",
       "</table>\n",
       "</div>"
      ],
      "text/plain": [
       "      A     B     C     D     E   F     G\n",
       "0  25.8  28.1  16.2  11.0  13.0  18  blue\n",
       "1  17.9  14.2  18.8  28.0  40.1  22  blue\n",
       "2  23.6  18.4  29.9  27.8  39.8  30  blue\n",
       "3  23.6  36.2  22.1  14.5  28.2  24  blue"
      ]
     },
     "execution_count": 94,
     "metadata": {},
     "output_type": "execute_result"
    }
   ],
   "source": [
    "df = pd.DataFrame([[25.8, 28.1, 16.2, 11.0],\n",
    "                   [17.9, 14.2, 18.8, 28.0],\n",
    "                   [23.6, 18.4, 29.9, 27.8],\n",
    "                   [23.6, 36.2, 22.1, 14.5]],\n",
    "                 columns=['A','B','C','D'])\n",
    "\n",
    "# Add a column from a list\n",
    "df['E'] = [13.0, 40.1, 39.8, 28.2]\n",
    "\n",
    "# Add a column from a Series\n",
    "df['F'] = pd.Series([18, 22, 30, 24])\n",
    "\n",
    "# Propagate a single value through all rows\n",
    "df['G'] = 'blue'\n",
    "\n",
    "df"
   ]
  },
  {
   "cell_type": "code",
   "execution_count": 95,
   "metadata": {},
   "outputs": [
    {
     "data": {
      "text/html": [
       "<div>\n",
       "<style scoped>\n",
       "    .dataframe tbody tr th:only-of-type {\n",
       "        vertical-align: middle;\n",
       "    }\n",
       "\n",
       "    .dataframe tbody tr th {\n",
       "        vertical-align: top;\n",
       "    }\n",
       "\n",
       "    .dataframe thead th {\n",
       "        text-align: right;\n",
       "    }\n",
       "</style>\n",
       "<table border=\"1\" class=\"dataframe\">\n",
       "  <thead>\n",
       "    <tr style=\"text-align: right;\">\n",
       "      <th></th>\n",
       "      <th>A</th>\n",
       "      <th>B</th>\n",
       "      <th>C</th>\n",
       "      <th>D</th>\n",
       "      <th>E</th>\n",
       "      <th>F</th>\n",
       "      <th>G</th>\n",
       "      <th>H</th>\n",
       "    </tr>\n",
       "  </thead>\n",
       "  <tbody>\n",
       "    <tr>\n",
       "      <th>0</th>\n",
       "      <td>25.8</td>\n",
       "      <td>28.1</td>\n",
       "      <td>16.2</td>\n",
       "      <td>11.0</td>\n",
       "      <td>13.0</td>\n",
       "      <td>18</td>\n",
       "      <td>blue</td>\n",
       "      <td>52.0</td>\n",
       "    </tr>\n",
       "    <tr>\n",
       "      <th>1</th>\n",
       "      <td>17.9</td>\n",
       "      <td>14.2</td>\n",
       "      <td>18.8</td>\n",
       "      <td>28.0</td>\n",
       "      <td>40.1</td>\n",
       "      <td>22</td>\n",
       "      <td>blue</td>\n",
       "      <td>160.4</td>\n",
       "    </tr>\n",
       "    <tr>\n",
       "      <th>2</th>\n",
       "      <td>23.6</td>\n",
       "      <td>18.4</td>\n",
       "      <td>29.9</td>\n",
       "      <td>27.8</td>\n",
       "      <td>39.8</td>\n",
       "      <td>30</td>\n",
       "      <td>blue</td>\n",
       "      <td>159.2</td>\n",
       "    </tr>\n",
       "    <tr>\n",
       "      <th>3</th>\n",
       "      <td>23.6</td>\n",
       "      <td>36.2</td>\n",
       "      <td>22.1</td>\n",
       "      <td>14.5</td>\n",
       "      <td>28.2</td>\n",
       "      <td>24</td>\n",
       "      <td>blue</td>\n",
       "      <td>112.8</td>\n",
       "    </tr>\n",
       "  </tbody>\n",
       "</table>\n",
       "</div>"
      ],
      "text/plain": [
       "      A     B     C     D     E   F     G      H\n",
       "0  25.8  28.1  16.2  11.0  13.0  18  blue   52.0\n",
       "1  17.9  14.2  18.8  28.0  40.1  22  blue  160.4\n",
       "2  23.6  18.4  29.9  27.8  39.8  30  blue  159.2\n",
       "3  23.6  36.2  22.1  14.5  28.2  24  blue  112.8"
      ]
     },
     "execution_count": 95,
     "metadata": {},
     "output_type": "execute_result"
    }
   ],
   "source": [
    "df['H'] = df['E'] * 4\n",
    "df"
   ]
  },
  {
   "cell_type": "code",
   "execution_count": 96,
   "metadata": {},
   "outputs": [
    {
     "data": {
      "text/html": [
       "<div>\n",
       "<style scoped>\n",
       "    .dataframe tbody tr th:only-of-type {\n",
       "        vertical-align: middle;\n",
       "    }\n",
       "\n",
       "    .dataframe tbody tr th {\n",
       "        vertical-align: top;\n",
       "    }\n",
       "\n",
       "    .dataframe thead th {\n",
       "        text-align: right;\n",
       "    }\n",
       "</style>\n",
       "<table border=\"1\" class=\"dataframe\">\n",
       "  <thead>\n",
       "    <tr style=\"text-align: right;\">\n",
       "      <th></th>\n",
       "      <th>A</th>\n",
       "      <th>B</th>\n",
       "      <th>C</th>\n",
       "      <th>D</th>\n",
       "      <th>E</th>\n",
       "      <th>F</th>\n",
       "      <th>G</th>\n",
       "      <th>H</th>\n",
       "      <th>AB_diff</th>\n",
       "    </tr>\n",
       "  </thead>\n",
       "  <tbody>\n",
       "    <tr>\n",
       "      <th>0</th>\n",
       "      <td>25.8</td>\n",
       "      <td>28.1</td>\n",
       "      <td>16.2</td>\n",
       "      <td>11.0</td>\n",
       "      <td>13.0</td>\n",
       "      <td>18</td>\n",
       "      <td>blue</td>\n",
       "      <td>52.0</td>\n",
       "      <td>-2.3</td>\n",
       "    </tr>\n",
       "    <tr>\n",
       "      <th>1</th>\n",
       "      <td>17.9</td>\n",
       "      <td>14.2</td>\n",
       "      <td>18.8</td>\n",
       "      <td>28.0</td>\n",
       "      <td>40.1</td>\n",
       "      <td>22</td>\n",
       "      <td>blue</td>\n",
       "      <td>160.4</td>\n",
       "      <td>3.7</td>\n",
       "    </tr>\n",
       "    <tr>\n",
       "      <th>2</th>\n",
       "      <td>23.6</td>\n",
       "      <td>18.4</td>\n",
       "      <td>29.9</td>\n",
       "      <td>27.8</td>\n",
       "      <td>39.8</td>\n",
       "      <td>30</td>\n",
       "      <td>blue</td>\n",
       "      <td>159.2</td>\n",
       "      <td>5.2</td>\n",
       "    </tr>\n",
       "    <tr>\n",
       "      <th>3</th>\n",
       "      <td>23.6</td>\n",
       "      <td>36.2</td>\n",
       "      <td>22.1</td>\n",
       "      <td>14.5</td>\n",
       "      <td>28.2</td>\n",
       "      <td>24</td>\n",
       "      <td>blue</td>\n",
       "      <td>112.8</td>\n",
       "      <td>-12.6</td>\n",
       "    </tr>\n",
       "  </tbody>\n",
       "</table>\n",
       "</div>"
      ],
      "text/plain": [
       "      A     B     C     D     E   F     G      H  AB_diff\n",
       "0  25.8  28.1  16.2  11.0  13.0  18  blue   52.0     -2.3\n",
       "1  17.9  14.2  18.8  28.0  40.1  22  blue  160.4      3.7\n",
       "2  23.6  18.4  29.9  27.8  39.8  30  blue  159.2      5.2\n",
       "3  23.6  36.2  22.1  14.5  28.2  24  blue  112.8    -12.6"
      ]
     },
     "execution_count": 96,
     "metadata": {},
     "output_type": "execute_result"
    }
   ],
   "source": [
    "df['AB_diff'] = df.A - df.B\n",
    "\n",
    "df"
   ]
  },
  {
   "cell_type": "code",
   "execution_count": 139,
   "metadata": {},
   "outputs": [],
   "source": [
    "df = pd.DataFrame([[25.8, 28.1, 16.2, 11.0],\n",
    "                   [17.9, 14.2, 18.8, 28.0],\n",
    "                   [23.6, 18.4, 29.9, 27.8],\n",
    "                   [23.6, 36.2, 22.1, 14.5]],\n",
    "                 columns=['A','B','C','D'])\n",
    "\n",
    "# Add a column from a list\n",
    "df['E'] = [13.0, 40.1, 39.8, 28.2]\n",
    "\n",
    "# Add a column from a Series\n",
    "df['F'] = pd.Series([18, 22, 30, 24])\n"
   ]
  },
  {
   "cell_type": "code",
   "execution_count": 140,
   "metadata": {},
   "outputs": [
    {
     "data": {
      "text/html": [
       "<div>\n",
       "<style scoped>\n",
       "    .dataframe tbody tr th:only-of-type {\n",
       "        vertical-align: middle;\n",
       "    }\n",
       "\n",
       "    .dataframe tbody tr th {\n",
       "        vertical-align: top;\n",
       "    }\n",
       "\n",
       "    .dataframe thead th {\n",
       "        text-align: right;\n",
       "    }\n",
       "</style>\n",
       "<table border=\"1\" class=\"dataframe\">\n",
       "  <thead>\n",
       "    <tr style=\"text-align: right;\">\n",
       "      <th></th>\n",
       "      <th>A</th>\n",
       "      <th>B</th>\n",
       "      <th>C</th>\n",
       "      <th>D</th>\n",
       "      <th>E</th>\n",
       "      <th>F</th>\n",
       "      <th>A_degF</th>\n",
       "    </tr>\n",
       "  </thead>\n",
       "  <tbody>\n",
       "    <tr>\n",
       "      <th>0</th>\n",
       "      <td>25.8</td>\n",
       "      <td>28.1</td>\n",
       "      <td>16.2</td>\n",
       "      <td>11.0</td>\n",
       "      <td>13.0</td>\n",
       "      <td>18</td>\n",
       "      <td>78.44</td>\n",
       "    </tr>\n",
       "    <tr>\n",
       "      <th>1</th>\n",
       "      <td>17.9</td>\n",
       "      <td>14.2</td>\n",
       "      <td>18.8</td>\n",
       "      <td>28.0</td>\n",
       "      <td>40.1</td>\n",
       "      <td>22</td>\n",
       "      <td>64.22</td>\n",
       "    </tr>\n",
       "    <tr>\n",
       "      <th>2</th>\n",
       "      <td>23.6</td>\n",
       "      <td>18.4</td>\n",
       "      <td>29.9</td>\n",
       "      <td>27.8</td>\n",
       "      <td>39.8</td>\n",
       "      <td>30</td>\n",
       "      <td>74.48</td>\n",
       "    </tr>\n",
       "    <tr>\n",
       "      <th>3</th>\n",
       "      <td>23.6</td>\n",
       "      <td>36.2</td>\n",
       "      <td>22.1</td>\n",
       "      <td>14.5</td>\n",
       "      <td>28.2</td>\n",
       "      <td>24</td>\n",
       "      <td>74.48</td>\n",
       "    </tr>\n",
       "  </tbody>\n",
       "</table>\n",
       "</div>"
      ],
      "text/plain": [
       "      A     B     C     D     E   F  A_degF\n",
       "0  25.8  28.1  16.2  11.0  13.0  18   78.44\n",
       "1  17.9  14.2  18.8  28.0  40.1  22   64.22\n",
       "2  23.6  18.4  29.9  27.8  39.8  30   74.48\n",
       "3  23.6  36.2  22.1  14.5  28.2  24   74.48"
      ]
     },
     "execution_count": 140,
     "metadata": {},
     "output_type": "execute_result"
    }
   ],
   "source": [
    "df['A_degF'] = (df['A'] * (9/5) + 32)\n",
    "df"
   ]
  },
  {
   "cell_type": "code",
   "execution_count": 141,
   "metadata": {},
   "outputs": [
    {
     "data": {
      "text/plain": [
       "0     True\n",
       "1    False\n",
       "2     True\n",
       "3     True\n",
       "Name: A, dtype: bool"
      ]
     },
     "execution_count": 141,
     "metadata": {},
     "output_type": "execute_result"
    }
   ],
   "source": [
    "df['A'] >= 20"
   ]
  },
  {
   "cell_type": "code",
   "execution_count": 142,
   "metadata": {},
   "outputs": [
    {
     "data": {
      "text/html": [
       "<div>\n",
       "<style scoped>\n",
       "    .dataframe tbody tr th:only-of-type {\n",
       "        vertical-align: middle;\n",
       "    }\n",
       "\n",
       "    .dataframe tbody tr th {\n",
       "        vertical-align: top;\n",
       "    }\n",
       "\n",
       "    .dataframe thead th {\n",
       "        text-align: right;\n",
       "    }\n",
       "</style>\n",
       "<table border=\"1\" class=\"dataframe\">\n",
       "  <thead>\n",
       "    <tr style=\"text-align: right;\">\n",
       "      <th></th>\n",
       "      <th>A</th>\n",
       "      <th>B</th>\n",
       "      <th>C</th>\n",
       "      <th>D</th>\n",
       "      <th>E</th>\n",
       "      <th>F</th>\n",
       "      <th>A_degF</th>\n",
       "    </tr>\n",
       "  </thead>\n",
       "  <tbody>\n",
       "    <tr>\n",
       "      <th>0</th>\n",
       "      <td>25.8</td>\n",
       "      <td>28.1</td>\n",
       "      <td>16.2</td>\n",
       "      <td>11.0</td>\n",
       "      <td>13.0</td>\n",
       "      <td>18</td>\n",
       "      <td>78.44</td>\n",
       "    </tr>\n",
       "    <tr>\n",
       "      <th>2</th>\n",
       "      <td>23.6</td>\n",
       "      <td>18.4</td>\n",
       "      <td>29.9</td>\n",
       "      <td>27.8</td>\n",
       "      <td>39.8</td>\n",
       "      <td>30</td>\n",
       "      <td>74.48</td>\n",
       "    </tr>\n",
       "    <tr>\n",
       "      <th>3</th>\n",
       "      <td>23.6</td>\n",
       "      <td>36.2</td>\n",
       "      <td>22.1</td>\n",
       "      <td>14.5</td>\n",
       "      <td>28.2</td>\n",
       "      <td>24</td>\n",
       "      <td>74.48</td>\n",
       "    </tr>\n",
       "  </tbody>\n",
       "</table>\n",
       "</div>"
      ],
      "text/plain": [
       "      A     B     C     D     E   F  A_degF\n",
       "0  25.8  28.1  16.2  11.0  13.0  18   78.44\n",
       "2  23.6  18.4  29.9  27.8  39.8  30   74.48\n",
       "3  23.6  36.2  22.1  14.5  28.2  24   74.48"
      ]
     },
     "execution_count": 142,
     "metadata": {},
     "output_type": "execute_result"
    }
   ],
   "source": [
    "# filtering\n",
    "# do a boolean test against the A column, \n",
    "# return rows where this criteria is true\n",
    "df[df['A'] >= 20]"
   ]
  },
  {
   "cell_type": "code",
   "execution_count": 143,
   "metadata": {},
   "outputs": [
    {
     "data": {
      "text/html": [
       "<div>\n",
       "<style scoped>\n",
       "    .dataframe tbody tr th:only-of-type {\n",
       "        vertical-align: middle;\n",
       "    }\n",
       "\n",
       "    .dataframe tbody tr th {\n",
       "        vertical-align: top;\n",
       "    }\n",
       "\n",
       "    .dataframe thead th {\n",
       "        text-align: right;\n",
       "    }\n",
       "</style>\n",
       "<table border=\"1\" class=\"dataframe\">\n",
       "  <thead>\n",
       "    <tr style=\"text-align: right;\">\n",
       "      <th></th>\n",
       "      <th>A</th>\n",
       "      <th>B</th>\n",
       "      <th>C</th>\n",
       "      <th>D</th>\n",
       "      <th>E</th>\n",
       "      <th>F</th>\n",
       "      <th>A_degF</th>\n",
       "    </tr>\n",
       "  </thead>\n",
       "  <tbody>\n",
       "    <tr>\n",
       "      <th>1</th>\n",
       "      <td>17.9</td>\n",
       "      <td>14.2</td>\n",
       "      <td>18.8</td>\n",
       "      <td>28.0</td>\n",
       "      <td>40.1</td>\n",
       "      <td>22</td>\n",
       "      <td>64.22</td>\n",
       "    </tr>\n",
       "    <tr>\n",
       "      <th>2</th>\n",
       "      <td>23.6</td>\n",
       "      <td>18.4</td>\n",
       "      <td>29.9</td>\n",
       "      <td>27.8</td>\n",
       "      <td>39.8</td>\n",
       "      <td>30</td>\n",
       "      <td>74.48</td>\n",
       "    </tr>\n",
       "  </tbody>\n",
       "</table>\n",
       "</div>"
      ],
      "text/plain": [
       "      A     B     C     D     E   F  A_degF\n",
       "1  17.9  14.2  18.8  28.0  40.1  22   64.22\n",
       "2  23.6  18.4  29.9  27.8  39.8  30   74.48"
      ]
     },
     "execution_count": 143,
     "metadata": {},
     "output_type": "execute_result"
    }
   ],
   "source": [
    "df[ #dataframe rows where\n",
    "    df['A'] >= df['B'] # this statement is true\n",
    "    ]"
   ]
  },
  {
   "cell_type": "code",
   "execution_count": 144,
   "metadata": {},
   "outputs": [
    {
     "data": {
      "text/html": [
       "<div>\n",
       "<style scoped>\n",
       "    .dataframe tbody tr th:only-of-type {\n",
       "        vertical-align: middle;\n",
       "    }\n",
       "\n",
       "    .dataframe tbody tr th {\n",
       "        vertical-align: top;\n",
       "    }\n",
       "\n",
       "    .dataframe thead th {\n",
       "        text-align: right;\n",
       "    }\n",
       "</style>\n",
       "<table border=\"1\" class=\"dataframe\">\n",
       "  <thead>\n",
       "    <tr style=\"text-align: right;\">\n",
       "      <th></th>\n",
       "      <th>A</th>\n",
       "      <th>B</th>\n",
       "      <th>C</th>\n",
       "      <th>D</th>\n",
       "      <th>E</th>\n",
       "      <th>F</th>\n",
       "      <th>A_degF</th>\n",
       "      <th>is_hot</th>\n",
       "    </tr>\n",
       "  </thead>\n",
       "  <tbody>\n",
       "    <tr>\n",
       "      <th>0</th>\n",
       "      <td>25.8</td>\n",
       "      <td>28.1</td>\n",
       "      <td>16.2</td>\n",
       "      <td>11.0</td>\n",
       "      <td>13.0</td>\n",
       "      <td>18</td>\n",
       "      <td>78.44</td>\n",
       "      <td>True</td>\n",
       "    </tr>\n",
       "    <tr>\n",
       "      <th>1</th>\n",
       "      <td>17.9</td>\n",
       "      <td>14.2</td>\n",
       "      <td>18.8</td>\n",
       "      <td>28.0</td>\n",
       "      <td>40.1</td>\n",
       "      <td>22</td>\n",
       "      <td>64.22</td>\n",
       "      <td>False</td>\n",
       "    </tr>\n",
       "    <tr>\n",
       "      <th>2</th>\n",
       "      <td>23.6</td>\n",
       "      <td>18.4</td>\n",
       "      <td>29.9</td>\n",
       "      <td>27.8</td>\n",
       "      <td>39.8</td>\n",
       "      <td>30</td>\n",
       "      <td>74.48</td>\n",
       "      <td>True</td>\n",
       "    </tr>\n",
       "    <tr>\n",
       "      <th>3</th>\n",
       "      <td>23.6</td>\n",
       "      <td>36.2</td>\n",
       "      <td>22.1</td>\n",
       "      <td>14.5</td>\n",
       "      <td>28.2</td>\n",
       "      <td>24</td>\n",
       "      <td>74.48</td>\n",
       "      <td>True</td>\n",
       "    </tr>\n",
       "  </tbody>\n",
       "</table>\n",
       "</div>"
      ],
      "text/plain": [
       "      A     B     C     D     E   F  A_degF  is_hot\n",
       "0  25.8  28.1  16.2  11.0  13.0  18   78.44    True\n",
       "1  17.9  14.2  18.8  28.0  40.1  22   64.22   False\n",
       "2  23.6  18.4  29.9  27.8  39.8  30   74.48    True\n",
       "3  23.6  36.2  22.1  14.5  28.2  24   74.48    True"
      ]
     },
     "execution_count": 144,
     "metadata": {},
     "output_type": "execute_result"
    }
   ],
   "source": [
    "df[\"is_hot\"] = df['A'] >= 20\n",
    "df"
   ]
  },
  {
   "cell_type": "code",
   "execution_count": 145,
   "metadata": {},
   "outputs": [
    {
     "data": {
      "text/html": [
       "<div>\n",
       "<style scoped>\n",
       "    .dataframe tbody tr th:only-of-type {\n",
       "        vertical-align: middle;\n",
       "    }\n",
       "\n",
       "    .dataframe tbody tr th {\n",
       "        vertical-align: top;\n",
       "    }\n",
       "\n",
       "    .dataframe thead th {\n",
       "        text-align: right;\n",
       "    }\n",
       "</style>\n",
       "<table border=\"1\" class=\"dataframe\">\n",
       "  <thead>\n",
       "    <tr style=\"text-align: right;\">\n",
       "      <th></th>\n",
       "      <th>A</th>\n",
       "      <th>B</th>\n",
       "      <th>C</th>\n",
       "      <th>D</th>\n",
       "      <th>E</th>\n",
       "      <th>F</th>\n",
       "      <th>A_degF</th>\n",
       "      <th>is_hot</th>\n",
       "    </tr>\n",
       "  </thead>\n",
       "  <tbody>\n",
       "    <tr>\n",
       "      <th>0</th>\n",
       "      <td>25.8</td>\n",
       "      <td>28.1</td>\n",
       "      <td>16.2</td>\n",
       "      <td>11.0</td>\n",
       "      <td>13.0</td>\n",
       "      <td>18</td>\n",
       "      <td>78.44</td>\n",
       "      <td>True</td>\n",
       "    </tr>\n",
       "    <tr>\n",
       "      <th>2</th>\n",
       "      <td>23.6</td>\n",
       "      <td>18.4</td>\n",
       "      <td>29.9</td>\n",
       "      <td>27.8</td>\n",
       "      <td>39.8</td>\n",
       "      <td>30</td>\n",
       "      <td>74.48</td>\n",
       "      <td>True</td>\n",
       "    </tr>\n",
       "    <tr>\n",
       "      <th>3</th>\n",
       "      <td>23.6</td>\n",
       "      <td>36.2</td>\n",
       "      <td>22.1</td>\n",
       "      <td>14.5</td>\n",
       "      <td>28.2</td>\n",
       "      <td>24</td>\n",
       "      <td>74.48</td>\n",
       "      <td>True</td>\n",
       "    </tr>\n",
       "  </tbody>\n",
       "</table>\n",
       "</div>"
      ],
      "text/plain": [
       "      A     B     C     D     E   F  A_degF  is_hot\n",
       "0  25.8  28.1  16.2  11.0  13.0  18   78.44    True\n",
       "2  23.6  18.4  29.9  27.8  39.8  30   74.48    True\n",
       "3  23.6  36.2  22.1  14.5  28.2  24   74.48    True"
      ]
     },
     "execution_count": 145,
     "metadata": {},
     "output_type": "execute_result"
    }
   ],
   "source": [
    "# determine what value of d < c\n",
    "\n",
    "df[\n",
    "    df['D'] <= df['C']\n",
    "    ]"
   ]
  },
  {
   "cell_type": "code",
   "execution_count": 146,
   "metadata": {},
   "outputs": [
    {
     "data": {
      "text/plain": [
       "A         20.75\n",
       "B         16.30\n",
       "C         24.35\n",
       "D         27.90\n",
       "E         39.95\n",
       "F         26.00\n",
       "A_degF    69.35\n",
       "is_hot     0.50\n",
       "dtype: float64"
      ]
     },
     "execution_count": 146,
     "metadata": {},
     "output_type": "execute_result"
    }
   ],
   "source": [
    "# avg values of all locations in the df where A > D\n",
    "df[\n",
    "    df['A'] <= df['D']\n",
    "    ].mean()\n"
   ]
  },
  {
   "cell_type": "code",
   "execution_count": 147,
   "metadata": {},
   "outputs": [
    {
     "data": {
      "text/plain": [
       "C    24.35\n",
       "E    39.95\n",
       "dtype: float64"
      ]
     },
     "execution_count": 147,
     "metadata": {},
     "output_type": "execute_result"
    }
   ],
   "source": [
    "# avg values of all locations in the df where A > D\n",
    "df[ # take a dataframe\n",
    "    df['A'] <= df['D'] # find the rows where this is true\n",
    "    ][\n",
    "        ['C', 'E'] # give me this part of it\n",
    "        ].mean()  # take the mean\n"
   ]
  },
  {
   "cell_type": "code",
   "execution_count": 148,
   "metadata": {},
   "outputs": [
    {
     "data": {
      "text/plain": [
       "F         26.00\n",
       "A_degF    69.35\n",
       "is_hot     0.50\n",
       "dtype: float64"
      ]
     },
     "execution_count": 148,
     "metadata": {},
     "output_type": "execute_result"
    }
   ],
   "source": [
    "# avg values of all locations in the df where A > D\n",
    "df[ # take a dataframe\n",
    "    df['A'] <= df['D'] # find the rows where this is true\n",
    "    ].iloc[\n",
    "        :,-3: # select only these columns\n",
    "        ].mean()  # take the mean\n",
    "\n",
    "\n",
    "# note in the output: assumes that if you take the average of a boolean, \n",
    "# you'll take the average of 1s and 0s"
   ]
  },
  {
   "cell_type": "code",
   "execution_count": 127,
   "metadata": {},
   "outputs": [
    {
     "data": {
      "text/plain": [
       "C    24.35\n",
       "E    39.95\n",
       "dtype: float64"
      ]
     },
     "execution_count": 127,
     "metadata": {},
     "output_type": "execute_result"
    }
   ],
   "source": [
    "import numpy as np\n",
    "df[ # take a dataframe\n",
    "    df['A'] <= df['D'] # find the rows where this is true\n",
    "    ][\n",
    "        ['C', 'E'] # give me this part of it\n",
    "        ].apply(np.mean)  # take the mean\n"
   ]
  },
  {
   "cell_type": "code",
   "execution_count": 150,
   "metadata": {},
   "outputs": [
    {
     "data": {
      "text/html": [
       "<div>\n",
       "<style scoped>\n",
       "    .dataframe tbody tr th:only-of-type {\n",
       "        vertical-align: middle;\n",
       "    }\n",
       "\n",
       "    .dataframe tbody tr th {\n",
       "        vertical-align: top;\n",
       "    }\n",
       "\n",
       "    .dataframe thead th {\n",
       "        text-align: right;\n",
       "    }\n",
       "</style>\n",
       "<table border=\"1\" class=\"dataframe\">\n",
       "  <thead>\n",
       "    <tr style=\"text-align: right;\">\n",
       "      <th></th>\n",
       "      <th>A</th>\n",
       "      <th>B</th>\n",
       "      <th>C</th>\n",
       "      <th>D</th>\n",
       "      <th>E</th>\n",
       "      <th>F</th>\n",
       "      <th>A_degF</th>\n",
       "      <th>is_hot</th>\n",
       "      <th>D_less20</th>\n",
       "      <th>BC_diff</th>\n",
       "    </tr>\n",
       "  </thead>\n",
       "  <tbody>\n",
       "    <tr>\n",
       "      <th>0</th>\n",
       "      <td>25.8</td>\n",
       "      <td>28.1</td>\n",
       "      <td>16.2</td>\n",
       "      <td>11.0</td>\n",
       "      <td>13.0</td>\n",
       "      <td>18</td>\n",
       "      <td>78.44</td>\n",
       "      <td>True</td>\n",
       "      <td>NaN</td>\n",
       "      <td>11.9</td>\n",
       "    </tr>\n",
       "    <tr>\n",
       "      <th>1</th>\n",
       "      <td>17.9</td>\n",
       "      <td>14.2</td>\n",
       "      <td>18.8</td>\n",
       "      <td>28.0</td>\n",
       "      <td>40.1</td>\n",
       "      <td>22</td>\n",
       "      <td>64.22</td>\n",
       "      <td>False</td>\n",
       "      <td>8.0</td>\n",
       "      <td>-4.6</td>\n",
       "    </tr>\n",
       "    <tr>\n",
       "      <th>2</th>\n",
       "      <td>23.6</td>\n",
       "      <td>18.4</td>\n",
       "      <td>29.9</td>\n",
       "      <td>27.8</td>\n",
       "      <td>39.8</td>\n",
       "      <td>30</td>\n",
       "      <td>74.48</td>\n",
       "      <td>True</td>\n",
       "      <td>7.8</td>\n",
       "      <td>-11.5</td>\n",
       "    </tr>\n",
       "    <tr>\n",
       "      <th>3</th>\n",
       "      <td>23.6</td>\n",
       "      <td>36.2</td>\n",
       "      <td>22.1</td>\n",
       "      <td>14.5</td>\n",
       "      <td>28.2</td>\n",
       "      <td>24</td>\n",
       "      <td>74.48</td>\n",
       "      <td>True</td>\n",
       "      <td>NaN</td>\n",
       "      <td>14.1</td>\n",
       "    </tr>\n",
       "  </tbody>\n",
       "</table>\n",
       "</div>"
      ],
      "text/plain": [
       "      A     B     C     D     E   F  A_degF  is_hot  D_less20  BC_diff\n",
       "0  25.8  28.1  16.2  11.0  13.0  18   78.44    True       NaN     11.9\n",
       "1  17.9  14.2  18.8  28.0  40.1  22   64.22   False       8.0     -4.6\n",
       "2  23.6  18.4  29.9  27.8  39.8  30   74.48    True       7.8    -11.5\n",
       "3  23.6  36.2  22.1  14.5  28.2  24   74.48    True       NaN     14.1"
      ]
     },
     "execution_count": 150,
     "metadata": {},
     "output_type": "execute_result"
    }
   ],
   "source": [
    "df['BC_diff'] = df.B - df.C\n",
    "df['D_less20'] = df.D[df.D >= 20.0] - 20.0\n",
    "\n",
    "df"
   ]
  },
  {
   "cell_type": "code",
   "execution_count": 155,
   "metadata": {},
   "outputs": [
    {
     "name": "stdout",
     "output_type": "stream",
     "text": [
      "      A     B     C     D     E   F  A_degF  is_hot  D_less20  BC_diff     H\n",
      "0  25.8  28.1  16.2  11.0  13.0  18   78.44    True       NaN     11.9   NaN\n",
      "1  17.9  14.2  18.8  28.0  40.1  22   64.22   False       8.0     -4.6  28.0\n",
      "2  23.6  18.4  29.9  27.8  39.8  30   74.48    True       7.8    -11.5  27.8\n",
      "3  23.6  36.2  22.1  14.5  28.2  24   74.48    True       NaN     14.1   NaN\n"
     ]
    },
    {
     "data": {
      "text/plain": [
       "27.9"
      ]
     },
     "execution_count": 155,
     "metadata": {},
     "output_type": "execute_result"
    }
   ],
   "source": [
    "df['H'] = df.D[df.D >= 20]\n",
    "print(df)\n",
    "# pandas assumes you want that average of the values that exist\n",
    "df['H'].mean()"
   ]
  },
  {
   "cell_type": "code",
   "execution_count": 156,
   "metadata": {},
   "outputs": [
    {
     "data": {
      "text/plain": [
       "nan"
      ]
     },
     "execution_count": 156,
     "metadata": {},
     "output_type": "execute_result"
    }
   ],
   "source": [
    "df['H'].mean(skipna=False)"
   ]
  },
  {
   "cell_type": "code",
   "execution_count": 157,
   "metadata": {},
   "outputs": [
    {
     "data": {
      "text/html": [
       "<div>\n",
       "<style scoped>\n",
       "    .dataframe tbody tr th:only-of-type {\n",
       "        vertical-align: middle;\n",
       "    }\n",
       "\n",
       "    .dataframe tbody tr th {\n",
       "        vertical-align: top;\n",
       "    }\n",
       "\n",
       "    .dataframe thead th {\n",
       "        text-align: right;\n",
       "    }\n",
       "</style>\n",
       "<table border=\"1\" class=\"dataframe\">\n",
       "  <thead>\n",
       "    <tr style=\"text-align: right;\">\n",
       "      <th></th>\n",
       "      <th>A</th>\n",
       "      <th>B</th>\n",
       "      <th>C</th>\n",
       "      <th>D</th>\n",
       "      <th>E</th>\n",
       "      <th>F</th>\n",
       "      <th>A_degF</th>\n",
       "      <th>D_less20</th>\n",
       "      <th>BC_diff</th>\n",
       "      <th>H</th>\n",
       "    </tr>\n",
       "  </thead>\n",
       "  <tbody>\n",
       "    <tr>\n",
       "      <th>count</th>\n",
       "      <td>4.000000</td>\n",
       "      <td>4.000000</td>\n",
       "      <td>4.000000</td>\n",
       "      <td>4.000000</td>\n",
       "      <td>4.00000</td>\n",
       "      <td>4.0</td>\n",
       "      <td>4.000000</td>\n",
       "      <td>2.000000</td>\n",
       "      <td>4.000000</td>\n",
       "      <td>2.000000</td>\n",
       "    </tr>\n",
       "    <tr>\n",
       "      <th>mean</th>\n",
       "      <td>22.725000</td>\n",
       "      <td>24.225000</td>\n",
       "      <td>21.750000</td>\n",
       "      <td>20.325000</td>\n",
       "      <td>30.27500</td>\n",
       "      <td>23.5</td>\n",
       "      <td>72.905000</td>\n",
       "      <td>7.900000</td>\n",
       "      <td>2.475000</td>\n",
       "      <td>27.900000</td>\n",
       "    </tr>\n",
       "    <tr>\n",
       "      <th>std</th>\n",
       "      <td>3.379719</td>\n",
       "      <td>9.880073</td>\n",
       "      <td>5.945587</td>\n",
       "      <td>8.863173</td>\n",
       "      <td>12.78003</td>\n",
       "      <td>5.0</td>\n",
       "      <td>6.083494</td>\n",
       "      <td>0.141421</td>\n",
       "      <td>12.507698</td>\n",
       "      <td>0.141421</td>\n",
       "    </tr>\n",
       "    <tr>\n",
       "      <th>min</th>\n",
       "      <td>17.900000</td>\n",
       "      <td>14.200000</td>\n",
       "      <td>16.200000</td>\n",
       "      <td>11.000000</td>\n",
       "      <td>13.00000</td>\n",
       "      <td>18.0</td>\n",
       "      <td>64.220000</td>\n",
       "      <td>7.800000</td>\n",
       "      <td>-11.500000</td>\n",
       "      <td>27.800000</td>\n",
       "    </tr>\n",
       "    <tr>\n",
       "      <th>25%</th>\n",
       "      <td>22.175000</td>\n",
       "      <td>17.350000</td>\n",
       "      <td>18.150000</td>\n",
       "      <td>13.625000</td>\n",
       "      <td>24.40000</td>\n",
       "      <td>21.0</td>\n",
       "      <td>71.915000</td>\n",
       "      <td>7.850000</td>\n",
       "      <td>-6.325000</td>\n",
       "      <td>27.850000</td>\n",
       "    </tr>\n",
       "    <tr>\n",
       "      <th>50%</th>\n",
       "      <td>23.600000</td>\n",
       "      <td>23.250000</td>\n",
       "      <td>20.450000</td>\n",
       "      <td>21.150000</td>\n",
       "      <td>34.00000</td>\n",
       "      <td>23.0</td>\n",
       "      <td>74.480000</td>\n",
       "      <td>7.900000</td>\n",
       "      <td>3.650000</td>\n",
       "      <td>27.900000</td>\n",
       "    </tr>\n",
       "    <tr>\n",
       "      <th>75%</th>\n",
       "      <td>24.150000</td>\n",
       "      <td>30.125000</td>\n",
       "      <td>24.050000</td>\n",
       "      <td>27.850000</td>\n",
       "      <td>39.87500</td>\n",
       "      <td>25.5</td>\n",
       "      <td>75.470000</td>\n",
       "      <td>7.950000</td>\n",
       "      <td>12.450000</td>\n",
       "      <td>27.950000</td>\n",
       "    </tr>\n",
       "    <tr>\n",
       "      <th>max</th>\n",
       "      <td>25.800000</td>\n",
       "      <td>36.200000</td>\n",
       "      <td>29.900000</td>\n",
       "      <td>28.000000</td>\n",
       "      <td>40.10000</td>\n",
       "      <td>30.0</td>\n",
       "      <td>78.440000</td>\n",
       "      <td>8.000000</td>\n",
       "      <td>14.100000</td>\n",
       "      <td>28.000000</td>\n",
       "    </tr>\n",
       "  </tbody>\n",
       "</table>\n",
       "</div>"
      ],
      "text/plain": [
       "               A          B          C          D         E     F     A_degF  \\\n",
       "count   4.000000   4.000000   4.000000   4.000000   4.00000   4.0   4.000000   \n",
       "mean   22.725000  24.225000  21.750000  20.325000  30.27500  23.5  72.905000   \n",
       "std     3.379719   9.880073   5.945587   8.863173  12.78003   5.0   6.083494   \n",
       "min    17.900000  14.200000  16.200000  11.000000  13.00000  18.0  64.220000   \n",
       "25%    22.175000  17.350000  18.150000  13.625000  24.40000  21.0  71.915000   \n",
       "50%    23.600000  23.250000  20.450000  21.150000  34.00000  23.0  74.480000   \n",
       "75%    24.150000  30.125000  24.050000  27.850000  39.87500  25.5  75.470000   \n",
       "max    25.800000  36.200000  29.900000  28.000000  40.10000  30.0  78.440000   \n",
       "\n",
       "       D_less20    BC_diff          H  \n",
       "count  2.000000   4.000000   2.000000  \n",
       "mean   7.900000   2.475000  27.900000  \n",
       "std    0.141421  12.507698   0.141421  \n",
       "min    7.800000 -11.500000  27.800000  \n",
       "25%    7.850000  -6.325000  27.850000  \n",
       "50%    7.900000   3.650000  27.900000  \n",
       "75%    7.950000  12.450000  27.950000  \n",
       "max    8.000000  14.100000  28.000000  "
      ]
     },
     "execution_count": 157,
     "metadata": {},
     "output_type": "execute_result"
    }
   ],
   "source": [
    "df.describe()"
   ]
  },
  {
   "cell_type": "code",
   "execution_count": 158,
   "metadata": {},
   "outputs": [
    {
     "data": {
      "text/html": [
       "<div>\n",
       "<style scoped>\n",
       "    .dataframe tbody tr th:only-of-type {\n",
       "        vertical-align: middle;\n",
       "    }\n",
       "\n",
       "    .dataframe tbody tr th {\n",
       "        vertical-align: top;\n",
       "    }\n",
       "\n",
       "    .dataframe thead th {\n",
       "        text-align: right;\n",
       "    }\n",
       "</style>\n",
       "<table border=\"1\" class=\"dataframe\">\n",
       "  <thead>\n",
       "    <tr style=\"text-align: right;\">\n",
       "      <th></th>\n",
       "      <th>A</th>\n",
       "      <th>B</th>\n",
       "      <th>C</th>\n",
       "      <th>D</th>\n",
       "      <th>E</th>\n",
       "      <th>F</th>\n",
       "      <th>A_degF</th>\n",
       "      <th>is_hot</th>\n",
       "      <th>D_less20</th>\n",
       "      <th>BC_diff</th>\n",
       "      <th>H</th>\n",
       "    </tr>\n",
       "  </thead>\n",
       "  <tbody>\n",
       "    <tr>\n",
       "      <th>0</th>\n",
       "      <td>25.8</td>\n",
       "      <td>28.1</td>\n",
       "      <td>16.2</td>\n",
       "      <td>11.0</td>\n",
       "      <td>13.0</td>\n",
       "      <td>18</td>\n",
       "      <td>78.44</td>\n",
       "      <td>True</td>\n",
       "      <td>NaN</td>\n",
       "      <td>11.9</td>\n",
       "      <td>NaN</td>\n",
       "    </tr>\n",
       "    <tr>\n",
       "      <th>1</th>\n",
       "      <td>17.9</td>\n",
       "      <td>14.2</td>\n",
       "      <td>18.8</td>\n",
       "      <td>28.0</td>\n",
       "      <td>40.1</td>\n",
       "      <td>22</td>\n",
       "      <td>64.22</td>\n",
       "      <td>False</td>\n",
       "      <td>8.0</td>\n",
       "      <td>-4.6</td>\n",
       "      <td>28.0</td>\n",
       "    </tr>\n",
       "    <tr>\n",
       "      <th>2</th>\n",
       "      <td>23.6</td>\n",
       "      <td>18.4</td>\n",
       "      <td>29.9</td>\n",
       "      <td>27.8</td>\n",
       "      <td>39.8</td>\n",
       "      <td>30</td>\n",
       "      <td>74.48</td>\n",
       "      <td>True</td>\n",
       "      <td>7.8</td>\n",
       "      <td>-11.5</td>\n",
       "      <td>27.8</td>\n",
       "    </tr>\n",
       "    <tr>\n",
       "      <th>3</th>\n",
       "      <td>23.6</td>\n",
       "      <td>36.2</td>\n",
       "      <td>22.1</td>\n",
       "      <td>14.5</td>\n",
       "      <td>28.2</td>\n",
       "      <td>24</td>\n",
       "      <td>74.48</td>\n",
       "      <td>True</td>\n",
       "      <td>NaN</td>\n",
       "      <td>14.1</td>\n",
       "      <td>NaN</td>\n",
       "    </tr>\n",
       "  </tbody>\n",
       "</table>\n",
       "</div>"
      ],
      "text/plain": [
       "      A     B     C     D     E   F  A_degF  is_hot  D_less20  BC_diff     H\n",
       "0  25.8  28.1  16.2  11.0  13.0  18   78.44    True       NaN     11.9   NaN\n",
       "1  17.9  14.2  18.8  28.0  40.1  22   64.22   False       8.0     -4.6  28.0\n",
       "2  23.6  18.4  29.9  27.8  39.8  30   74.48    True       7.8    -11.5  27.8\n",
       "3  23.6  36.2  22.1  14.5  28.2  24   74.48    True       NaN     14.1   NaN"
      ]
     },
     "execution_count": 158,
     "metadata": {},
     "output_type": "execute_result"
    }
   ],
   "source": [
    "df"
   ]
  },
  {
   "cell_type": "code",
   "execution_count": 159,
   "metadata": {},
   "outputs": [
    {
     "data": {
      "text/html": [
       "<div>\n",
       "<style scoped>\n",
       "    .dataframe tbody tr th:only-of-type {\n",
       "        vertical-align: middle;\n",
       "    }\n",
       "\n",
       "    .dataframe tbody tr th {\n",
       "        vertical-align: top;\n",
       "    }\n",
       "\n",
       "    .dataframe thead th {\n",
       "        text-align: right;\n",
       "    }\n",
       "</style>\n",
       "<table border=\"1\" class=\"dataframe\">\n",
       "  <thead>\n",
       "    <tr style=\"text-align: right;\">\n",
       "      <th></th>\n",
       "      <th>SEASON</th>\n",
       "      <th>A</th>\n",
       "      <th>B</th>\n",
       "      <th>C</th>\n",
       "      <th>D</th>\n",
       "      <th>E</th>\n",
       "      <th>F</th>\n",
       "      <th>A_degF</th>\n",
       "      <th>is_hot</th>\n",
       "      <th>D_less20</th>\n",
       "      <th>BC_diff</th>\n",
       "      <th>H</th>\n",
       "    </tr>\n",
       "  </thead>\n",
       "  <tbody>\n",
       "    <tr>\n",
       "      <th>0</th>\n",
       "      <td>winter</td>\n",
       "      <td>25.8</td>\n",
       "      <td>28.1</td>\n",
       "      <td>16.2</td>\n",
       "      <td>11.0</td>\n",
       "      <td>13.0</td>\n",
       "      <td>18</td>\n",
       "      <td>78.44</td>\n",
       "      <td>True</td>\n",
       "      <td>NaN</td>\n",
       "      <td>11.9</td>\n",
       "      <td>NaN</td>\n",
       "    </tr>\n",
       "    <tr>\n",
       "      <th>1</th>\n",
       "      <td>spring</td>\n",
       "      <td>17.9</td>\n",
       "      <td>14.2</td>\n",
       "      <td>18.8</td>\n",
       "      <td>28.0</td>\n",
       "      <td>40.1</td>\n",
       "      <td>22</td>\n",
       "      <td>64.22</td>\n",
       "      <td>False</td>\n",
       "      <td>8.0</td>\n",
       "      <td>-4.6</td>\n",
       "      <td>28.0</td>\n",
       "    </tr>\n",
       "    <tr>\n",
       "      <th>2</th>\n",
       "      <td>summer</td>\n",
       "      <td>23.6</td>\n",
       "      <td>18.4</td>\n",
       "      <td>29.9</td>\n",
       "      <td>27.8</td>\n",
       "      <td>39.8</td>\n",
       "      <td>30</td>\n",
       "      <td>74.48</td>\n",
       "      <td>True</td>\n",
       "      <td>7.8</td>\n",
       "      <td>-11.5</td>\n",
       "      <td>27.8</td>\n",
       "    </tr>\n",
       "    <tr>\n",
       "      <th>3</th>\n",
       "      <td>fall</td>\n",
       "      <td>23.6</td>\n",
       "      <td>36.2</td>\n",
       "      <td>22.1</td>\n",
       "      <td>14.5</td>\n",
       "      <td>28.2</td>\n",
       "      <td>24</td>\n",
       "      <td>74.48</td>\n",
       "      <td>True</td>\n",
       "      <td>NaN</td>\n",
       "      <td>14.1</td>\n",
       "      <td>NaN</td>\n",
       "    </tr>\n",
       "  </tbody>\n",
       "</table>\n",
       "</div>"
      ],
      "text/plain": [
       "   SEASON     A     B     C     D     E   F  A_degF  is_hot  D_less20  \\\n",
       "0  winter  25.8  28.1  16.2  11.0  13.0  18   78.44    True       NaN   \n",
       "1  spring  17.9  14.2  18.8  28.0  40.1  22   64.22   False       8.0   \n",
       "2  summer  23.6  18.4  29.9  27.8  39.8  30   74.48    True       7.8   \n",
       "3    fall  23.6  36.2  22.1  14.5  28.2  24   74.48    True       NaN   \n",
       "\n",
       "   BC_diff     H  \n",
       "0     11.9   NaN  \n",
       "1     -4.6  28.0  \n",
       "2    -11.5  27.8  \n",
       "3     14.1   NaN  "
      ]
     },
     "execution_count": 159,
     "metadata": {},
     "output_type": "execute_result"
    }
   ],
   "source": [
    "# Create list of seasons\n",
    "seasons = ['winter', 'spring', 'summer', 'fall']\n",
    "\n",
    "# Insert season as first column\n",
    "df.insert(0, 'SEASON', seasons)\n",
    "\n",
    "df"
   ]
  },
  {
   "cell_type": "code",
   "execution_count": 160,
   "metadata": {},
   "outputs": [
    {
     "data": {
      "text/plain": [
       "C    24.35\n",
       "E    39.95\n",
       "dtype: float64"
      ]
     },
     "execution_count": 160,
     "metadata": {},
     "output_type": "execute_result"
    }
   ],
   "source": [
    "df[ # take a dataframe\n",
    "    df['A'] <= df['D'] # find the rows where this is true\n",
    "    ][\n",
    "        ['C', 'E'] # give me this part of it\n",
    "        ].apply(np.mean)  # take the mean"
   ]
  },
  {
   "cell_type": "markdown",
   "metadata": {},
   "source": [
    "#### Removing Data"
   ]
  },
  {
   "cell_type": "markdown",
   "metadata": {},
   "source": [
    ".insert()\n",
    "\n",
    "del\n",
    "\n",
    ".pop() extracts column fro mdf as a new series\n",
    "\n",
    "\n"
   ]
  },
  {
   "cell_type": "code",
   "execution_count": 163,
   "metadata": {},
   "outputs": [
    {
     "data": {
      "text/html": [
       "<div>\n",
       "<style scoped>\n",
       "    .dataframe tbody tr th:only-of-type {\n",
       "        vertical-align: middle;\n",
       "    }\n",
       "\n",
       "    .dataframe tbody tr th {\n",
       "        vertical-align: top;\n",
       "    }\n",
       "\n",
       "    .dataframe thead th {\n",
       "        text-align: right;\n",
       "    }\n",
       "</style>\n",
       "<table border=\"1\" class=\"dataframe\">\n",
       "  <thead>\n",
       "    <tr style=\"text-align: right;\">\n",
       "      <th></th>\n",
       "      <th>SEASON</th>\n",
       "      <th>A</th>\n",
       "      <th>B</th>\n",
       "      <th>C</th>\n",
       "      <th>D</th>\n",
       "      <th>E</th>\n",
       "      <th>A_degF</th>\n",
       "      <th>is_hot</th>\n",
       "      <th>D_less20</th>\n",
       "      <th>BC_diff</th>\n",
       "      <th>H</th>\n",
       "    </tr>\n",
       "  </thead>\n",
       "  <tbody>\n",
       "    <tr>\n",
       "      <th>0</th>\n",
       "      <td>winter</td>\n",
       "      <td>25.8</td>\n",
       "      <td>28.1</td>\n",
       "      <td>16.2</td>\n",
       "      <td>11.0</td>\n",
       "      <td>13.0</td>\n",
       "      <td>78.44</td>\n",
       "      <td>True</td>\n",
       "      <td>NaN</td>\n",
       "      <td>11.9</td>\n",
       "      <td>NaN</td>\n",
       "    </tr>\n",
       "    <tr>\n",
       "      <th>1</th>\n",
       "      <td>spring</td>\n",
       "      <td>17.9</td>\n",
       "      <td>14.2</td>\n",
       "      <td>18.8</td>\n",
       "      <td>28.0</td>\n",
       "      <td>40.1</td>\n",
       "      <td>64.22</td>\n",
       "      <td>False</td>\n",
       "      <td>8.0</td>\n",
       "      <td>-4.6</td>\n",
       "      <td>28.0</td>\n",
       "    </tr>\n",
       "    <tr>\n",
       "      <th>2</th>\n",
       "      <td>summer</td>\n",
       "      <td>23.6</td>\n",
       "      <td>18.4</td>\n",
       "      <td>29.9</td>\n",
       "      <td>27.8</td>\n",
       "      <td>39.8</td>\n",
       "      <td>74.48</td>\n",
       "      <td>True</td>\n",
       "      <td>7.8</td>\n",
       "      <td>-11.5</td>\n",
       "      <td>27.8</td>\n",
       "    </tr>\n",
       "    <tr>\n",
       "      <th>3</th>\n",
       "      <td>fall</td>\n",
       "      <td>23.6</td>\n",
       "      <td>36.2</td>\n",
       "      <td>22.1</td>\n",
       "      <td>14.5</td>\n",
       "      <td>28.2</td>\n",
       "      <td>74.48</td>\n",
       "      <td>True</td>\n",
       "      <td>NaN</td>\n",
       "      <td>14.1</td>\n",
       "      <td>NaN</td>\n",
       "    </tr>\n",
       "  </tbody>\n",
       "</table>\n",
       "</div>"
      ],
      "text/plain": [
       "   SEASON     A     B     C     D     E  A_degF  is_hot  D_less20  BC_diff  \\\n",
       "0  winter  25.8  28.1  16.2  11.0  13.0   78.44    True       NaN     11.9   \n",
       "1  spring  17.9  14.2  18.8  28.0  40.1   64.22   False       8.0     -4.6   \n",
       "2  summer  23.6  18.4  29.9  27.8  39.8   74.48    True       7.8    -11.5   \n",
       "3    fall  23.6  36.2  22.1  14.5  28.2   74.48    True       NaN     14.1   \n",
       "\n",
       "      H  \n",
       "0   NaN  \n",
       "1  28.0  \n",
       "2  27.8  \n",
       "3   NaN  "
      ]
     },
     "execution_count": 163,
     "metadata": {},
     "output_type": "execute_result"
    }
   ],
   "source": [
    "# df_F = df.pop('F')\n",
    "df"
   ]
  },
  {
   "cell_type": "markdown",
   "metadata": {},
   "source": [
    "#### Applying functions"
   ]
  },
  {
   "cell_type": "code",
   "execution_count": 169,
   "metadata": {},
   "outputs": [
    {
     "data": {
      "text/html": [
       "<div>\n",
       "<style scoped>\n",
       "    .dataframe tbody tr th:only-of-type {\n",
       "        vertical-align: middle;\n",
       "    }\n",
       "\n",
       "    .dataframe tbody tr th {\n",
       "        vertical-align: top;\n",
       "    }\n",
       "\n",
       "    .dataframe thead th {\n",
       "        text-align: right;\n",
       "    }\n",
       "</style>\n",
       "<table border=\"1\" class=\"dataframe\">\n",
       "  <thead>\n",
       "    <tr style=\"text-align: right;\">\n",
       "      <th></th>\n",
       "      <th>A</th>\n",
       "      <th>B</th>\n",
       "    </tr>\n",
       "  </thead>\n",
       "  <tbody>\n",
       "    <tr>\n",
       "      <th>0</th>\n",
       "      <td>26.8</td>\n",
       "      <td>29.1</td>\n",
       "    </tr>\n",
       "    <tr>\n",
       "      <th>1</th>\n",
       "      <td>18.9</td>\n",
       "      <td>15.2</td>\n",
       "    </tr>\n",
       "    <tr>\n",
       "      <th>2</th>\n",
       "      <td>24.6</td>\n",
       "      <td>19.4</td>\n",
       "    </tr>\n",
       "    <tr>\n",
       "      <th>3</th>\n",
       "      <td>24.6</td>\n",
       "      <td>37.2</td>\n",
       "    </tr>\n",
       "  </tbody>\n",
       "</table>\n",
       "</div>"
      ],
      "text/plain": [
       "      A     B\n",
       "0  26.8  29.1\n",
       "1  18.9  15.2\n",
       "2  24.6  19.4\n",
       "3  24.6  37.2"
      ]
     },
     "execution_count": 169,
     "metadata": {},
     "output_type": "execute_result"
    }
   ],
   "source": [
    "def add_one(d):\n",
    "    return d+1\n",
    "\n",
    "df[['A', 'B']].apply(add_one)"
   ]
  },
  {
   "cell_type": "code",
   "execution_count": 171,
   "metadata": {},
   "outputs": [
    {
     "data": {
      "text/plain": [
       "1    18.9\n",
       "2    24.6\n",
       "Name: A, dtype: float64"
      ]
     },
     "execution_count": 171,
     "metadata": {},
     "output_type": "execute_result"
    }
   ],
   "source": [
    "df[ # take my dataframe\n",
    "    df['A'] > df['B'] # select only the rows where this is true\n",
    "    ][\n",
    "        'A' # select only these columns from that result\n",
    "    ].apply(add_one) # and apply this function"
   ]
  },
  {
   "cell_type": "code",
   "execution_count": 172,
   "metadata": {},
   "outputs": [
    {
     "data": {
      "text/plain": [
       "1    18.9\n",
       "2    24.6\n",
       "Name: A, dtype: float64"
      ]
     },
     "execution_count": 172,
     "metadata": {},
     "output_type": "execute_result"
    }
   ],
   "source": [
    "df[df['A'] > df['B']]['A'].apply(add_one)"
   ]
  },
  {
   "cell_type": "code",
   "execution_count": 173,
   "metadata": {},
   "outputs": [],
   "source": [
    "def convert_CtoF(degC):\n",
    "    \"\"\" Converts a temperature to from Celsius to Fahrenheit\n",
    "    \n",
    "    Parameters\n",
    "    ----------\n",
    "        degC : float\n",
    "            Temperature value in °C\n",
    "       \n",
    "    Returns\n",
    "    -------\n",
    "        degF : float\n",
    "            Temperature value in °F\n",
    "    \"\"\"\n",
    "    \n",
    "    degF = (degC *(9./5)) + 32\n",
    "    \n",
    "    return degF"
   ]
  },
  {
   "cell_type": "code",
   "execution_count": 174,
   "metadata": {},
   "outputs": [
    {
     "data": {
      "text/plain": [
       "0    78.44\n",
       "1    64.22\n",
       "2    74.48\n",
       "3    74.48\n",
       "Name: A, dtype: float64"
      ]
     },
     "execution_count": 174,
     "metadata": {},
     "output_type": "execute_result"
    }
   ],
   "source": [
    "df.A.apply(convert_CtoF)"
   ]
  }
 ],
 "metadata": {
  "kernelspec": {
   "display_name": "Python 3",
   "language": "python",
   "name": "python3"
  },
  "language_info": {
   "codemirror_mode": {
    "name": "ipython",
    "version": 3
   },
   "file_extension": ".py",
   "mimetype": "text/x-python",
   "name": "python",
   "nbconvert_exporter": "python",
   "pygments_lexer": "ipython3",
   "version": "3.10.12"
  },
  "orig_nbformat": 4
 },
 "nbformat": 4,
 "nbformat_minor": 2
}
