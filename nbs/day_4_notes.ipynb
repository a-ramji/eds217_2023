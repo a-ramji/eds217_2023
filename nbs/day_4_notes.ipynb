{
 "cells": [
  {
   "cell_type": "markdown",
   "metadata": {},
   "source": [
    "# EDS 217 Day 4 Notes \n",
    "## 2023-09-11"
   ]
  },
  {
   "cell_type": "markdown",
   "metadata": {},
   "source": [
    "### Day 4 (kinda day 5 though) Notes \n"
   ]
  },
  {
   "cell_type": "markdown",
   "metadata": {},
   "source": [
    "## Pandas"
   ]
  },
  {
   "cell_type": "markdown",
   "metadata": {},
   "source": [
    "used curl to get new version of 4-1_pandas.ipynb:\n",
    "\n",
    "curl https://raw.githubusercontent.com/environmental-data-science/eds217_2023/main/interactive_sessions/4-1_pandas.ipynb > 4-1_pandas.ipynb\n",
    "\n",
    "changed working directory to lectures, used curl to get new version of 03-debugging.ipynb:\n",
    "\n",
    "curl https://raw.githubusercontent.com/environmental-data-science/eds217_2023/main/lectures/03-debugging.ipynb > 03-debugging.ipynb"
   ]
  },
  {
   "cell_type": "markdown",
   "metadata": {},
   "source": [
    "used:\n",
    "`ls -l 03-debugging.ipynb`\n",
    "to check how recently the file had been updated etc."
   ]
  },
  {
   "cell_type": "code",
   "execution_count": 1,
   "metadata": {},
   "outputs": [
    {
     "name": "stdout",
     "output_type": "stream",
     "text": [
      "The Zen of Python, by Tim Peters\n",
      "\n",
      "Beautiful is better than ugly.\n",
      "Explicit is better than implicit.\n",
      "Simple is better than complex.\n",
      "Complex is better than complicated.\n",
      "Flat is better than nested.\n",
      "Sparse is better than dense.\n",
      "Readability counts.\n",
      "Special cases aren't special enough to break the rules.\n",
      "Although practicality beats purity.\n",
      "Errors should never pass silently.\n",
      "Unless explicitly silenced.\n",
      "In the face of ambiguity, refuse the temptation to guess.\n",
      "There should be one-- and preferably only one --obvious way to do it.\n",
      "Although that way may not be obvious at first unless you're Dutch.\n",
      "Now is better than never.\n",
      "Although never is often better than *right* now.\n",
      "If the implementation is hard to explain, it's a bad idea.\n",
      "If the implementation is easy to explain, it may be a good idea.\n",
      "Namespaces are one honking great idea -- let's do more of those!\n"
     ]
    }
   ],
   "source": [
    "# the Zen of python\n",
    "import this"
   ]
  },
  {
   "cell_type": "markdown",
   "metadata": {},
   "source": [
    "## Exceptions"
   ]
  },
  {
   "cell_type": "code",
   "execution_count": 2,
   "metadata": {},
   "outputs": [
    {
     "name": "stdout",
     "output_type": "stream",
     "text": [
      "It didn't work because division by zero\n"
     ]
    }
   ],
   "source": [
    "try:\n",
    "    print( 0 / 0)\n",
    "except Exception as e:\n",
    "    print(f\"It didn't work because {e}\")"
   ]
  },
  {
   "cell_type": "markdown",
   "metadata": {},
   "source": [
    "When python says anything other than `SyntaxError`, you should read this as `You are asking to do something I can't do`"
   ]
  },
  {
   "cell_type": "markdown",
   "metadata": {},
   "source": [
    "### Types of Exceptions\n",
    "\n",
    "Python has a lot of builtin Errors that correspond to the definition of the Python language. \n"
   ]
  },
  {
   "cell_type": "markdown",
   "metadata": {},
   "source": [
    "A few common Exceptions you will see include `TypeError`, `IndexError`, and `KeyError`."
   ]
  },
  {
   "cell_type": "code",
   "execution_count": null,
   "metadata": {},
   "outputs": [],
   "source": []
  },
  {
   "cell_type": "markdown",
   "metadata": {},
   "source": [
    "### `TypeError`\n",
    "\n",
    "\n",
    "A `TypeError` is raised when you try to perform a valid method on an inappropriate data type. "
   ]
  },
  {
   "cell_type": "markdown",
   "metadata": {},
   "source": [
    "### `IndexError`\n",
    "\n",
    "\n",
    "An `IndexError` is raised when you try to access an undefined element of a sequence. Sequences are structured data types whose elements are stored in a specific order. A **list** is an example of a sequence."
   ]
  },
  {
   "cell_type": "markdown",
   "metadata": {},
   "source": [
    "### `KeyError`\n",
    "\n",
    "A `KeyError` is raised when you try to perform a valid method on an inappropriate data type. "
   ]
  },
  {
   "cell_type": "code",
   "execution_count": null,
   "metadata": {},
   "outputs": [],
   "source": [
    "# KeyError Examples:\n",
    "\n",
    "my_dict = {'column_1': 'definition 1', 'another_word': 'a second definition'}\n",
    "my_dict['column12']"
   ]
  },
  {
   "cell_type": "markdown",
   "metadata": {},
   "source": [
    "### Deciphering Tracebacks \n",
    "When an exception is raised in python the interpreter generates a \"Traceback\" that shows **where** and **why** the error occurred. Generally, the REPL has most detailed Traceback information, although Jupyter Notebooks and iPython interactive shells also provide necessary information to debug any exception. "
   ]
  },
  {
   "cell_type": "code",
   "execution_count": null,
   "metadata": {},
   "outputs": [
    {
     "ename": "NameError",
     "evalue": "name 'results' is not defined",
     "output_type": "error",
     "traceback": [
      "\u001b[0;31m---------------------------------------------------------------------------\u001b[0m\n",
      "\u001b[0;31mNameError\u001b[0m                                 Traceback (most recent call last)\n",
      "Cell \u001b[0;32mIn[3], line 7\u001b[0m\n",
      "\u001b[1;32m      4\u001b[0m     \u001b[39mprint\u001b[39m(results)\n",
      "\u001b[1;32m      6\u001b[0m \u001b[39m# calling the function\u001b[39;00m\n",
      "\u001b[0;32m----> 7\u001b[0m multiply(\u001b[39m10\u001b[39;49m, \u001b[39m2\u001b[39;49m)\n",
      "\n",
      "Cell \u001b[0;32mIn[3], line 4\u001b[0m, in \u001b[0;36mmultiply\u001b[0;34m(num1, num2)\u001b[0m\n",
      "\u001b[1;32m      2\u001b[0m \u001b[39mdef\u001b[39;00m \u001b[39mmultiply\u001b[39m(num1, num2):\n",
      "\u001b[1;32m      3\u001b[0m     result \u001b[39m=\u001b[39m num1 \u001b[39m*\u001b[39m num2\n",
      "\u001b[0;32m----> 4\u001b[0m     \u001b[39mprint\u001b[39m(results)\n",
      "\n",
      "\u001b[0;31mNameError\u001b[0m: name 'results' is not defined"
     ]
    }
   ],
   "source": [
    "# defining a function\n",
    "def multiply(num1, num2):\n",
    "    result = num1 * num2\n",
    "    print(results)\n",
    " \n",
    "# calling the function\n",
    "multiply(10, 2)"
   ]
  }
 ],
 "metadata": {
  "kernelspec": {
   "display_name": "Python 3",
   "language": "python",
   "name": "python3"
  },
  "language_info": {
   "codemirror_mode": {
    "name": "ipython",
    "version": 3
   },
   "file_extension": ".py",
   "mimetype": "text/x-python",
   "name": "python",
   "nbconvert_exporter": "python",
   "pygments_lexer": "ipython3",
   "version": "3.10.12"
  },
  "orig_nbformat": 4
 },
 "nbformat": 4,
 "nbformat_minor": 2
}
