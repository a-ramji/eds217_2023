{
 "cells": [
  {
   "cell_type": "markdown",
   "metadata": {},
   "source": [
    "# EDS 217 Day 4 Notes \n",
    "## 2023-09-11"
   ]
  },
  {
   "cell_type": "markdown",
   "metadata": {},
   "source": [
    "### Day 4 (kinda day 5 though) Notes \n"
   ]
  },
  {
   "cell_type": "markdown",
   "metadata": {},
   "source": [
    "## Pandas"
   ]
  },
  {
   "cell_type": "markdown",
   "metadata": {},
   "source": [
    "used curl to get new version of 4-1_pandas.ipynb:\n",
    "\n",
    "curl https://raw.githubusercontent.com/environmental-data-science/eds217_2023/main/interactive_sessions/4-1_pandas.ipynb > 4-1_pandas.ipynb\n",
    "\n",
    "changed working directory to lectures, used curl to get new version of 03-debugging.ipynb:\n",
    "\n",
    "curl https://raw.githubusercontent.com/environmental-data-science/eds217_2023/main/lectures/03-debugging.ipynb > 03-debugging.ipynb"
   ]
  },
  {
   "cell_type": "markdown",
   "metadata": {},
   "source": [
    "used:\n",
    "`ls -l 03-debugging.ipynb`\n",
    "to check how recently the file had been updated etc."
   ]
  },
  {
   "cell_type": "code",
   "execution_count": null,
   "metadata": {},
   "outputs": [],
   "source": []
  },
  {
   "cell_type": "code",
   "execution_count": null,
   "metadata": {},
   "outputs": [],
   "source": []
  }
 ],
 "metadata": {
  "language_info": {
   "name": "python"
  },
  "orig_nbformat": 4
 },
 "nbformat": 4,
 "nbformat_minor": 2
}
