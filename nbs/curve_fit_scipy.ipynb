{
 "cells": [
  {
   "cell_type": "code",
   "execution_count": 2,
   "metadata": {},
   "outputs": [],
   "source": [
    "# pip install palmerpenguins"
   ]
  },
  {
   "cell_type": "code",
   "execution_count": 4,
   "metadata": {},
   "outputs": [],
   "source": [
    "import matplotlib.pyplot as plt\n",
    "import seaborn as sns\n",
    "from palmerpenguins import load_penguins"
   ]
  },
  {
   "cell_type": "code",
   "execution_count": 5,
   "metadata": {},
   "outputs": [
    {
     "ename": "NameError",
     "evalue": "name 'penguins_main' is not defined",
     "output_type": "error",
     "traceback": [
      "\u001b[1;31m---------------------------------------------------------------------------\u001b[0m",
      "\u001b[1;31mNameError\u001b[0m                                 Traceback (most recent call last)",
      "\u001b[1;32mc:\\Users\\annar\\dev\\eds217_2023\\nbs\\curve_fit_scipy.ipynb Cell 3\u001b[0m line \u001b[0;36m4\n\u001b[0;32m      <a href='vscode-notebook-cell:/c%3A/Users/annar/dev/eds217_2023/nbs/curve_fit_scipy.ipynb#W0sZmlsZQ%3D%3D?line=0'>1</a>\u001b[0m \u001b[39mfrom\u001b[39;00m \u001b[39mscipy\u001b[39;00m\u001b[39m.\u001b[39;00m\u001b[39moptimize\u001b[39;00m \u001b[39mimport\u001b[39;00m curve_fit\n\u001b[0;32m      <a href='vscode-notebook-cell:/c%3A/Users/annar/dev/eds217_2023/nbs/curve_fit_scipy.ipynb#W0sZmlsZQ%3D%3D?line=2'>3</a>\u001b[0m \u001b[39m# Filter out any missing values in the 'bill_length_mm' and 'bill_depth_mm' columns\u001b[39;00m\n\u001b[1;32m----> <a href='vscode-notebook-cell:/c%3A/Users/annar/dev/eds217_2023/nbs/curve_fit_scipy.ipynb#W0sZmlsZQ%3D%3D?line=3'>4</a>\u001b[0m filtered_data \u001b[39m=\u001b[39m penguins_main\u001b[39m.\u001b[39mdropna(subset\u001b[39m=\u001b[39m[\u001b[39m'\u001b[39m\u001b[39mbill_length_mm\u001b[39m\u001b[39m'\u001b[39m, \u001b[39m'\u001b[39m\u001b[39mbody_mass_g\u001b[39m\u001b[39m'\u001b[39m])\n\u001b[0;32m      <a href='vscode-notebook-cell:/c%3A/Users/annar/dev/eds217_2023/nbs/curve_fit_scipy.ipynb#W0sZmlsZQ%3D%3D?line=5'>6</a>\u001b[0m \u001b[39m# Define the function to fit (you can choose an appropriate function)\u001b[39;00m\n\u001b[0;32m      <a href='vscode-notebook-cell:/c%3A/Users/annar/dev/eds217_2023/nbs/curve_fit_scipy.ipynb#W0sZmlsZQ%3D%3D?line=6'>7</a>\u001b[0m \u001b[39mdef\u001b[39;00m \u001b[39mfunc\u001b[39m(x, a, b):\n",
      "\u001b[1;31mNameError\u001b[0m: name 'penguins_main' is not defined"
     ]
    }
   ],
   "source": [
    "from scipy.optimize import curve_fit\n",
    "\n",
    "# Filter out any missing values in the 'bill_length_mm' and 'bill_depth_mm' columns\n",
    "filtered_data = penguins_main.dropna(subset=['bill_length_mm', 'body_mass_g'])\n",
    "\n",
    "# Define the function to fit (you can choose an appropriate function)\n",
    "def func(x, a, b):\n",
    "    return a * x + b\n",
    "\n",
    "# Extract the data\n",
    "x_data = filtered_data['bill_length_mm']\n",
    "y_data = filtered_data['body_mass_g']\n",
    "\n",
    "# Perform curve fitting\n",
    "params, covariance = curve_fit(func, x_data, y_data)\n",
    "\n",
    "# Extract the fitted parameters\n",
    "a_fit, b_fit = params\n",
    "\n",
    "# Create a curve using the fitted parameters\n",
    "x_curve = np.linspace(min(x_data), max(x_data), 100)\n",
    "y_curve = func(x_curve, a_fit, b_fit)\n",
    "\n",
    "# Plot the original data and the fitted curve\n",
    "plt.scatter(x_data, y_data, label='Data')\n",
    "plt.plot(x_curve, y_curve, 'r', label='Fitted Curve')\n",
    "plt.xlabel('Bill Length (mm)')\n",
    "plt.ylabel('Body Mass (g)')\n",
    "plt.legend()\n",
    "plt.title('Curve Fitting of Bill Length vs. Body Mass')\n",
    "plt.show()\n",
    "\n",
    "# Print the fitted parameters\n",
    "print(\"Fitted Parameters:\")\n",
    "print(\"a (slope):\", a_fit)\n",
    "print(\"b (intercept):\", b_fit)"
   ]
  }
 ],
 "metadata": {
  "kernelspec": {
   "display_name": "Python 3",
   "language": "python",
   "name": "python3"
  },
  "language_info": {
   "codemirror_mode": {
    "name": "ipython",
    "version": 3
   },
   "file_extension": ".py",
   "mimetype": "text/x-python",
   "name": "python",
   "nbconvert_exporter": "python",
   "pygments_lexer": "ipython3",
   "version": "3.10.12"
  },
  "orig_nbformat": 4
 },
 "nbformat": 4,
 "nbformat_minor": 2
}
