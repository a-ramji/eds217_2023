{
 "cells": [
  {
   "cell_type": "markdown",
   "metadata": {},
   "source": [
    "# Day 2 Notes\n",
    "\n",
    "## Interactive Session 2-1\n",
    "### if-elif-else statements"
   ]
  },
  {
   "cell_type": "code",
   "execution_count": 8,
   "metadata": {},
   "outputs": [
    {
     "name": "stdout",
     "output_type": "stream",
     "text": [
      "x is a positive number.\n"
     ]
    }
   ],
   "source": [
    "# Define x\n",
    "x = 4\n",
    "# Evaluate condition\n",
    "if x > 0:\n",
    "    print('x is a positive number.')"
   ]
  },
  {
   "cell_type": "code",
   "execution_count": 4,
   "metadata": {},
   "outputs": [],
   "source": [
    "x = 4\n",
    "a = x > 0\n",
    "b = x < 0\n"
   ]
  },
  {
   "cell_type": "code",
   "execution_count": 5,
   "metadata": {},
   "outputs": [
    {
     "name": "stdout",
     "output_type": "stream",
     "text": [
      "y is not a positive number.\n"
     ]
    }
   ],
   "source": [
    "y = -3218\n",
    "if y > 0:\n",
    "    print('y is a positive number.')\n",
    "else:\n",
    "    print('y is not a positive number.')"
   ]
  },
  {
   "cell_type": "code",
   "execution_count": 21,
   "metadata": {},
   "outputs": [
    {
     "name": "stdout",
     "output_type": "stream",
     "text": [
      "You are going to need 11 peaches.\n"
     ]
    }
   ],
   "source": [
    "# Experiment with if, elif, and else statements.\n",
    "\n",
    "# variable = 'peaches'\n",
    "# pie_size = [8, 10, 12]\n",
    "\n",
    "pie_size = 12\n",
    "n_peaches = 0 # value that is zero or obviously false so that\n",
    "# the end if statement is not evaluated if your pie size is not a \n",
    "# valid condition\n",
    "\n",
    "\n",
    "if pie_size == 8:\n",
    "    n_peaches = 6\n",
    "elif pie_size == 10:\n",
    "    n_peaches = 9\n",
    "elif pie_size == 12:\n",
    "    n_peaches = 11\n",
    "else: \n",
    "    print(\"Not a valid pie size\")\n",
    "\n",
    "\n",
    "if n_peaches != -9999:\n",
    "    print(f\"You are going to need {n_peaches} peaches.\")\n",
    "else: \n",
    "    print(f\"You need to use an 8, 10, or 12 inch pan\")"
   ]
  },
  {
   "cell_type": "code",
   "execution_count": 9,
   "metadata": {},
   "outputs": [
    {
     "name": "stdout",
     "output_type": "stream",
     "text": [
      "Adenine is not an amino acid.\n"
     ]
    }
   ],
   "source": [
    "# List of amino acids\n",
    "aminoacids = ['histidine', 'isoleucine', 'leucine', 'lysine', 'methionine', \n",
    "              'phenylalanine', 'threonine', 'tryptophan', 'valine', 'alanine', \n",
    "              'arginine', 'asparagine', 'aspartate', 'cysteine', 'glutamate', \n",
    "              'glutamine', 'glycine', 'proline', 'serine', 'tyrosine']\n",
    "\n",
    "org_compound = 'adenine'\n",
    "if org_compound in aminoacids:\n",
    "    print(org_compound.capitalize() + ' is an amino acid.' )\n",
    "else:\n",
    "    print(org_compound.capitalize() + ' is not an amino acid.')"
   ]
  },
  {
   "cell_type": "code",
   "execution_count": 22,
   "metadata": {},
   "outputs": [
    {
     "name": "stdout",
     "output_type": "stream",
     "text": [
      "Tyrosine is a non-essential, aromatic amino acid.\n"
     ]
    }
   ],
   "source": [
    "essential = ['histidine', 'lysine', 'threonine', 'tryptophan', \n",
    "             'valine', 'methionine', 'leucine', 'phenylalanine']\n",
    "aromatic = ['phenylalanine', 'tryptophan', 'tyrosine']\n",
    "\n",
    "aa = 'tyrosine'\n",
    "\n",
    "if aa in aromatic and aa in essential:\n",
    "    print(aa.capitalize() + ' is an essential, aromatic amino acid.')\n",
    "elif aa in essential:\n",
    "    print(aa.capitalize() + ' is an essential, non-aromatic amino acid.')\n",
    "elif aa in aromatic:\n",
    "    print(aa.capitalize() + ' is a non-essential, aromatic amino acid.')\n",
    "elif aa in aminoacids:\n",
    "    print(aa.capitalize() + 'is a non-essential amino acid.')\n",
    "else:\n",
    "    print(aa.capitalize() + ' is not an amino acid.')"
   ]
  },
  {
   "cell_type": "markdown",
   "metadata": {},
   "source": [
    "Order really matters here. Everything in your `elif` section is evaluated *in order* .\n",
    "\n",
    "ex., if you put the second `elif` before the first, the output would be incorrect if you input tryptophan "
   ]
  },
  {
   "cell_type": "markdown",
   "metadata": {},
   "source": [
    "#### Use `or` operator when only one of multiple conditions must be met"
   ]
  },
  {
   "cell_type": "code",
   "execution_count": 23,
   "metadata": {},
   "outputs": [
    {
     "name": "stdout",
     "output_type": "stream",
     "text": [
      "Tyrosine is a polar amino acid.\n"
     ]
    }
   ],
   "source": [
    "charged = ['arginine', 'lysine', 'aspartate', 'glutamate']\n",
    "polar_un = ['glutamine', 'asparagine', 'histidine', 'serine', 'threonine', 'tyrosine', 'cysteine']\n",
    "\n",
    "if aa in charged or polar_un:\n",
    "    print(aa.capitalize() + ' is a polar amino acid.')\n",
    "elif aa in aminoacids:\n",
    "    print(aa.capitalize() + ' is a non-polar amino acid.')\n",
    "else:\n",
    "    print(aa.capitalize() + ' is not an amino acid.')"
   ]
  },
  {
   "cell_type": "markdown",
   "metadata": {},
   "source": [
    "#### Nested `if` statements"
   ]
  },
  {
   "cell_type": "markdown",
   "metadata": {},
   "source": [
    "indentation really matters here -- tells the computer what part of the code this statement is in "
   ]
  },
  {
   "cell_type": "code",
   "execution_count": 24,
   "metadata": {},
   "outputs": [
    {
     "name": "stdout",
     "output_type": "stream",
     "text": [
      "Tyrosine is a polar amino acid.\n"
     ]
    }
   ],
   "source": [
    "if aa in aminoacids:\n",
    "    if aa in charged or polar_un:\n",
    "        print(aa.capitalize() + ' is a polar amino acid.')\n",
    "    else:\n",
    "        print(aa.capitalize() + ' is a non-polar amino acid.')\n",
    "else:\n",
    "    print(aa.capitalize() + ' is not an amino acid.')"
   ]
  },
  {
   "cell_type": "code",
   "execution_count": 25,
   "metadata": {},
   "outputs": [],
   "source": [
    "aminoacids = ['histidine', 'isoleucine', 'leucine', 'lysine', 'methionine', \n",
    "              'phenylalanine', 'threonine', 'tryptophan', 'valine', 'alanine', \n",
    "              'arginine', 'asparagine', 'aspartate', 'cysteine', 'glutamate', \n",
    "              'glutamine', 'glycine', 'proline', 'serine', 'tyrosine']\n",
    "\n",
    "essential = ['histidine', 'lysine', 'threonine', 'tryptophan', \n",
    "             'valine', 'methionine', 'leucine', 'phenylalanine']\n",
    "aromatic = ['phenylalanine', 'tryptophan', 'tyrosine']\n",
    "\n",
    "charged = ['arginine', 'lysine', 'aspartate', 'glutamate']\n",
    "polar_un = ['glutamine', 'asparagine', 'histidine', 'serine', 'threonine', 'tyrosine', 'cysteine']"
   ]
  },
  {
   "cell_type": "markdown",
   "metadata": {},
   "source": [
    "if you have improper indentation in any if-elif-else or if-else statement, you will get an error.  (`IndentationError`)\n",
    "- Not always fatal if the print statements are over-indented\n",
    "- will be fatal if print (action) statement is under-indented"
   ]
  },
  {
   "cell_type": "markdown",
   "metadata": {},
   "source": [
    "ex:\n",
    "```python\n",
    "x = 10\n",
    "\n",
    "if x > 0:\n",
    "    y = 1\n",
    "else:\n",
    "y = 2 \n",
    "```\n",
    "\n",
    ">>  Cell In[28], line 6\n",
    "    y = 2\n",
    "    ^\n",
    "IndentationError: expected an indented block after 'else' statement on line 5"
   ]
  },
  {
   "cell_type": "markdown",
   "metadata": {},
   "source": [
    "### Loops"
   ]
  },
  {
   "cell_type": "markdown",
   "metadata": {},
   "source": [
    "#### `for` loops"
   ]
  },
  {
   "cell_type": "code",
   "execution_count": 29,
   "metadata": {},
   "outputs": [
    {
     "name": "stdout",
     "output_type": "stream",
     "text": [
      "1\n",
      "2\n",
      "3\n",
      "4\n"
     ]
    }
   ],
   "source": [
    "for i in range(4):\n",
    "    print(i + 1)"
   ]
  },
  {
   "cell_type": "code",
   "execution_count": 30,
   "metadata": {},
   "outputs": [
    {
     "name": "stdout",
     "output_type": "stream",
     "text": [
      "histidine\n",
      "isoleucine\n",
      "leucine\n",
      "lysine\n",
      "methionine\n",
      "phenylalanine\n",
      "threonine\n",
      "tryptophan\n",
      "valine\n",
      "alanine\n",
      "arginine\n",
      "asparagine\n",
      "aspartate\n",
      "cysteine\n",
      "glutamate\n",
      "glutamine\n",
      "glycine\n",
      "proline\n",
      "serine\n",
      "tyrosine\n"
     ]
    }
   ],
   "source": [
    "for aa in aminoacids:\n",
    "    print(aa)"
   ]
  },
  {
   "cell_type": "markdown",
   "metadata": {},
   "source": [
    "#### Built-in functions\n"
   ]
  },
  {
   "cell_type": "markdown",
   "metadata": {},
   "source": [
    "`enumerate()` function keeps track of the index of the iterator\n",
    "\n"
   ]
  },
  {
   "cell_type": "code",
   "execution_count": 31,
   "metadata": {},
   "outputs": [
    {
     "name": "stdout",
     "output_type": "stream",
     "text": [
      "The #1 most abundant gas in the atmosphere is N2.\n",
      "The #2 most abundant gas in the atmosphere is O2.\n",
      "The #3 most abundant gas in the atmosphere is Ar.\n",
      "The #4 most abundant gas in the atmosphere is H2O.\n",
      "The #5 most abundant gas in the atmosphere is CO2.\n"
     ]
    }
   ],
   "source": [
    "gases = ['N2', 'O2', 'Ar', 'H2O', 'CO2']\n",
    "\n",
    "for i,gas in enumerate(gases):\n",
    "    rank = i + 1\n",
    "    print('The #%d most abundant gas in the atmosphere is %s.' %(rank,gas))"
   ]
  },
  {
   "cell_type": "code",
   "execution_count": 35,
   "metadata": {},
   "outputs": [
    {
     "name": "stdout",
     "output_type": "stream",
     "text": [
      "The #1 most abundant gas in the atmosphere is N2.\n",
      "The #2 most abundant gas in the atmosphere is O2.\n",
      "The #3 most abundant gas in the atmosphere is Ar.\n",
      "The #4 most abundant gas in the atmosphere is H2O.\n",
      "The #5 most abundant gas in the atmosphere is CO2.\n"
     ]
    }
   ],
   "source": [
    "gases = ['N2', 'O2', 'Ar', 'H2O', 'CO2']\n",
    "\n",
    "for i,gas in enumerate(gases):\n",
    "    rank = i + 1\n",
    "    print(f\"The #{rank} most abundant gas in the atmosphere is {gas}.\")"
   ]
  },
  {
   "cell_type": "code",
   "execution_count": 37,
   "metadata": {},
   "outputs": [
    {
     "name": "stdout",
     "output_type": "stream",
     "text": [
      "The 0 value is: 6\n",
      "The 1 value is: 9\n",
      "The 2 value is: 12\n",
      "The 3 value is: 15\n",
      "The 4 value is: 16\n"
     ]
    }
   ],
   "source": [
    "\n",
    "for i,n_peaches in enumerate([6, 9, 12, 15, 16]):\n",
    "    print(f\"The {i} value is: {n_peaches}\")"
   ]
  },
  {
   "cell_type": "code",
   "execution_count": 42,
   "metadata": {},
   "outputs": [
    {
     "name": "stdout",
     "output_type": "stream",
     "text": [
      "The 0 value is: N2\n",
      "The 1 value is: O2\n",
      "The 2 value is: Ar\n",
      "The 3 value is: H2O\n",
      "The 4 value is: CO2\n",
      "The atomic mass of N2 is approximately 28\n",
      "The atomic mass of O2 is approximately 32\n",
      "The atomic mass of Ar is approximately 39\n",
      "The atomic mass of H2O is approximately 18\n",
      "The atomic mass of CO2 is approximately 44\n"
     ]
    }
   ],
   "source": [
    "gases = ['N2', 'O2', 'Ar', 'H2O', 'CO2']\n",
    "\n",
    "# Define list of atomic masses of 6 most abundant elements (C, H, N, O, S, P)\n",
    "atomic_mass_organics = [12.011, 1.00784, 14.0067, 15.999, 30.97376, 32.065]  # g/mol\n",
    "gas_mass = [28, 32, 39, 18, 44]\n",
    "\n",
    "for i,gas in enumerate(gases):\n",
    "    print(f\"The {i} value is: {gas}\")\n",
    "# Iterate through org_elements + print the atomic mass of each element\n",
    "\n",
    "for i,gas in enumerate(gases):\n",
    "    this_mass = gas_mass[i]\n",
    "    print(f\"The atomic mass of {gas} is approximately {this_mass}\")\n"
   ]
  },
  {
   "cell_type": "markdown",
   "metadata": {},
   "source": [
    "`zip()` function"
   ]
  },
  {
   "cell_type": "code",
   "execution_count": 49,
   "metadata": {},
   "outputs": [
    {
     "name": "stdout",
     "output_type": "stream",
     "text": [
      "The atomic mass of N2 is approximately 28\n",
      "The atomic mass of O2 is approximately 32\n",
      "The atomic mass of Ar is approximately 39\n",
      "The atomic mass of H2O is approximately 18\n",
      "The atomic mass of CO2 is approximately 44\n"
     ]
    }
   ],
   "source": [
    "gases = ['N2', 'O2', 'Ar', 'H2O', 'CO2']\n",
    "masses = [28, 32, 39, 18, 44]\n",
    "\n",
    "\n",
    "for gas,mass in zip(gases, masses):\n",
    "        print(f\"The atomic mass of {gas} is approximately {mass}\")\n"
   ]
  },
  {
   "cell_type": "code",
   "execution_count": 48,
   "metadata": {},
   "outputs": [
    {
     "name": "stdout",
     "output_type": "stream",
     "text": [
      "The atomic mass of Nitrogen (N2) is approximately 28\n",
      "The atomic mass of Oxygen (O2) is approximately 32\n",
      "The atomic mass of Argon (Ar) is approximately 39\n",
      "The atomic mass of Water (H2O) is approximately 18\n",
      "The atomic mass of Carbon Dioxide (CO2) is approximately 44\n"
     ]
    }
   ],
   "source": [
    "gases = ['N2', 'O2', 'Ar', 'H2O', 'CO2']\n",
    "masses = [28, 32, 39, 18, 44]\n",
    "names  = ['Nitrogen', 'Oxygen', \"Argon\", \"Water\", \"Carbon Dioxide\"]\n",
    "\n",
    "\n",
    "for gas,mass,name in zip(gases, masses, names):\n",
    "        print(f\"The atomic mass of {name} ({gas}) is approximately {mass}\")\n"
   ]
  },
  {
   "cell_type": "code",
   "execution_count": 46,
   "metadata": {},
   "outputs": [
    {
     "name": "stdout",
     "output_type": "stream",
     "text": [
      "1.7282458205744395e+44\n",
      "4.0590156271366957e+43\n",
      "7.248215956743767e+41\n",
      "4.302078013774973e+41\n",
      "2.211859664621677e+40\n"
     ]
    }
   ],
   "source": [
    "gas_frac = [0.78084, 0.209476, 0.00934, 0.0025, 0.000314]\n",
    "gas_molar_mass = [14.0067, 15.999, 39.948, 18.01528, 44.01]\n",
    "\n",
    "mass_atmosphere = 5.148e21   # grams\n",
    "n_a = 6.022e23    # Avogadro's number\n",
    "\n",
    "for frac,mol_mass in zip(gas_frac,gas_molar_mass):\n",
    "    mass = frac * mass_atmosphere\n",
    "    molecules = (mass / mol_mass ) * n_a\n",
    "    print(molecules)\n"
   ]
  },
  {
   "cell_type": "markdown",
   "metadata": {},
   "source": [
    "you can use `enumerate()` and `zip()` together to keep track of the index position of iterators"
   ]
  },
  {
   "cell_type": "code",
   "execution_count": 51,
   "metadata": {},
   "outputs": [
    {
     "name": "stdout",
     "output_type": "stream",
     "text": [
      "1: The atomic mass of Nitrogen (N2) is approximately 28\n",
      "2: The atomic mass of Oxygen (O2) is approximately 32\n",
      "3: The atomic mass of Argon (Ar) is approximately 39\n",
      "4: The atomic mass of Water (H2O) is approximately 18\n",
      "5: The atomic mass of Carbon Dioxide (CO2) is approximately 44\n"
     ]
    }
   ],
   "source": [
    "gases = ['N2', 'O2', 'Ar', 'H2O', 'CO2']\n",
    "masses = [28, 32, 39, 18, 44]\n",
    "names  = ['Nitrogen', 'Oxygen', \"Argon\", \"Water\", \"Carbon Dioxide\"]\n",
    "\n",
    "\n",
    "for i,(gas,mass,name) in enumerate(zip(gases, masses, names)):\n",
    "        print(f\"{i + 1}: The atomic mass of {name} ({gas}) is approximately {mass}\")\n"
   ]
  },
  {
   "cell_type": "code",
   "execution_count": 50,
   "metadata": {},
   "outputs": [
    {
     "name": "stdout",
     "output_type": "stream",
     "text": [
      "There are 1.73e+44 molecules of N2 in the atmosphere.\n",
      "There are 4.06e+43 molecules of O2 in the atmosphere.\n",
      "There are 7.25e+41 molecules of Ar in the atmosphere.\n",
      "There are 4.30e+41 molecules of H2O in the atmosphere.\n",
      "There are 2.21e+40 molecules of CO2 in the atmosphere.\n"
     ]
    }
   ],
   "source": [
    "for i,(frac,mol_mass) in enumerate(zip(gas_frac,gas_molar_mass)):\n",
    "    gas = gases[i]\n",
    "    mass = frac * mass_atmosphere\n",
    "    molecules = (mass / mol_mass ) * n_a\n",
    "    print('There are ' + '{:.2e}'.format(molecules) + ' molecules of %s in the atmosphere.' % (gas))"
   ]
  },
  {
   "cell_type": "markdown",
   "metadata": {},
   "source": [
    "#### Nested `for` loops"
   ]
  },
  {
   "cell_type": "code",
   "execution_count": 52,
   "metadata": {},
   "outputs": [
    {
     "name": "stdout",
     "output_type": "stream",
     "text": [
      "Histidine has 4 vowels.\n",
      "Isoleucine has 6 vowels.\n",
      "Leucine has 4 vowels.\n",
      "Lysine has 2 vowels.\n",
      "Methionine has 5 vowels.\n",
      "Phenylalanine has 5 vowels.\n",
      "Threonine has 4 vowels.\n",
      "Tryptophan has 2 vowels.\n",
      "Valine has 3 vowels.\n",
      "Alanine has 4 vowels.\n",
      "Arginine has 4 vowels.\n",
      "Asparagine has 5 vowels.\n",
      "Aspartate has 4 vowels.\n",
      "Cysteine has 3 vowels.\n",
      "Glutamate has 4 vowels.\n",
      "Glutamine has 4 vowels.\n",
      "Glycine has 2 vowels.\n",
      "Proline has 3 vowels.\n",
      "Serine has 3 vowels.\n",
      "Tyrosine has 3 vowels.\n"
     ]
    }
   ],
   "source": [
    "for aa in aminoacids:\n",
    "    vowels = 0\n",
    "    for letter in aa:\n",
    "        if letter in ['a', 'e', 'i', 'o', 'u']:\n",
    "            vowels = vowels + 1\n",
    "    print(aa.capitalize() + ' has ' + str(vowels) + ' vowels.')"
   ]
  },
  {
   "cell_type": "code",
   "execution_count": null,
   "metadata": {},
   "outputs": [],
   "source": []
  },
  {
   "cell_type": "markdown",
   "metadata": {},
   "source": [
    "###  `while` loops\n",
    "\n",
    "(not frequently used, dangerous)"
   ]
  },
  {
   "cell_type": "markdown",
   "metadata": {},
   "source": [
    "can crash your system but are fun for user input, guis"
   ]
  },
  {
   "cell_type": "code",
   "execution_count": 54,
   "metadata": {},
   "outputs": [
    {
     "name": "stdout",
     "output_type": "stream",
     "text": [
      "1\n",
      "2\n",
      "3\n",
      "4\n"
     ]
    }
   ],
   "source": [
    "x = 0\n",
    "while x < 4:\n",
    "    x = x + 1\n",
    "    print(x)"
   ]
  },
  {
   "cell_type": "markdown",
   "metadata": {},
   "source": [
    "#### Escaping loops\n",
    "`break`\n",
    "\n",
    "`continue`"
   ]
  },
  {
   "cell_type": "code",
   "execution_count": 56,
   "metadata": {},
   "outputs": [],
   "source": [
    "#while True:\n",
    "#    print(\"What is the answer to life, the universe, and everything? \")\n",
    "#    option = input(\"   Your answer: \")\n",
    "#    if option.isdigit():\n",
    "#        if int(option) == 42:\n",
    "#            print('You have solved the ultimate question.')\n",
    "#            break\n",
    "#        else:\n",
    "#            print(\"Nope. Try again...\\n\")\n",
    "#    else:\n",
    "#        print(\"Nope. Try again...\\n\")"
   ]
  },
  {
   "cell_type": "code",
   "execution_count": 57,
   "metadata": {},
   "outputs": [
    {
     "name": "stdout",
     "output_type": "stream",
     "text": [
      "23.5\n",
      "11.2671\n",
      "0.0\n",
      "36052.0\n",
      "-466.07\n",
      "3.0\n",
      "-11.5\n"
     ]
    }
   ],
   "source": [
    "for x in [47, 22.5342, 'four hundred eighty-two', 0, 72104, -932.14, 6, -23, 'eleven']:\n",
    "    # Check to see if value is a string\n",
    "    if type(x) == str:\n",
    "        # If so, skip to next iteration\n",
    "        continue\n",
    "    # Otherwise, divide by 2 and print\n",
    "    print(x/2)"
   ]
  },
  {
   "cell_type": "code",
   "execution_count": 58,
   "metadata": {},
   "outputs": [
    {
     "name": "stdout",
     "output_type": "stream",
     "text": [
      "[0, 1, 4, 9, 16, 25, 36, 49, 64, 81, 100]\n",
      "[0, 1, 4, 9, 16, 25, 36, 49, 64, 81, 100]\n",
      "[0, 2, 4, 6, 8, 10, 12, 14, 16, 18, 20, 22, 24, 26, 28, 30, 32, 34, 36, 38, 40, 42, 44, 46, 48, 50, 52, 54, 56, 58, 60, 62, 64, 66, 68, 70, 72, 74, 76, 78, 80, 82, 84, 86, 88, 90, 92, 94, 96, 98, 100]\n"
     ]
    }
   ],
   "source": [
    "squares = []\n",
    "\n",
    "for x in range(11):\n",
    "    squares.append(x**2)\n",
    "\n",
    "print(squares)\n",
    "\n",
    "squares_2 = [x**2 for x in range(11)]\n",
    "\n",
    "print(squares_2)\n",
    "\n",
    "\n",
    "evens = [x for x in range(101) if x%2 == 0]\n",
    "\n",
    "print(evens)"
   ]
  }
 ],
 "metadata": {
  "kernelspec": {
   "display_name": "Python 3",
   "language": "python",
   "name": "python3"
  },
  "language_info": {
   "codemirror_mode": {
    "name": "ipython",
    "version": 3
   },
   "file_extension": ".py",
   "mimetype": "text/x-python",
   "name": "python",
   "nbconvert_exporter": "python",
   "pygments_lexer": "ipython3",
   "version": "3.10.12"
  },
  "orig_nbformat": 4
 },
 "nbformat": 4,
 "nbformat_minor": 2
}
