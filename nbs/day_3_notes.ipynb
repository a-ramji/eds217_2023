{
 "cells": [
  {
   "cell_type": "markdown",
   "metadata": {},
   "source": [
    "# EDS 217 Day 3 (Friday) Notes\n",
    "## 2023-09-08\n",
    "\n"
   ]
  },
  {
   "cell_type": "markdown",
   "metadata": {},
   "source": [
    "## Session 2-2: Structured Data in Python"
   ]
  },
  {
   "cell_type": "markdown",
   "metadata": {},
   "source": [
    "- like spreadsheets\n",
    "- rows, columns\n",
    "\n",
    "\n",
    "### Dictionaries\n"
   ]
  },
  {
   "cell_type": "markdown",
   "metadata": {},
   "source": [
    "key: value\n",
    "You can create a dictionary using the `{}`, providing both a `key` and a `value`, which are separated by a `:`."
   ]
  },
  {
   "cell_type": "code",
   "execution_count": 3,
   "metadata": {},
   "outputs": [],
   "source": [
    "environmental_disciplines = {\n",
    "    'ecology':'The relationships between organisms and their environments.',\n",
    "    'hydrology':'The properties, distribution & effects of water on the surface, subsurface, & atmosphere.',\n",
    "    'geology':'The origin, history, and structure of the earth.',\n",
    "    'meteorology':'The phenomena of the atmosphere, especially weather and weather conditions.'\n",
    "    }"
   ]
  },
  {
   "cell_type": "code",
   "execution_count": 4,
   "metadata": {},
   "outputs": [
    {
     "data": {
      "text/plain": [
       "'The relationships between organisms and their environments.'"
      ]
     },
     "execution_count": 4,
     "metadata": {},
     "output_type": "execute_result"
    }
   ],
   "source": [
    "# accessing elements\n",
    "\n",
    "environmental_disciplines['ecology']"
   ]
  },
  {
   "cell_type": "markdown",
   "metadata": {},
   "source": [
    "you will get a NameError if you try:\n",
    "\n",
    "environmental_disciplines[ecology]\n",
    "\n",
    "because the variable ecology has not been defined"
   ]
  },
  {
   "cell_type": "code",
   "execution_count": 5,
   "metadata": {},
   "outputs": [],
   "source": [
    "# dictionaries are mutable\n",
    "\n",
    "environmental_disciplines['geomorphology'] = 'The evolution and configuration of landforms'"
   ]
  },
  {
   "cell_type": "code",
   "execution_count": 6,
   "metadata": {},
   "outputs": [
    {
     "data": {
      "text/plain": [
       "'The evolution and configuration of landforms'"
      ]
     },
     "execution_count": 6,
     "metadata": {},
     "output_type": "execute_result"
    }
   ],
   "source": [
    "environmental_disciplines['geomorphology']"
   ]
  },
  {
   "cell_type": "markdown",
   "metadata": {},
   "source": [
    "- can only look up values by keys, not position"
   ]
  },
  {
   "cell_type": "code",
   "execution_count": 7,
   "metadata": {},
   "outputs": [
    {
     "ename": "KeyError",
     "evalue": "0",
     "output_type": "error",
     "traceback": [
      "\u001b[1;31m---------------------------------------------------------------------------\u001b[0m",
      "\u001b[1;31mKeyError\u001b[0m                                  Traceback (most recent call last)",
      "Cell \u001b[1;32mIn[7], line 3\u001b[0m\n\u001b[0;32m      1\u001b[0m \u001b[39m# values in the dictionary are not indexed -- can't call with [0] or [n]\u001b[39;00m\n\u001b[1;32m----> 3\u001b[0m environmental_disciplines[\u001b[39m0\u001b[39;49m]\n",
      "\u001b[1;31mKeyError\u001b[0m: 0"
     ]
    }
   ],
   "source": [
    "# values in the dictionary are not indexed -- can't call with [0] or [n]\n",
    "\n",
    "environmental_disciplines[0]\n"
   ]
  },
  {
   "cell_type": "markdown",
   "metadata": {},
   "source": [
    "if we define a variable with the same keyword as the key, we can use that to access the value stored in that key"
   ]
  },
  {
   "cell_type": "code",
   "execution_count": 8,
   "metadata": {},
   "outputs": [
    {
     "name": "stdout",
     "output_type": "stream",
     "text": [
      "The relationships between organisms and their environments.\n"
     ]
    }
   ],
   "source": [
    "this_discipline = 'ecology'\n",
    "\n",
    "print(environmental_disciplines[this_discipline])"
   ]
  },
  {
   "cell_type": "markdown",
   "metadata": {},
   "source": [
    "if you spell the key incorrectly or use a key that doesn't exist, you will get a KeyError\n",
    "\n",
    "A NameError indicates that you're doing the wrong thing to access a variable (kind of like syntax but not?)"
   ]
  },
  {
   "cell_type": "code",
   "execution_count": 9,
   "metadata": {},
   "outputs": [
    {
     "name": "stdout",
     "output_type": "stream",
     "text": [
      "the chemical, physical, geological, and biological processes and reactions that govern the composition of the natural environment.\n"
     ]
    }
   ],
   "source": [
    "environmental_disciplines['biogeochemistry'] = 'the chemical, physical, geological, and biological processes and reactions that govern the composition of the natural environment.'\n",
    "print(environmental_disciplines['biogeochemistry'])"
   ]
  },
  {
   "cell_type": "markdown",
   "metadata": {},
   "source": [
    "#### built-in `key()` and `values()` functions in dictionaries"
   ]
  },
  {
   "cell_type": "code",
   "execution_count": 10,
   "metadata": {},
   "outputs": [
    {
     "name": "stdout",
     "output_type": "stream",
     "text": [
      "dict_values(['The relationships between organisms and their environments.', 'The properties, distribution & effects of water on the surface, subsurface, & atmosphere.', 'The origin, history, and structure of the earth.', 'The phenomena of the atmosphere, especially weather and weather conditions.', 'The evolution and configuration of landforms', 'the chemical, physical, geological, and biological processes and reactions that govern the composition of the natural environment.'])\n"
     ]
    }
   ],
   "source": [
    "definitions = environmental_disciplines.values()\n",
    "print(definitions)\n"
   ]
  },
  {
   "cell_type": "markdown",
   "metadata": {},
   "source": [
    ". notation"
   ]
  },
  {
   "cell_type": "code",
   "execution_count": 11,
   "metadata": {},
   "outputs": [
    {
     "data": {
      "text/plain": [
       "dict_keys(['ecology', 'hydrology', 'geology', 'meteorology', 'geomorphology', 'biogeochemistry'])"
      ]
     },
     "execution_count": 11,
     "metadata": {},
     "output_type": "execute_result"
    }
   ],
   "source": [
    "environmental_disciplines.keys()"
   ]
  },
  {
   "cell_type": "markdown",
   "metadata": {},
   "source": [
    "these functions return a dict_keys and dict_values objects respectively. These objects contain a list of keys or values. you can force the result of these functions into a list by wrapping either one in a list() command"
   ]
  },
  {
   "cell_type": "code",
   "execution_count": 13,
   "metadata": {},
   "outputs": [
    {
     "data": {
      "text/plain": [
       "dict_values(['The relationships between organisms and their environments.', 'The properties, distribution & effects of water on the surface, subsurface, & atmosphere.', 'The origin, history, and structure of the earth.', 'The phenomena of the atmosphere, especially weather and weather conditions.', 'The evolution and configuration of landforms', 'the chemical, physical, geological, and biological processes and reactions that govern the composition of the natural environment.'])"
      ]
     },
     "execution_count": 13,
     "metadata": {},
     "output_type": "execute_result"
    }
   ],
   "source": [
    "environmental_disciplines.values()"
   ]
  },
  {
   "cell_type": "code",
   "execution_count": 16,
   "metadata": {},
   "outputs": [
    {
     "name": "stdout",
     "output_type": "stream",
     "text": [
      "['ecology', 'hydrology', 'geology', 'meteorology', 'geomorphology', 'biogeochemistry']\n"
     ]
    }
   ],
   "source": [
    "key_list = list(environmental_disciplines.keys())\n",
    "print(key_list)\n",
    "\n",
    "values_list = list(environmental_disciplines.values())"
   ]
  },
  {
   "cell_type": "markdown",
   "metadata": {},
   "source": [
    ".items() is a property of any dictionary"
   ]
  },
  {
   "cell_type": "code",
   "execution_count": 18,
   "metadata": {},
   "outputs": [
    {
     "name": "stdout",
     "output_type": "stream",
     "text": [
      "ecology The relationships between organisms and their environments.\n",
      "hydrology The properties, distribution & effects of water on the surface, subsurface, & atmosphere.\n",
      "geology The origin, history, and structure of the earth.\n",
      "meteorology The phenomena of the atmosphere, especially weather and weather conditions.\n",
      "geomorphology The evolution and configuration of landforms\n",
      "biogeochemistry The chemical, physical, geological, and biological processes and reactions that govern the composition of the natural environment.\n"
     ]
    }
   ],
   "source": [
    "for key, value in environmental_disciplines.items():\n",
    "    print(key, value)\n",
    "   # environmental_disciplines[key] = value.capitalize()"
   ]
  },
  {
   "cell_type": "code",
   "execution_count": 19,
   "metadata": {},
   "outputs": [
    {
     "name": "stdout",
     "output_type": "stream",
     "text": [
      "Name: Homer Simpson.\n",
      "Occupation: Nuclear Engineer.\n",
      "Address: 742 Evergreen Terrace.\n",
      "City: Springfield.\n",
      "State:  ? .\n"
     ]
    }
   ],
   "source": [
    "my_dict = {'name': 'Homer Simpson',\n",
    "           'occupation': 'Nuclear Engineer',\n",
    "           'address': '742 Evergreen Terrace',\n",
    "           'city': 'Springfield',\n",
    "           'state': ' ? '\n",
    "          }\n",
    "\n",
    "for key, value in my_dict.items():\n",
    "    print(f\"{key.capitalize()}: {value}.\")"
   ]
  },
  {
   "cell_type": "code",
   "execution_count": 20,
   "metadata": {},
   "outputs": [
    {
     "name": "stdout",
     "output_type": "stream",
     "text": [
      "Ecology is the study of the relationships between organisms and their environments.\n",
      "Hydrology is the study of the properties, distribution & effects of water on the surface, subsurface, & atmosphere.\n",
      "Geology is the study of the origin, history, and structure of the earth.\n",
      "Meteorology is the study of the phenomena of the atmosphere, especially weather and weather conditions.\n",
      "Geomorphology is the study of the evolution and configuration of landforms\n",
      "Biogeochemistry is the study of the chemical, physical, geological, and biological processes and reactions that govern the composition of the natural environment.\n"
     ]
    }
   ],
   "source": [
    "for key, value in environmental_disciplines.items():\n",
    "    print(f\"{key.title()} is the study of {value.lower()}\")"
   ]
  },
  {
   "cell_type": "markdown",
   "metadata": {},
   "source": [
    "`len()` used for list indices \n",
    "\n",
    "`get()` function used to avoid errors when requesting an element from a **dict** -- `get()` returns `None` if the element doesn't exist (default)"
   ]
  },
  {
   "cell_type": "markdown",
   "metadata": {},
   "source": [
    "you can specify a \"default\" value which will be returned for any undefined elements"
   ]
  },
  {
   "cell_type": "code",
   "execution_count": 25,
   "metadata": {},
   "outputs": [
    {
     "name": "stdout",
     "output_type": "stream",
     "text": [
      "Discipline not defined.\n"
     ]
    }
   ],
   "source": [
    "environmental_disciplines.get('xenohydrology', 'Discipline not defined.')\n",
    "\n",
    "xenohydrology_definition = environmental_disciplines.get('xenohydrology', 'Discipline not defined.')\n",
    "\n",
    "print(xenohydrology_definition)"
   ]
  },
  {
   "cell_type": "code",
   "execution_count": 23,
   "metadata": {},
   "outputs": [],
   "source": [
    "list_of_disciplines = ['climatology', 'ecology', 'meteorology', 'geology', 'biogeochemistry']"
   ]
  },
  {
   "cell_type": "code",
   "execution_count": 31,
   "metadata": {},
   "outputs": [
    {
     "name": "stdout",
     "output_type": "stream",
     "text": [
      "climatology is the study of [not defined]\n",
      "ecology is the study of The relationships between organisms and their environments.\n",
      "meteorology is the study of The phenomena of the atmosphere, especially weather and weather conditions.\n",
      "geology is the study of The origin, history, and structure of the earth.\n",
      "biogeochemistry is the study of The chemical, physical, geological, and biological processes and reactions that govern the composition of the natural environment.\n"
     ]
    }
   ],
   "source": [
    "for discipline in list_of_disciplines:\n",
    "    definition = environmental_disciplines.get(discipline, '[not defined]')\n",
    "    #print(f\"The \")\n",
    "    print(f\"{discipline} is the study of {definition}\")"
   ]
  },
  {
   "cell_type": "code",
   "execution_count": null,
   "metadata": {},
   "outputs": [],
   "source": []
  }
 ],
 "metadata": {
  "kernelspec": {
   "display_name": "Python 3",
   "language": "python",
   "name": "python3"
  },
  "language_info": {
   "codemirror_mode": {
    "name": "ipython",
    "version": 3
   },
   "file_extension": ".py",
   "mimetype": "text/x-python",
   "name": "python",
   "nbconvert_exporter": "python",
   "pygments_lexer": "ipython3",
   "version": "3.10.12"
  },
  "orig_nbformat": 4
 },
 "nbformat": 4,
 "nbformat_minor": 2
}
