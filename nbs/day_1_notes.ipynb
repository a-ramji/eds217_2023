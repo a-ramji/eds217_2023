{
 "cells": [
  {
   "cell_type": "markdown",
   "metadata": {},
   "source": [
    "# EDS 217 Day 2 Notes\n",
    "### 2023-09-06\n"
   ]
  },
  {
   "cell_type": "markdown",
   "metadata": {},
   "source": [
    "## Interactive Session 1-1\n"
   ]
  },
  {
   "cell_type": "markdown",
   "metadata": {},
   "source": [
    "<h4 style=\"border:1px; border-style:solid; border-color:black; padding: 0.5em;\"> <span style=\"color:white\"> Arithmetic Operators </span> </h4>\n",
    "\n",
    "Just like a calculator, basic arithmetic can be done on number variables. Python uses the following symbols \n",
    "\n",
    "| Symbol | Task           |\n",
    "| :----: | :---           |\n",
    "|   +    | Addition       |\n",
    "|   -    | Subtraction    |\n",
    "|   *    | Multiplication |\n",
    "|   /    | Division       |\n",
    "|   %    | Modular        |\n",
    "|  //    | Floor division |\n",
    "|  **    | Power          |\n",
    "\n",
    "\n",
    "\n",
    "### <div class=\"example\"> ✏️  Try it.\n",
    "Practice these arithmetic operations by running the code in the cell below. Feel free to add more to test the operators. Use the <code>print()</code>  command to output your answers.\n",
    "</div>"
   ]
  },
  {
   "cell_type": "code",
   "execution_count": 18,
   "metadata": {},
   "outputs": [],
   "source": [
    "x = 1\n",
    "y = 42\n",
    "a = 1.0\n",
    "b = 42.0\n",
    "c = 23.782043\n"
   ]
  },
  {
   "cell_type": "code",
   "execution_count": 19,
   "metadata": {},
   "outputs": [
    {
     "data": {
      "text/plain": [
       "1.766038350868342"
      ]
     },
     "execution_count": 19,
     "metadata": {},
     "output_type": "execute_result"
    }
   ],
   "source": [
    "b / c\n"
   ]
  },
  {
   "cell_type": "code",
   "execution_count": 20,
   "metadata": {},
   "outputs": [
    {
     "data": {
      "text/plain": [
       "1.0"
      ]
     },
     "execution_count": 20,
     "metadata": {},
     "output_type": "execute_result"
    }
   ],
   "source": [
    "b // c"
   ]
  },
  {
   "cell_type": "code",
   "execution_count": 21,
   "metadata": {},
   "outputs": [
    {
     "data": {
      "text/plain": [
       "18.217957"
      ]
     },
     "execution_count": 21,
     "metadata": {},
     "output_type": "execute_result"
    }
   ],
   "source": [
    "b % c"
   ]
  },
  {
   "cell_type": "code",
   "execution_count": 22,
   "metadata": {},
   "outputs": [
    {
     "data": {
      "text/plain": [
       "4.019614682991544e+38"
      ]
     },
     "execution_count": 22,
     "metadata": {},
     "output_type": "execute_result"
    }
   ],
   "source": [
    "b ** c"
   ]
  },
  {
   "cell_type": "code",
   "execution_count": 23,
   "metadata": {},
   "outputs": [
    {
     "name": "stdout",
     "output_type": "stream",
     "text": [
      "4.019614682991544e+38\n"
     ]
    }
   ],
   "source": [
    "f = b**c\n",
    "print(f)"
   ]
  },
  {
   "cell_type": "code",
   "execution_count": 24,
   "metadata": {},
   "outputs": [
    {
     "data": {
      "text/plain": [
       "float"
      ]
     },
     "execution_count": 24,
     "metadata": {},
     "output_type": "execute_result"
    }
   ],
   "source": [
    "5 + 2\n",
    "\n",
    "\n",
    "d = a / b\n",
    "type(d)"
   ]
  },
  {
   "cell_type": "code",
   "execution_count": 25,
   "metadata": {},
   "outputs": [
    {
     "data": {
      "text/plain": [
       "True"
      ]
     },
     "execution_count": 25,
     "metadata": {},
     "output_type": "execute_result"
    }
   ],
   "source": [
    "isinstance(12, int)"
   ]
  },
  {
   "cell_type": "code",
   "execution_count": 26,
   "metadata": {},
   "outputs": [
    {
     "data": {
      "text/plain": [
       "False"
      ]
     },
     "execution_count": 26,
     "metadata": {},
     "output_type": "execute_result"
    }
   ],
   "source": [
    "isinstance(12.0, int)"
   ]
  },
  {
   "cell_type": "markdown",
   "metadata": {},
   "source": [
    "when you check multiple classes, if ANY are true, returns true"
   ]
  },
  {
   "cell_type": "code",
   "execution_count": 27,
   "metadata": {},
   "outputs": [
    {
     "data": {
      "text/plain": [
       "True"
      ]
     },
     "execution_count": 27,
     "metadata": {},
     "output_type": "execute_result"
    }
   ],
   "source": [
    "isinstance(12.0,(int, float))"
   ]
  },
  {
   "cell_type": "markdown",
   "metadata": {},
   "source": [
    "split cell: enter, right click, split cell\n",
    "or \n",
    "ctrl + shift + -"
   ]
  },
  {
   "cell_type": "markdown",
   "metadata": {},
   "source": [
    "Notice that the order of operations applies.\n",
    "\n",
    "<h4 style=\"border:1px; border-style:solid; border-color:purple; padding: 0.5em;\"> <span style=\"color:white\"> Boolean Operators </span> </h4>\n",
    "\n",
    "Boolean operators evaluate a condition between two operands, returning `True` if the condition is met and `False` otherwise. `True` and `False` are called **booleans**.\n",
    "\n",
    "| Symbol | Task                     |\n",
    "| :----: | :----------------------  |\n",
    "|   ==   | Equals                   |\n",
    "|  !=    | Does not equal           |\n",
    "|   <    | Less than                |\n",
    "|   >    | Greater than             |\n",
    "|   <=   | Less than or equal to    |\n",
    "|   >=   | Greater than or equal to |\n",
    "\n",
    "<div class=\"run\">\n",
    "    ▶️ Run the cell below.\n",
    "</div>"
   ]
  },
  {
   "cell_type": "code",
   "execution_count": 28,
   "metadata": {},
   "outputs": [
    {
     "name": "stdout",
     "output_type": "stream",
     "text": [
      "True\n",
      "False\n",
      "True\n",
      "False\n"
     ]
    }
   ],
   "source": [
    "print( b >= a )\n",
    "print( 87 < -2 )\n",
    "print( c != 0 )\n",
    "print( y == x)"
   ]
  },
  {
   "cell_type": "markdown",
   "metadata": {},
   "source": [
    "<h4 style=\"border:1px; border-style:solid; border-color:black; padding: 0.5em;\"> <span style=\"color:white\"> Built-in functions </span> </h4>\n",
    "\n",
    "Python has a number of built-in functions. Here we will introduce a few of the useful built-in functions for numerical variables. \n",
    "\n",
    "The `type()` function is used to check the data type of a variable. For numerical arguments, either `float` or `int` is returned.\n",
    "\n",
    "<div class=\"run\">\n",
    "    ▶️ Run the cell below.\n",
    "</div>"
   ]
  },
  {
   "cell_type": "code",
   "execution_count": 29,
   "metadata": {},
   "outputs": [
    {
     "data": {
      "text/plain": [
       "int"
      ]
     },
     "execution_count": 29,
     "metadata": {},
     "output_type": "execute_result"
    }
   ],
   "source": [
    "type(y)"
   ]
  },
  {
   "cell_type": "code",
   "execution_count": 30,
   "metadata": {},
   "outputs": [
    {
     "name": "stdout",
     "output_type": "stream",
     "text": [
      "42\n",
      "42.0\n",
      "12\n"
     ]
    }
   ],
   "source": [
    "z = 42\n",
    "\n",
    "print(z)\n",
    "type(z)\n",
    "\n",
    "print(float(y))\n",
    "\n",
    "g = 12.0\n",
    "type(g)\n",
    "print(int(g))"
   ]
  },
  {
   "cell_type": "code",
   "execution_count": 31,
   "metadata": {},
   "outputs": [
    {
     "name": "stdout",
     "output_type": "stream",
     "text": [
      "y as int: 42\n",
      "42.0\n",
      "y as float: 42.0\n"
     ]
    }
   ],
   "source": [
    "print(f\"y as int: {y}\")\n",
    "print(float(y))\n",
    "\n",
    "print(f\"y as float: {float(y)}\")"
   ]
  },
  {
   "cell_type": "markdown",
   "metadata": {},
   "source": [
    "Notice that when converting a float value to an integer, the `int()` command always rounds *down* to the nearest whole number.\n",
    "\n",
    "To round a float to the nearest whole number, use the function `round()`. You can specify the number of decimal places by adding an integer as an argument to the `round()` function .\n",
    "\n",
    "<div class=\"run\">\n",
    "    ▶️ Run the cell below.\n",
    "</div>"
   ]
  },
  {
   "cell_type": "code",
   "execution_count": 32,
   "metadata": {},
   "outputs": [
    {
     "name": "stdout",
     "output_type": "stream",
     "text": [
      "24\n",
      "23.782\n"
     ]
    }
   ],
   "source": [
    "print( round(c) )\n",
    "print( \n",
    "    round(c, # the number i want to round\n",
    "            3) # the number of places after the decimal I want to round to\n",
    " )"
   ]
  },
  {
   "cell_type": "code",
   "execution_count": 33,
   "metadata": {},
   "outputs": [
    {
     "name": "stdout",
     "output_type": "stream",
     "text": [
      "23.782043\n"
     ]
    }
   ],
   "source": [
    "print( round(c, 1000) )"
   ]
  },
  {
   "cell_type": "markdown",
   "metadata": {},
   "source": [
    "The `complex()` function is used to define a complex number. We won't be using complex numbers in this course, but it's important to know that python is happy to handle them.\n",
    "\n",
    "<div class=\"run\">\n",
    "    ▶️ Run the cell below.\n",
    "</div>"
   ]
  },
  {
   "cell_type": "code",
   "execution_count": 34,
   "metadata": {},
   "outputs": [],
   "source": [
    "d = complex('5+2j') # we wont really use these in this class"
   ]
  },
  {
   "cell_type": "code",
   "execution_count": 35,
   "metadata": {},
   "outputs": [
    {
     "name": "stdout",
     "output_type": "stream",
     "text": [
      "(5+2j)\n"
     ]
    }
   ],
   "source": [
    "print(d)"
   ]
  },
  {
   "cell_type": "markdown",
   "metadata": {},
   "source": [
    "To return the absolute value of a number, use the `abs()` function.\n",
    "\n",
    "<div class=\"run\">\n",
    "    ▶️ Run the cell below.\n",
    "</div>"
   ]
  },
  {
   "cell_type": "code",
   "execution_count": 36,
   "metadata": {},
   "outputs": [
    {
     "name": "stdout",
     "output_type": "stream",
     "text": [
      "5.385164807134504\n",
      "12\n"
     ]
    }
   ],
   "source": [
    "print( abs(d) )\n",
    "print( abs(-12) )"
   ]
  },
  {
   "cell_type": "markdown",
   "metadata": {},
   "source": [
    "\n",
    "The `divmod()` function returns the quotient and remainder of two input operands in a tuple. (Tuples are another data type that we will cover later.)\n",
    "\n",
    "```python\n",
    "divmod(64, 4.2)\n",
    "```\n",
    "\n",
    "Output:\n",
    "```\n",
    "(15.0, 0.9999999999999973)\n",
    "```\n"
   ]
  },
  {
   "cell_type": "code",
   "execution_count": 37,
   "metadata": {},
   "outputs": [
    {
     "data": {
      "text/plain": [
       "(16, 0)"
      ]
     },
     "execution_count": 37,
     "metadata": {},
     "output_type": "execute_result"
    }
   ],
   "source": [
    "divmod(64, 4)"
   ]
  },
  {
   "cell_type": "markdown",
   "metadata": {},
   "source": [
    "\n",
    "---\n",
    "\n",
    "The `pow()` function is an alternative to the `**` operator for raising a number to an exponent, i.e. $x^y$. An optional third argument is used to return the modulus (`%`) of the power of a number, i.e. $x^y$ % $z$.\n",
    "\n",
    "```python\n",
    "pow(8,2)\n",
    "```\n",
    "\n",
    "Output:\n",
    "```\n",
    "64\n",
    "```\n",
    "\n",
    "```python\n",
    "pow(8,2,3)\n",
    "```\n",
    "\n",
    "Output:\n",
    "```\n",
    "1\n",
    "```\n"
   ]
  },
  {
   "cell_type": "code",
   "execution_count": 38,
   "metadata": {},
   "outputs": [
    {
     "data": {
      "text/plain": [
       "16"
      ]
     },
     "execution_count": 38,
     "metadata": {},
     "output_type": "execute_result"
    }
   ],
   "source": [
    "pow(2, 4)"
   ]
  },
  {
   "cell_type": "code",
   "execution_count": 39,
   "metadata": {},
   "outputs": [
    {
     "data": {
      "text/plain": [
       "16"
      ]
     },
     "execution_count": 39,
     "metadata": {},
     "output_type": "execute_result"
    }
   ],
   "source": [
    "pow(4, 2)"
   ]
  },
  {
   "cell_type": "code",
   "execution_count": 40,
   "metadata": {},
   "outputs": [
    {
     "data": {
      "text/plain": [
       "4"
      ]
     },
     "execution_count": 40,
     "metadata": {},
     "output_type": "execute_result"
    }
   ],
   "source": [
    "pow(6, 10, 13)"
   ]
  },
  {
   "cell_type": "markdown",
   "metadata": {},
   "source": [
    "<hr style=\"border-top: 0.2px solid gray; margin-top: 12px; margin-bottom: 1px\"></hr>\n",
    "\n",
    "### Strings\n",
    "Pieces of text in Python are referred to as strings. Strings are defined with either single or double quotes. The only difference between the two is that it is easier to use an apostrophe with double quotes.\n",
    "```python\n",
    "mytext = 'This is a string.'\n",
    "mytext2 = \"This is also a string.\"\n",
    "```\n",
    "To use an apostrope or single quotes inside a string defined by single quotes (or to use double quotes), use a single backslash ( \\\\ ) referred to as an \"escape\" character.\n",
    "```python\n",
    "q1a = \"What is Newton's 1st law of motion?\"\n",
    "q1b = 'What is Newton\\'s 1st law of motion?'\n",
    "```\n"
   ]
  },
  {
   "cell_type": "markdown",
   "metadata": {},
   "source": [
    "<h4 style=\"border:1px; border-style:solid; border-color:black; padding: 0.5em;\"> <span style=\"color:white\"> Built-in functions </span> </h4>\n",
    "\n",
    "Just like the `int()` and `float` commands, the `str()` command converts a number to a string.\n",
    "\n",
    "<div class=\"run\">\n",
    "    ▶️ Run the cell below.\n",
    "</div>"
   ]
  },
  {
   "cell_type": "code",
   "execution_count": 41,
   "metadata": {},
   "outputs": [
    {
     "name": "stdout",
     "output_type": "stream",
     "text": [
      "42\n"
     ]
    }
   ],
   "source": [
    "print(y)"
   ]
  },
  {
   "cell_type": "code",
   "execution_count": 42,
   "metadata": {},
   "outputs": [
    {
     "name": "stdout",
     "output_type": "stream",
     "text": [
      "42\n",
      "<class 'str'>\n"
     ]
    }
   ],
   "source": [
    "ystr = str(y)\n",
    "print(ystr)\n",
    "print(type(ystr))"
   ]
  },
  {
   "cell_type": "code",
   "execution_count": 43,
   "metadata": {},
   "outputs": [
    {
     "name": "stdout",
     "output_type": "stream",
     "text": [
      "The first half...... the second half.\n"
     ]
    }
   ],
   "source": [
    "string_1 = \"The first half...\"\n",
    "string_2 = \"... the second half.\"\n",
    "\n",
    "string_all = string_1 + string_2\n",
    "\n",
    "print(string_all)"
   ]
  },
  {
   "cell_type": "code",
   "execution_count": 44,
   "metadata": {},
   "outputs": [],
   "source": [
    "s = 'isaac' + ' ' + 'newton'"
   ]
  },
  {
   "cell_type": "markdown",
   "metadata": {},
   "source": [
    "The commands `string.upper()` and `string.capitalize()` can be used to convert all letters in the string to uppercase and capitalize the first letter in the string, respectively.\n",
    "\n",
    "<div class=\"run\">\n",
    "    ▶️ Run the cell below.\n",
    "</div>"
   ]
  },
  {
   "cell_type": "code",
   "execution_count": 47,
   "metadata": {},
   "outputs": [
    {
     "name": "stdout",
     "output_type": "stream",
     "text": [
      "ISAAC NEWTON\n",
      "Isaac newton\n"
     ]
    }
   ],
   "source": [
    "print( s.upper() )\n",
    "print( s.capitalize() )\n"
   ]
  },
  {
   "cell_type": "markdown",
   "metadata": {},
   "source": [
    "<h4 style=\"border:1px; border-style:solid; border-color:purple; padding: 0.5em;\"> <span style=\"color:white\"> Formatted print statements </span> </h4>\n",
    "\n",
    "Python uses C-style formatting to create new, formatted strings with the `%` operator. This is useful for printing variables in functions and when asking for user input, both of which we will discuss later. Formatted print statements contain a string argument with one of the following specifiers:\n",
    "\n",
    "| Symbol | Task                     |\n",
    "| :----: | :----------------------  |\n",
    "|  `%s`  | Strings                  |\n",
    "|  `%d`  | Integers                 |\n",
    "|  `%f`  | Floating point numbers   |\n",
    "\n",
    "The second argument can contain a variable name or a tuple, which is a list of a fixed size. The arguments are separated by the `%` operator.\n",
    "\n",
    "<div class=\"run\">\n",
    "    ▶️ Run the cell below.\n",
    "</div>"
   ]
  },
  {
   "cell_type": "code",
   "execution_count": 46,
   "metadata": {},
   "outputs": [
    {
     "name": "stdout",
     "output_type": "stream",
     "text": [
      "I live in Santa Barbara.\n",
      "I have lived in Santa Barbara for 3 years.\n"
     ]
    }
   ],
   "source": [
    "city = 'Santa Barbara'\n",
    "yrs = 3\n",
    "print( 'I live in %s.' % city )\n",
    "print( 'I have lived in %s for %d years.' % (city,yrs))"
   ]
  },
  {
   "cell_type": "code",
   "execution_count": null,
   "metadata": {},
   "outputs": [],
   "source": []
  },
  {
   "cell_type": "code",
   "execution_count": 51,
   "metadata": {},
   "outputs": [
    {
     "name": "stdout",
     "output_type": "stream",
     "text": [
      "My name is anna and I am 23 years old\n"
     ]
    }
   ],
   "source": [
    "# Define the variable info.\n",
    "first = \"anna\"\n",
    "age = 23\n",
    "info = (first, age)\n",
    "# Complete the sentence to be printed\n",
    "sentence = \"My name is %s and I am %d years old\"\n",
    "# Print\n",
    "print( sentence % info)"
   ]
  },
  {
   "cell_type": "markdown",
   "metadata": {},
   "source": [
    "When printing floats, the `%f` argument specifier can be accompanied by a number of decimal places to print only a certain number of digits.\n",
    "\n",
    "<div class=\"run\">\n",
    "    ▶️ Run the cell below.\n",
    "</div>"
   ]
  },
  {
   "cell_type": "code",
   "execution_count": 52,
   "metadata": {},
   "outputs": [
    {
     "name": "stdout",
     "output_type": "stream",
     "text": [
      "The square root of pi is 1.772454.\n",
      "The square root of pi is 1.77.\n"
     ]
    }
   ],
   "source": [
    "import math\n",
    "pi_sqrt = math.sqrt(math.pi)\n",
    "print(\"The square root of pi is %f.\" % pi_sqrt)\n",
    "print(\"The square root of pi is %.2f.\" % pi_sqrt)"
   ]
  },
  {
   "cell_type": "markdown",
   "metadata": {},
   "source": [
    "<hr style=\"border-top: 0.5px solid black; margin-top: 1px; margin-bottom: 1px\"></hr>\n",
    "\n",
    "The `input()` function allows for user input within a script or program. Importantly, when Python prompts the user for input, the input is stored as a string, regardless of what it is. Thus, if you write a function (a type of object we will explore in a future session) prompting the user for a number, you must be sure to convert the variable storing the input to an integer or float. \n",
    "\n",
    "To demonstrate this, run the following cell, entering the month in which you were born in numerical format (e.g. if you were born in April, your input would be `4`) when prompted.\n",
    "\n",
    "<div class=\"run\">\n",
    "    ▶️ Run the cell below.\n",
    "</div>"
   ]
  },
  {
   "cell_type": "code",
   "execution_count": 53,
   "metadata": {},
   "outputs": [
    {
     "data": {
      "text/plain": [
       "str"
      ]
     },
     "execution_count": 53,
     "metadata": {},
     "output_type": "execute_result"
    }
   ],
   "source": [
    "month_in = input('Month of birth (1-12): ')\n",
    "type(month_in)"
   ]
  },
  {
   "cell_type": "code",
   "execution_count": null,
   "metadata": {},
   "outputs": [],
   "source": []
  },
  {
   "cell_type": "code",
   "execution_count": 1,
   "metadata": {},
   "outputs": [],
   "source": [
    "# Define list variables\n",
    "num_list = [4, 23, 654, 2, 0, -12, 4391]\n",
    "str_list = ['energy', 'water', 'carbon']"
   ]
  },
  {
   "cell_type": "code",
   "execution_count": 4,
   "metadata": {},
   "outputs": [
    {
     "name": "stdout",
     "output_type": "stream",
     "text": [
      "num_list has 7 items\n",
      "The smallest value of num_list is -12\n",
      "The largest is 4391\n"
     ]
    }
   ],
   "source": [
    "print(f\"num_list has {len(num_list)} items\")\n",
    "\n",
    "print(f\"The smallest value of num_list is {min(num_list)}\")\n",
    "\n",
    "print(f\"The largest is {max(num_list)}\")"
   ]
  },
  {
   "cell_type": "markdown",
   "metadata": {},
   "source": [
    "think about how we can generalize our code\n",
    "- easy to re-use\n",
    "- can use for something else without needing to change everything"
   ]
  },
  {
   "cell_type": "code",
   "execution_count": 7,
   "metadata": {},
   "outputs": [
    {
     "name": "stdout",
     "output_type": "stream",
     "text": [
      "num_list has 7 items\n",
      "The smallest value of num_list is -12\n",
      "The largest is 4391\n"
     ]
    }
   ],
   "source": [
    "my_list = num_list # can change our list here\n",
    "\n",
    "print(f\"num_list has {len(my_list)} items\") # but the name isn't updated here\n",
    "\n",
    "print(f\"The smallest value of num_list is {min(my_list)}\")\n",
    "\n",
    "print(f\"The largest is {max(my_list)}\")"
   ]
  },
  {
   "cell_type": "markdown",
   "metadata": {},
   "source": [
    "## Indexing"
   ]
  },
  {
   "cell_type": "markdown",
   "metadata": {},
   "source": [
    "using square brackets\n",
    "zero-indexed\n",
    "\n",
    "The last element of a list with $n$ elements is $ - 1$\n",
    "\n",
    "$0$ is the beginning of the list, $-1$ is the end"
   ]
  },
  {
   "cell_type": "code",
   "execution_count": 11,
   "metadata": {},
   "outputs": [
    {
     "name": "stdout",
     "output_type": "stream",
     "text": [
      "['energy', 'water', 'carbon']\n",
      "water\n",
      "carbon\n",
      "water\n"
     ]
    }
   ],
   "source": [
    "print(str_list)\n",
    "print(str_list[1])\n",
    "\n",
    "print(str_list[-1])\n",
    "print(str_list[-2])\n"
   ]
  },
  {
   "cell_type": "markdown",
   "metadata": {},
   "source": [
    "accessing a range of values is called **slicing**\n",
    "- use : (like R!)\n",
    "\n",
    "doesn't include the last number / end of the index"
   ]
  },
  {
   "cell_type": "code",
   "execution_count": 15,
   "metadata": {},
   "outputs": [
    {
     "name": "stdout",
     "output_type": "stream",
     "text": [
      "[4, 23, 654, 2, 0, -12, 4391]\n",
      " num_list[2:4] prints the 2nd and 3rd elements of the list: [654, 2]\n",
      "[654, 2, 0, -12]\n"
     ]
    }
   ],
   "source": [
    "print(num_list)\n",
    "\n",
    "print(f\" num_list[2:4] prints the 2nd and 3rd elements of the list: {num_list[2:4]}\")\n",
    "\n",
    "print(num_list[2:6])"
   ]
  },
  {
   "cell_type": "code",
   "execution_count": 13,
   "metadata": {},
   "outputs": [
    {
     "name": "stdout",
     "output_type": "stream",
     "text": [
      "[654, 2, 0, -12]\n",
      "[4, 23, 654, 2]\n",
      "[4, 23, 654, 2]\n",
      "[23, 654, 2, 0, -12]\n"
     ]
    }
   ],
   "source": [
    "print(num_list[2:6])\n",
    "# >>> [654, 2, 0, -12]\n",
    "\n",
    "print(num_list[0:4])\n",
    "# >>> [4, 23, 654, 2]\n",
    "\n",
    "print(num_list[:4] )   \n",
    "# >>> [4, 23, 654, 2]\n",
    "\n",
    "print(num_list[-6:-1] )\n",
    "# >>> [23, 654, 2, 0,-12]"
   ]
  },
  {
   "cell_type": "markdown",
   "metadata": {},
   "source": [
    "if you don't put an initial value for your range, it's as if you put a zero 0"
   ]
  },
  {
   "cell_type": "code",
   "execution_count": 16,
   "metadata": {},
   "outputs": [
    {
     "data": {
      "text/plain": [
       "[4, 23]"
      ]
     },
     "execution_count": 16,
     "metadata": {},
     "output_type": "execute_result"
    }
   ],
   "source": [
    "num_list[:2]"
   ]
  },
  {
   "cell_type": "markdown",
   "metadata": {},
   "source": [
    "if you don't specify a last value, it returns everything from the first specified to the last of the list"
   ]
  },
  {
   "cell_type": "code",
   "execution_count": 17,
   "metadata": {},
   "outputs": [
    {
     "data": {
      "text/plain": [
       "[654, 2, 0, -12, 4391]"
      ]
     },
     "execution_count": 17,
     "metadata": {},
     "output_type": "execute_result"
    }
   ],
   "source": [
    "num_list[2:]"
   ]
  },
  {
   "cell_type": "markdown",
   "metadata": {},
   "source": [
    "if you put -1 at the end, it'll give you everything from the first specified to the second-to-last element"
   ]
  },
  {
   "cell_type": "code",
   "execution_count": 19,
   "metadata": {},
   "outputs": [
    {
     "name": "stdout",
     "output_type": "stream",
     "text": [
      "[4, 23, 654, 2, 0, -12, 4391]\n"
     ]
    },
    {
     "data": {
      "text/plain": [
       "[654, 2, 0, -12]"
      ]
     },
     "execution_count": 19,
     "metadata": {},
     "output_type": "execute_result"
    }
   ],
   "source": [
    "print(num_list)\n",
    "num_list[2:-1]"
   ]
  },
  {
   "cell_type": "markdown",
   "metadata": {},
   "source": [
    "if you don't specify either element, it'll give you the whole list"
   ]
  },
  {
   "cell_type": "code",
   "execution_count": 20,
   "metadata": {},
   "outputs": [
    {
     "data": {
      "text/plain": [
       "[4, 23, 654, 2, 0, -12, 4391]"
      ]
     },
     "execution_count": 20,
     "metadata": {},
     "output_type": "execute_result"
    }
   ],
   "source": [
    "num_list[:]"
   ]
  },
  {
   "cell_type": "markdown",
   "metadata": {},
   "source": [
    "you can also specify a step size:\n",
    "\n",
    "[start:stop:step]"
   ]
  },
  {
   "cell_type": "code",
   "execution_count": 21,
   "metadata": {},
   "outputs": [
    {
     "data": {
      "text/plain": [
       "[4, 654, 0, 4391]"
      ]
     },
     "execution_count": 21,
     "metadata": {},
     "output_type": "execute_result"
    }
   ],
   "source": [
    "num_list[::2]"
   ]
  },
  {
   "cell_type": "code",
   "execution_count": 22,
   "metadata": {},
   "outputs": [
    {
     "data": {
      "text/plain": [
       "[23, 2, -12]"
      ]
     },
     "execution_count": 22,
     "metadata": {},
     "output_type": "execute_result"
    }
   ],
   "source": [
    "num_list[1::2]"
   ]
  },
  {
   "cell_type": "markdown",
   "metadata": {},
   "source": []
  },
  {
   "cell_type": "markdown",
   "metadata": {},
   "source": [
    "<hr style=\"border-top: 0.2px solid gray; margin-top: 12px; margin-bottom: 1px\"></hr>\n",
    "\n",
    "### List Operations\n",
    "Elements can be added to a list using the command `list.append()`.\n",
    "\n",
    "<div class=\"run\">\n",
    "    ▶️ <b> Run the cell below. </b>\n",
    "</div>"
   ]
  },
  {
   "cell_type": "code",
   "execution_count": 23,
   "metadata": {},
   "outputs": [
    {
     "name": "stdout",
     "output_type": "stream",
     "text": [
      "['red', 'blue', 'green', 'black', 'white']\n",
      "['red', 'blue', 'green', 'black', 'white', 'pink']\n",
      "['red', 'blue', 'green', 'black', 'purple', 'white', 'pink']\n"
     ]
    }
   ],
   "source": [
    "colors = ['red', 'blue', 'green', 'black', 'white']\n",
    "print(colors)\n",
    "colors.append('pink')\n",
    "print(colors)\n",
    "colors.insert(4, 'purple')\n",
    "print(colors)"
   ]
  },
  {
   "cell_type": "markdown",
   "metadata": {},
   "source": [
    "\n",
    "\n",
    "You can **add** an element to a list in a specific position using the command `list.insert()`.\n",
    "```python\n",
    "colors.insert(4, 'purple')\n",
    "print(colors)\n",
    ">>> ['red', 'blue', 'green', 'black', 'purple', 'white', 'pink']\n",
    "```\n",
    "\n",
    "<div class=\"example\">\n",
    "    ✏️ <b> Try it. </b> \n",
    "    Add <code>'purple'</code> to the list <code>colors</code> between <code>'green'</code> and <code>'black'</code>.\n",
    "</div>"
   ]
  },
  {
   "cell_type": "code",
   "execution_count": null,
   "metadata": {},
   "outputs": [
    {
     "name": "stdout",
     "output_type": "stream",
     "text": [
      "['red', 'blue', 'green', 'black', 'white']\n",
      "['red', 'blue', 'green', 'black', 'white', 'pink']\n",
      "['red', 'blue', 'green', 'black', 'purple', 'white', 'pink']\n"
     ]
    }
   ],
   "source": [
    "colors = ['red', 'blue', 'green', 'black', 'white']\n",
    "print(colors)\n",
    "colors.append('pink')\n",
    "print(colors)\n",
    "colors.insert(4, 'purple')\n",
    "print(colors)"
   ]
  },
  {
   "cell_type": "markdown",
   "metadata": {},
   "source": [
    "There are multiple ways to **remove** elements from a list. The commands `list.pop()` and `del` remove elements based on indices.\n",
    "```python\n",
    "colors.pop()       # removes the last element\n",
    "colors.pop(2)      # removes the third element\n",
    "del colors[2]      # removes the third element\n",
    "del colors[2:4]    # removes the third and fourth elements\n",
    "```\n"
   ]
  },
  {
   "cell_type": "markdown",
   "metadata": {},
   "source": [
    "The command `list.remove()` removes an element based on its value.\n",
    "```python\n",
    "colors.remove('red')\n",
    "print(colors)\n",
    ">>> ['blue', 'green', 'black', 'purple', 'white', 'pink']\n",
    "```\n",
    "\n",
    "<div class=\"example\">\n",
    "    ✏️ <b> Try it. </b> \n",
    "    Remove <code>'pink'</code> and <code>'purple'</code> from <code>colors</code>, using <code>del</code> for one of the strings and <code>list.remove()</code> for the other.\n",
    "</div>"
   ]
  },
  {
   "cell_type": "code",
   "execution_count": null,
   "metadata": {},
   "outputs": [
    {
     "name": "stdout",
     "output_type": "stream",
     "text": [
      "['red', 'blue', 'green', 'black', 'white']\n",
      "['red', 'blue', 'green', 'black', 'white', 'pink']\n",
      "['red', 'blue', 'green', 'black', 'purple', 'white', 'pink']\n",
      "['red', 'blue', 'green', 'black', 'purple', 'white']\n",
      "['red', 'blue', 'green', 'black', 'white']\n",
      "['red', 'green', 'black', 'white']\n"
     ]
    }
   ],
   "source": [
    "colors = ['red', 'blue', 'green', 'black', 'white']\n",
    "print(colors)\n",
    "colors.append('pink')\n",
    "print(colors)\n",
    "colors.insert(4, 'purple')\n",
    "print(colors)\n",
    "colors.pop() # removed last element, pink\n",
    "print(colors)\n",
    "colors.pop(4) # removed purple\n",
    "print(colors)\n",
    "colors.remove('blue')\n",
    "print(colors)"
   ]
  },
  {
   "cell_type": "markdown",
   "metadata": {},
   "source": [
    "You can **sort** the elements in a list (numerically or alphabetically) in two ways. The first uses the command `list.sort()`.\n",
    "\n",
    "\n",
    "<div class=\"run\">\n",
    "    ▶️ <b> Run the cell below. </b>\n",
    "</div>"
   ]
  },
  {
   "cell_type": "code",
   "execution_count": null,
   "metadata": {},
   "outputs": [
    {
     "name": "stdout",
     "output_type": "stream",
     "text": [
      "[5.1, 3.42, 3.333, 100.4, 0.5, 26.0, 7.44, 5.8, 39.0]\n",
      "None\n",
      "[0.5, 3.333, 3.42, 5.1, 5.8, 7.44, 26.0, 39.0, 100.4]\n"
     ]
    }
   ],
   "source": [
    "rand_list = [5.1 , 3.42 , 3.333 , 100.4 , 0.5 , 26.0 , 7.44 , 5.8 , 39.0]\n",
    "print(rand_list)\n",
    "\n",
    "sorted_list = rand_list.sort()\n",
    "print(sorted_list)\n",
    "\n",
    "real_sorted_list = sorted(rand_list)\n",
    "print(real_sorted_list)"
   ]
  },
  {
   "cell_type": "markdown",
   "metadata": {},
   "source": [
    "Setting `reverse=True` within this command sorts the list in reverse order:\n",
    "```python\n",
    "rand_list = [5.1 , 3.42 , 3.333 , 100.4 , 0.5 , 26.0 , 7.44 , 5.8 , 39.0]\n",
    "rand_list.sort(reverse=True)\n",
    "print(rand_list)\n",
    ">>> [100.4, 39.0, 26.0, 7.44, 5.8, 5.1, 3.42, 3.333, 0.5]\n",
    "```\n"
   ]
  },
  {
   "cell_type": "code",
   "execution_count": null,
   "metadata": {},
   "outputs": [],
   "source": []
  },
  {
   "cell_type": "code",
   "execution_count": null,
   "metadata": {},
   "outputs": [
    {
     "name": "stdout",
     "output_type": "stream",
     "text": [
      "[100.4, 39.0, 26.0, 7.44, 5.8, 5.1, 3.42, 3.333, 0.5]\n"
     ]
    }
   ],
   "source": [
    "rand_list.sort(reverse=True)\n",
    "print(rand_list)"
   ]
  },
  {
   "cell_type": "markdown",
   "metadata": {},
   "source": [
    "So far, all of the list commands we've used have been **in-place operators**. This means that they perform the operation to the variable in place without requiring a new variable to be assigned. By contrast, **standard operators** do not change the original list variable. A new variable must be set in order to retain the operation. \n",
    "\n",
    "<div class=\"example\">\n",
    "    ✏️ <b> Try it. </b> \n",
    "    Verify that <code>rand_list</code> was, in fact, sorted in place by using the <code>min()</code> and <code>max()</code> functions to determine the minmum and maximum values in the list and printing the first and last values in the list.\n",
    "</div>"
   ]
  },
  {
   "cell_type": "code",
   "execution_count": null,
   "metadata": {},
   "outputs": [
    {
     "name": "stdout",
     "output_type": "stream",
     "text": [
      "min: 0.5 \n",
      "max: 100.4\n",
      "first: 100.4 \n",
      "last: 0.5\n",
      "True\n",
      "True\n"
     ]
    }
   ],
   "source": [
    "# Print the min and max values in rand_list.\n",
    "min_val = min(rand_list)\n",
    "max_val = max(rand_list)\n",
    "print(f\"min: {min_val} \\nmax: {max_val}\")\n",
    "\n",
    "# Print the first and last values in rand_list.\n",
    "first_val = rand_list[0]\n",
    "last_val = rand_list[-1]\n",
    "print(f\"first: {first_val} \\nlast: {last_val}\")\n",
    "\n",
    "\n",
    "# check if true\n",
    "\n",
    "print(min_val != first_val)\n",
    "print(max_val == first_val)"
   ]
  },
  {
   "cell_type": "markdown",
   "metadata": {},
   "source": [
    "The other method of sorting a list is to use the `sorted()` command, which does not change the original list. Instead, the sorted list must be assigned to a new variable.\n",
    "```python\n",
    "rand_list = [5.1 , 3.42 , 3.333 , 100.4 , 0.5 , 26.0 , 7.44 , 5.8 , 39.0]\n",
    "sorted_list = sorted(rand_list)\n",
    "print(rand_list[0])\n",
    "print(sorted_list[0])\n",
    ">>> 5.1\n",
    "    0.5\n",
    "```\n",
    "To avoid changing the original variable when using an in-place operator, it is wise to create a copy. There are multiple ways to create copies of lists, but it is important to know the difference between a true **copy** and a **view**. A view of a list can be created as follows:\n",
    "```python\n",
    "str_list = ['energy', 'water', 'carbon']\n",
    "str_list_view = str_list\n",
    "```\n"
   ]
  },
  {
   "cell_type": "markdown",
   "metadata": {},
   "source": [
    "Any in-place operation performed on `str_list_view` will also be applied to `str_list`. To avoid this, create a copy of `str_list` using any of the following methods:\n",
    "```python\n",
    "str_list_copy = str_list.copy()\n",
    "# or\n",
    "str_list_copy = str_list[:]\n",
    "# or\n",
    "str_list_copy = list(str_list)\n",
    "```\n"
   ]
  },
  {
   "cell_type": "markdown",
   "metadata": {},
   "source": [
    "In addition to adding single elements to a list using `list.append()` or `list.insert()`, multiple elements can be added to a list at the same time by adding multiple lists together.\n",
    "\n",
    "```python\n",
    "rainbow  = ['red', 'orange', 'yellow', 'green', 'blue', 'indigo', 'violet']\n",
    "shades = ['coral', 'chartreuse', 'cyan', 'navy']\n",
    "print( rainbow + shades )\n",
    ">>> ['red', 'orange', 'yellow', 'green', 'blue', 'indigo', 'violet', 'coral', 'chartreuse', 'cyan', 'navy']\n",
    "```"
   ]
  },
  {
   "cell_type": "markdown",
   "metadata": {},
   "source": [
    "Single lists can be repeated by multiplying by an integer. \n",
    "\n",
    "<div class=\"run\">\n",
    "    ▶️ <b> Run the cell below. </b>\n",
    "</div>"
   ]
  },
  {
   "cell_type": "code",
   "execution_count": null,
   "metadata": {},
   "outputs": [
    {
     "name": "stdout",
     "output_type": "stream",
     "text": [
      "['energy', 'water', 'carbon', 'energy', 'water', 'carbon']\n",
      "[4, 23, 654, 2, 0, -12, 4391, 4, 23, 654, 2, 0, -12, 4391, 4, 23, 654, 2, 0, -12, 4391, 4, 23, 654, 2, 0, -12, 4391]\n"
     ]
    }
   ],
   "source": [
    "str_list2 = str_list * 2\n",
    "num_list4 = num_list * 4\n",
    "print( str_list2 )\n",
    "print( num_list4 )"
   ]
  },
  {
   "cell_type": "markdown",
   "metadata": {},
   "source": [
    "### Generating sequential lists\n",
    "Sequential lists are valuable tools, particularly for iteration, which we will explore in the next session. The `range()` function is used to create an iterable object based on the size of an integer argument.\n",
    "\n",
    "```python\n",
    "range(4)\n",
    ">>> range(0, 4)\n",
    "```\n",
    "\n",
    "To construct a sequential list from the `range()` object, use the `list()` function.\n",
    "\n",
    "```python\n",
    "list(range(4))\n",
    ">>> [0, 1, 2, 3]\n",
    "```\n",
    "\n",
    "Using multiple integer arguments, the `range()` function can be used to generate sequential lists between two bounds: `range(start, stop [, step])`.\n",
    "\n",
    "<div class=\"python\">\n",
    "    🐍 <b>Note.</b> \n",
    "    Like indexing, all Python functions using <span style=\"font-style: italic\"> start </span> and <span style=\"font-style: italic\"> stop </span> arguments, the <span style=\"font-style: italic\"> stop </span> value is <span style=\"font-weight: bold\"> exclusive </span>.\n",
    "</div>\n",
    "\n",
    "```python\n",
    "range_10 = list(range(1,11))\n",
    "odds_10 = list(range(1,11,2))\n",
    "print(range_10)\n",
    "print(odds_10)\n",
    ">>> [1, 2, 3, 4, 5, 6, 7, 8, 9, 10]\n",
    "    [1, 3, 5, 7, 9]\n",
    "```\n",
    "\n",
    "<div class=\"practice\">\n",
    "    📚  <b> Practice 5. </b> \n",
    "    Use the <code>range()</code> function to construct a list of all hundreds (e.g. 100, 200, etc.) between 0 and 1000, inclusive.\n",
    "</div>\n"
   ]
  }
 ],
 "metadata": {
  "kernelspec": {
   "display_name": "eds217_2023",
   "language": "python",
   "name": "python3"
  },
  "language_info": {
   "codemirror_mode": {
    "name": "ipython",
    "version": 3
   },
   "file_extension": ".py",
   "mimetype": "text/x-python",
   "name": "python",
   "nbconvert_exporter": "python",
   "pygments_lexer": "ipython3",
   "version": "3.10.12"
  },
  "orig_nbformat": 4
 },
 "nbformat": 4,
 "nbformat_minor": 2
}
