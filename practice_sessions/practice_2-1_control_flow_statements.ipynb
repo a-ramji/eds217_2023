{
 "cells": [
  {
   "cell_type": "markdown",
   "metadata": {},
   "source": [
    "| [⬅️ Previous Session](practice_1-2_lists.ipynb) | [🏠 Course Home](../index.ipynb) | [➡️ Next Session](practice_2-2_structured_data.ipynb) |\n",
    "\n",
    "# Practice 2-1: Control Flow Statements\n",
    "\n",
    "![control.jpeg](assets/control.jpeg)\n",
    "\n",
    "<hr style=\"border-top: 1px solid gray; margin-top: 24px; margin-bottom: 1px\"></hr>"
   ]
  },
  {
   "cell_type": "markdown",
   "metadata": {},
   "source": [
    "\n",
    "## 📚  Practice 1\n",
    "\n",
    "In programs, <code>if</code> statements are useful for catching errors due to user input. \n",
    "\n",
    "Define two new variables based on user input: the first prompting for a temperature value and the second prompting for the units as \"F\" or \"C\". \n",
    "\n",
    "Using the equation below, write an <code>if</code> statement that converts the temperature input to °C if it was given in °F or to °F if given in °C. Recall that all variables assigned based on user input are strings. Be sure to comment your code.\n",
    "    \n",
    "Formula for conversion between °F and °C:\n",
    "    $$T_{^{\\circ} C} = (T_{^{\\circ} F} - 32) \\times 5/9$$\n"
   ]
  },
  {
   "cell_type": "markdown",
   "metadata": {},
   "source": [
    "Describe your strategy here:\n"
   ]
  },
  {
   "cell_type": "code",
   "execution_count": 5,
   "metadata": {},
   "outputs": [
    {
     "name": "stdout",
     "output_type": "stream",
     "text": [
      "45.0 degrees f is 7.22 degrees Celsius.\n"
     ]
    }
   ],
   "source": [
    "# Add your code here:\n",
    "\n",
    "input_temp = input(\"Temperature: \")\n",
    "\n",
    "input_unit = input(\"Starting Unit: (c or f) \")\n",
    "\n",
    "\n",
    "if input_temp.isdigit():\n",
    "    input_temp = float(input_temp)\n",
    "    if isinstance(input_unit, str):\n",
    "        if input_unit.capitalize() == \"C\":\n",
    "            converted_temp = round((input_temp * (9/5) + 32), 2)\n",
    "            print(f\"{input_temp} degrees {input_unit} is {converted_temp} degrees Fahrenheit.\")\n",
    "        elif input_unit.capitalize() == \"F\":\n",
    "            converted_temp = round((input_temp - 32) * (5/9), 2)\n",
    "            print(f\"{input_temp} degrees {input_unit} is {converted_temp} degrees Celsius.\")\n",
    "        else:\n",
    "            print(\"I'm sorry, I only convert between Celsius (c) and Fahrenheit (f).\")\n",
    "    else: \n",
    "        print(\"Please input your starting unit as 'c' for Celsius or 'f' for Fahrenheit.\")\n",
    "else:\n",
    "    print(\"Please input your starting temperature as a numeric value\")\n"
   ]
  },
  {
   "cell_type": "markdown",
   "metadata": {},
   "source": [
    "## 📚  Practice 2. \n",
    "\n",
    "Using nested <code>if</code> statements and your code from Practice question #1, convert the user input temperature to the opposite units (°F to °C or vice versa), print a statement to the user that reports the temperature in the converted units and indicates whether or not the temperature below freezing. \n",
    "\n",
    "Your print statement should look something like:\n",
    "\n",
    "<code>The temperature is {__}°C/F. It is (not) below freezing.</code>\n",
    "\n"
   ]
  },
  {
   "cell_type": "markdown",
   "metadata": {},
   "source": [
    "Describe your strategy here:\n"
   ]
  },
  {
   "cell_type": "code",
   "execution_count": 10,
   "metadata": {},
   "outputs": [
    {
     "name": "stdout",
     "output_type": "stream",
     "text": [
      "-12.0 degrees F is -24.44 degrees Celsius. It is below freezing.\n"
     ]
    }
   ],
   "source": [
    "# Add your code here:\n",
    "input_temp = input(\"Temperature: \")\n",
    "input_temp = float(input_temp)\n",
    "input_unit = input(\"Starting Unit: (c or f) \")\n",
    "\n",
    "\n",
    "if isinstance(input_temp, float):\n",
    "    if isinstance(input_unit, str):\n",
    "        if input_unit.capitalize() == \"C\":\n",
    "            converted_temp = round((input_temp * (9/5) + 32), 2)\n",
    "            if converted_temp >= 32.00:\n",
    "                print(f\"{input_temp} degrees {input_unit.capitalize()} is {converted_temp} degrees Fahrenheit. It is not below freezing\")\n",
    "            else:\n",
    "                print(f\"{input_temp} degrees {input_unit.capitalize()} is {converted_temp} degrees Fahrenheit. It is below freezing.\")\n",
    "        elif input_unit.capitalize() == \"F\":\n",
    "            converted_temp = round((input_temp - 32) * (5/9), 2)\n",
    "            if converted_temp >= 0.00:\n",
    "                print(f\"{input_temp} degrees {input_unit.capitalize()} is {converted_temp} degrees Celsius. It is not below freezing\")\n",
    "            else:\n",
    "                print(f\"{input_temp} degrees {input_unit.capitalize()} is {converted_temp} degrees Celsius. It is below freezing.\")\n",
    "        else:\n",
    "            print(\"I'm sorry, I only convert between Celsius (c) and Fahrenheit (f).\")\n",
    "    else: \n",
    "        print(\"Please input your starting unit as 'c' for Celsius or 'f' for Fahrenheit.\")\n",
    "else:\n",
    "    print(\"Please input your starting temperature as a numeric value\")"
   ]
  },
  {
   "cell_type": "code",
   "execution_count": null,
   "metadata": {},
   "outputs": [],
   "source": []
  },
  {
   "cell_type": "markdown",
   "metadata": {},
   "source": [
    "## 📚  <b> Practice 3. </b> \n",
    "\n",
    "1. Create a list of the six organic elements sorted in alphabetical order and then print each element in the list.\n",
    "\n",
    "Given your sorted <code>org_elements</code> list and the corresponding list of atomic masses given in the cell below, use <code>enumerate()</code> in a <code>for</code> loop to print a formatted statement that expresses the atomic mass of of each element. \n",
    "\n",
    "Your formatted print statement should include the name of the element, the atomic mass rounded to 2 decimal places, and units.\n",
    "\n"
   ]
  },
  {
   "cell_type": "markdown",
   "metadata": {},
   "source": [
    "Describe your strategy here:\n",
    "\n",
    "I used `zip()` and `enumerate()` to iterate through both my mass and element lists while keeping track of the index in each. I then rounded each mass to 2 decimal places and used a formatted print statement to return the requested statement. \n"
   ]
  },
  {
   "cell_type": "code",
   "execution_count": 12,
   "metadata": {},
   "outputs": [
    {
     "name": "stdout",
     "output_type": "stream",
     "text": [
      "The atomic mass of Carbon is 12.01 g/mol\n",
      "The atomic mass of Hydrogen is 1.01 g/mol\n",
      "The atomic mass of Nitrogen is 14.01 g/mol\n",
      "The atomic mass of Oxygen is 16.0 g/mol\n",
      "The atomic mass of Phosphorous is 30.97 g/mol\n",
      "The atomic mass of Sulfur is 32.06 g/mol\n"
     ]
    }
   ],
   "source": [
    "atomic_mass = [12.011, 1.00784, 14.0067, 15.999, 30.97376, 32.065]  # g/mol\n",
    "org_elements = ['Carbon', 'Hydrogen', 'Nitrogen', 'Oxygen', 'Phosphorous', 'Sulfur']\n",
    "\n",
    "for i,(element,mass) in enumerate(zip(org_elements, atomic_mass)):\n",
    "    my_mass = round(atomic_mass[i], 2)\n",
    "    my_element = org_elements[i]\n",
    "    units = \"g/mol\"\n",
    "    print(f\"The atomic mass of {my_element} is {my_mass} {units}\")"
   ]
  },
  {
   "cell_type": "markdown",
   "metadata": {},
   "source": [
    "## 📚  <b> Practice 4. </b> \n",
    "The cell below contains monthly global land-ocean surface temperature in °F for each month during the years 2015-2022. \n",
    "\n",
    "Using  <code>enumerate()</code>, <code>zip()</code>, a nested <code>for</code> loop, or some combination of the three:\n",
    "\n",
    "<ol class=\"alpha\">\n",
    "<li> Calculate the monthly global land-ocean surface temperature anomalies (deviation from the mean) in °C for 2015-2018. The mean global land-ocean surface temperature calculated over the 20th century was 15.6°C.</li>\n",
    "<li> Create a new list with the mean monthly global surface temperature anomalies in °C for 2015-2023 (i.e. calculate the mean temperature anomaly for each month and put these values in a list). Use the command <code>np.mean()</code> to calculate mean values. </li> \n",
    "<li> Print each monthly mean value with the name of the month and units. </li>\n",
    "</ol>\n",
    "</div>"
   ]
  },
  {
   "cell_type": "code",
   "execution_count": 13,
   "metadata": {},
   "outputs": [],
   "source": [
    "# Import numpy for mean calculations\n",
    "import numpy as np\n",
    "\n",
    "tempF_2015 = [61.628, 61.7, 61.808, 61.448, 61.52, 61.538, 61.394, 61.52, 61.61, 62.042, 61.988, 62.168]\n",
    "tempF_2016 = [62.186, 62.546, 62.528, 62.06, 61.79, 61.52, 61.61, 61.916, 61.718, 61.682, 61.736, 61.628]\n",
    "tempF_2017 = [61.916, 62.132, 62.168, 61.772, 61.718, 61.376, 61.556, 61.646, 61.466, 61.7, 61.664, 61.754]\n",
    "tempF_2018 = [61.556, 61.61, 61.664, 61.682, 61.556, 61.466, 61.556, 61.448, 61.52, 61.916, 61.556, 61.718]\n",
    "tempF_2019 = [61.754, 61.79, 62.186, 61.898, 61.61, 61.7, 61.772, 61.79, 61.754, 61.898, 61.862, 62.042]\n",
    "tempF_2020 = [62.186, 62.312, 62.186, 62.114, 61.898, 61.736, 61.7, 61.646, 61.862, 61.664, 62.06, 61.538]\n",
    "tempF_2021 = [61.538, 61.232, 61.664, 61.43, 61.484, 61.592, 61.736, 61.556, 61.736, 61.88, 61.772, 61.61]\n",
    "\n",
    "# List of yearly lists (may or may not be useful)\n",
    "tempF_list = [tempF_2015, tempF_2016, tempF_2017, tempF_2018, tempF_2019, tempF_2020, tempF_2021]\n",
    "\n",
    "# List of years (probably useful)\n",
    "years = [2015, 2016, 2017, 2018, 2019, 2020, 2021]"
   ]
  },
  {
   "cell_type": "code",
   "execution_count": 20,
   "metadata": {},
   "outputs": [
    {
     "data": {
      "text/plain": [
       "list"
      ]
     },
     "execution_count": 20,
     "metadata": {},
     "output_type": "execute_result"
    }
   ],
   "source": [
    "type(tempF_list[0])"
   ]
  },
  {
   "cell_type": "markdown",
   "metadata": {},
   "source": [
    "Describe your strategy here:\n",
    "\n",
    "- convert tempF lists to celsius\n",
    "- select or specify range of 2015:2018\n",
    "- make avg_temp variable of 15.6 C\n",
    "- compare each element in each of the temperature lists to the  mean (15.6 C)\n",
    "- \n"
   ]
  },
  {
   "cell_type": "code",
   "execution_count": 30,
   "metadata": {},
   "outputs": [],
   "source": [
    "# Add your code here:\n",
    "avg_temp = 15.6\n",
    "\n",
    "tempC_2015 = []\n",
    "tempC_2016 = []\n",
    "tempC_2017 = []\n",
    "tempC_2018 = []\n",
    "tempC_2019 = []\n",
    "tempC_2020 = []\n",
    "tempC_2021 = []\n",
    "\n",
    "# testing it for one \n",
    "\n",
    "for i,value in enumerate(tempF_2015):\n",
    "    new_value = round(((tempF_2015[i]) - 32 * (5/9)), 3)\n",
    "    tempC_2015 = np.append(tempC_2015, new_value)\n",
    "\n"
   ]
  },
  {
   "cell_type": "markdown",
   "metadata": {},
   "source": [
    "pseudocode:\n",
    "\n",
    "tempC_list[i][new_value] = tempF_list[i][f_value] * conversion"
   ]
  },
  {
   "cell_type": "code",
   "execution_count": null,
   "metadata": {},
   "outputs": [],
   "source": []
  },
  {
   "cell_type": "code",
   "execution_count": 29,
   "metadata": {},
   "outputs": [
    {
     "data": {
      "text/plain": [
       "43.85022222222222"
      ]
     },
     "execution_count": 29,
     "metadata": {},
     "output_type": "execute_result"
    }
   ],
   "source": [
    "# check how to access a certain element in the 0 indexed list within our list and perform a conversion\n",
    "((tempF_list[0][0]) -32 * (5/9))"
   ]
  },
  {
   "cell_type": "code",
   "execution_count": 77,
   "metadata": {},
   "outputs": [
    {
     "name": "stdout",
     "output_type": "stream",
     "text": [
      "[0.9685714285714285, 1.0128571428571436, 1.0828571428571439, 0.9400000000000015, 0.8742857142857157, 0.8228571428571444, 0.8542857142857141, 0.8700000000000008, 0.8814285714285729, 0.9700000000000016, 0.9585714285714294, 0.9442857142857155]\n"
     ]
    }
   ],
   "source": [
    "# class answer:\n",
    "\n",
    "tempC_list_class = []\n",
    "anomC_list = []\n",
    "mean_temp = 15.6\n",
    "\n",
    "for year_data in tempF_list:\n",
    " #   print(year_data)\n",
    "    year_C = []\n",
    "    year_C_anom = []\n",
    "    for value in year_data:\n",
    "        C_value = (value - 32) * (5/9)\n",
    "        year_C.append(C_value)\n",
    "        year_C_anom.append(C_value - mean_temp)\n",
    "    tempC_list_class.append(year_C)\n",
    "    anomC_list.append(year_C_anom)\n",
    "\n",
    "# print(anomC_list)\n",
    "\n",
    "monthly_anoms = []\n",
    "\n",
    "for i in range(12): # 12 months in a year\n",
    "    month_vals = []\n",
    "    for j in range(7): # we have 7 years of data\n",
    "        month_vals.append(anomC_list[j][i])\n",
    "    monthly_anoms.append(np.mean(month_vals))\n",
    "print(monthly_anoms)"
   ]
  },
  {
   "cell_type": "code",
   "execution_count": 82,
   "metadata": {},
   "outputs": [
    {
     "name": "stdout",
     "output_type": "stream",
     "text": [
      "[0.9686, 1.0129, 1.0829, 0.94, 0.8743, 0.8229, 0.8543, 0.87, 0.8814, 0.97, 0.9586, 0.9443]\n"
     ]
    },
    {
     "data": {
      "text/plain": [
       "<BarContainer object of 12 artists>"
      ]
     },
     "execution_count": 82,
     "metadata": {},
     "output_type": "execute_result"
    },
    {
     "data": {
      "image/png": "[encoded data removed]",
      "text/plain": [
       "<Figure size 640x480 with 1 Axes>"
      ]
     },
     "metadata": {},
     "output_type": "display_data"
    }
   ],
   "source": [
    "# or\n",
    "tempC_list_class_2 = []\n",
    "anomC_list_2 = []\n",
    "\n",
    "for year_data in tempF_list:\n",
    "    year_C_2 = [((value - 32) * (5/9)) for value in year_data]\n",
    "    year_C_anom_2 = [value - mean_temp for value in year_C_2]\n",
    "    tempC_list_class_2.append(year_C)\n",
    "    anomC_list_2.append(year_C_anom_2)\n",
    "\n",
    "# yearly averages\n",
    "\n",
    "avg_month_F = []\n",
    "avg_month_C = []\n",
    "avg_month_anom = []\n",
    "avg_temp = 15.6\n",
    "\n",
    "for i in zip(tempF_2015, tempF_2016, tempF_2017, tempF_2018, tempF_2019, tempF_2020, tempF_2021):\n",
    "    avg_F = np.mean(i)\n",
    "    avg_C = (avg_F - 32) * (5/9)\n",
    "    avg_month_F.append(avg_F)\n",
    "    avg_month_C.append(avg_C)\n",
    "    avg_month_anom.append(round((avg_C - avg_temp), 4))\n",
    "\n",
    "print(avg_month_anom)\n",
    "\n",
    "months = ['Jan', 'Feb', 'Mar', 'Apr', 'May', 'Jun', 'Jul', 'Aug', 'Sep', 'Oct', 'Nov', 'Dec']\n",
    "\n",
    "import matplotlib.pyplot as plt\n",
    "\n",
    "plt.bar(months, avg_month_anom)"
   ]
  },
  {
   "cell_type": "code",
   "execution_count": 71,
   "metadata": {},
   "outputs": [],
   "source": [
    "# tempC_2015 = []\n",
    "# tempC_2016 = []\n",
    "# tempC_2017 = []\n",
    "# tempC_2018 = []\n",
    "# tempC_2019 = []\n",
    "# tempC_2020 = []\n",
    "# tempC_2021 = []\n",
    "# tempC_list = [tempC_2015, tempC_2016, tempC_2017, tempC_2018, tempC_2019, tempC_2020, tempC_2021]\n",
    "tempC_list = []\n",
    "tempC_means = []\n",
    "anomalies_list = []\n",
    "yearly_means = []\n",
    "avg_temp = 15.6\n",
    "# 1\n",
    "for i,value in enumerate(tempF_list):\n",
    "    new_value = [round(((x - 32) * (5/9)), 2) for x in value]\n",
    "    tempC_list.append(new_value)\n",
    "\n",
    "\n",
    "for i,tempC_year in enumerate(tempC_list):\n",
    "    monthly_diff = [(y - avg_temp) for y in tempC_year]\n",
    "    anomalies_list.append(monthly_diff)"
   ]
  },
  {
   "cell_type": "code",
   "execution_count": 72,
   "metadata": {},
   "outputs": [],
   "source": [
    "# for i,value in enumerate(tempF_list):\n",
    "#     new_value = [(x - 32 * (5/9)) for x in value]\n",
    "#     tempC_list.append(new_value)\n",
    "#     avg_temp = np.mean(new_value)\n",
    "#     yearly_means.append(avg_temp)\n",
    "#     temp_diff = [round(y - year_mean, 2) for y in new_value]"
   ]
  },
  {
   "cell_type": "code",
   "execution_count": 73,
   "metadata": {},
   "outputs": [],
   "source": [
    "# for i,value in enumerate(tempF_list):\n",
    "#     new_value = [((x - 32) * (5/9)) for x in value]\n",
    "#     tempC_list = np.append(tempC_list, new_value)\n",
    "#     year_mean = np.mean(new_value)\n",
    "#     yearly_means = np.append(yearly_means, year_mean)\n",
    "#     temp_diff = [round((y - year_mean), 4) for y in new_value]\n",
    "#     monthly_anomalies = np.append(monthly_anomalies, temp_diff)"
   ]
  },
  {
   "cell_type": "code",
   "execution_count": null,
   "metadata": {},
   "outputs": [],
   "source": []
  },
  {
   "cell_type": "code",
   "execution_count": 64,
   "metadata": {},
   "outputs": [],
   "source": [
    "\n",
    "   # tempC_means = np.append(tempC_means, (np.mean(new_value)))\n",
    "  #  anomalies = [round(y - yearly_mean, 2) for y in new_value]\n",
    "  #  monthly_anomalies = np.append(monthly_anomalies, anomalies)"
   ]
  },
  {
   "cell_type": "code",
   "execution_count": 36,
   "metadata": {},
   "outputs": [
    {
     "name": "stdout",
     "output_type": "stream",
     "text": [
      "[-0.07  0.    0.11 -0.25 -0.18 -0.16 -0.3  -0.18 -0.09  0.34  0.29  0.47\n",
      "  0.28  0.64  0.62  0.15 -0.12 -0.39 -0.3   0.01 -0.19 -0.23 -0.17 -0.28\n",
      "  0.18  0.39  0.43  0.03 -0.02 -0.36 -0.18 -0.09 -0.27 -0.04 -0.08  0.01\n",
      " -0.05  0.01  0.06  0.08 -0.05 -0.14 -0.05 -0.16 -0.08  0.31 -0.05  0.11\n",
      " -0.08 -0.05  0.35  0.06 -0.23 -0.14 -0.07 -0.05 -0.08  0.06  0.02  0.2\n",
      "  0.28  0.4   0.28  0.21 -0.01 -0.17 -0.21 -0.26 -0.05 -0.24  0.15 -0.37\n",
      " -0.06 -0.37  0.06 -0.17 -0.12 -0.01  0.13 -0.05  0.13  0.28  0.17  0.01]\n"
     ]
    }
   ],
   "source": [
    "print(monthly_anomalies)"
   ]
  },
  {
   "cell_type": "code",
   "execution_count": 34,
   "metadata": {},
   "outputs": [],
   "source": [
    "\n",
    "\n",
    "# for i,(f_value, c_value) in enumerate(zip(tempF_list, tempC_list)):\n",
    "#     new_value = round(((tempF_list[i][f_value]) - 32 * (5/9)), 3)\n",
    "#     tempC_list[i][c_value] = np.append(tempC_list[i][c_value], new_value)"
   ]
  },
  {
   "cell_type": "markdown",
   "metadata": {},
   "source": [
    "pseudocode:\n",
    "\n",
    "for i,year in years:\n",
    "tempC_list[i] = tempC_{year}"
   ]
  },
  {
   "cell_type": "code",
   "execution_count": 74,
   "metadata": {},
   "outputs": [],
   "source": [
    "# trying to make it iterative across all tempF_list elements\n",
    "\n",
    "\n",
    "\n",
    "# for i,(f_list, year) in enumerate(tempF_list, years)"
   ]
  },
  {
   "cell_type": "code",
   "execution_count": 63,
   "metadata": {},
   "outputs": [],
   "source": [
    "# Amanda's code:\n",
    "# temp_anomalies = []\n",
    "\n",
    "# for i,(temp, year) in enumerate(zip(tempF_list, years)):\n",
    "#    temp_c = [((x - 32) * (5/9)) for x in temp]\n",
    "#    year_mean = np.mean(temp_c)\n",
    "#    temp_anomalies = np.append(temp_anomalies, ([round(y - year_mean, 2) for y in temp_c]))\n",
    "#    # mean_anomalies = np.mean(temp_anomalies)\n",
    "#    print(f\"The monthly mean value for {year} is {round(year_mean,1)}°C\")"
   ]
  },
  {
   "cell_type": "markdown",
   "metadata": {},
   "source": [
    "## 📚  Practice 5.\n",
    "\n",
    "Use a list comprehension to print a list of all months that had an anomaly above the average monthly anomaly.\n",
    "\n",
    "Some helpful code is provided below:\n",
    "```python\n",
    "months = ['January', 'February', 'March', 'April', 'May', 'June', 'July', 'August', 'September', 'October', 'November', 'December']\n",
    "\n",
    "average_anomaly = np.mean(mean_monthly_anomalies)\n",
    "\n",
    "```\n",
    "Recall that list comprehensions can contain <code>if</code> statements. For example:\n",
    "\n",
    "[<code>item</code> for <code>item</code> in <code>list</code> if <code>item</code> > <code>value</code>]\n",
    "\n",
    "And they can also contain enumerate statements:\n",
    "\n",
    "[<code>item</code> for <code>index,item</code> in <code>enumerate(list)</code> if <code>other_list[index]</code> > <code>value</code>]"
   ]
  },
  {
   "cell_type": "markdown",
   "metadata": {},
   "source": [
    "Describe your strategy here:\n",
    "\n"
   ]
  },
  {
   "cell_type": "code",
   "execution_count": 69,
   "metadata": {},
   "outputs": [],
   "source": [
    "# Add your code here:"
   ]
  }
 ],
 "metadata": {
  "kernelspec": {
   "display_name": "eds217_2023",
   "language": "python",
   "name": "python3"
  },
  "language_info": {
   "codemirror_mode": {
    "name": "ipython",
    "version": 3
   },
   "file_extension": ".py",
   "mimetype": "text/x-python",
   "name": "python",
   "nbconvert_exporter": "python",
   "pygments_lexer": "ipython3",
   "version": "3.10.12"
  },
  "orig_nbformat": 4
 },
 "nbformat": 4,
 "nbformat_minor": 2
}
