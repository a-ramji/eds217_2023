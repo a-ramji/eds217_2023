{
 "cells": [
  {
   "cell_type": "markdown",
   "metadata": {
    "slideshow": {
     "slide_type": "slide"
    }
   },
   "source": [
    "| [⬅️ Previous Session](practice_1-1_variables.ipynb) | [🏠 Course Home](../index.ipynb) | [➡️ Next Session](practice_2-1_control_flow_statements.ipynb) |\n",
    "\n",
    "# Practice 1-2: Lists + Indexing\n"
   ]
  },
  {
   "cell_type": "markdown",
   "metadata": {},
   "source": [
    "\n",
    "## 📚  <b> Practice 1. </b> \n",
    "Define a new list of <b>floats</b> with <b>8 elements</b> called <code>my_list</code>. \n",
    "\n",
    "1. Find the 5th element in your list.\n",
    "2. Create a new list containing every other value in your original list.\n",
    "3. Using slicing and two different methods of indexing, remove the first and last values in your list.\n"
   ]
  },
  {
   "cell_type": "code",
   "execution_count": 7,
   "metadata": {},
   "outputs": [
    {
     "name": "stdout",
     "output_type": "stream",
     "text": [
      "4.2\n",
      "[0.1, 2.1, 4.2, 6.0]\n"
     ]
    },
    {
     "data": {
      "text/plain": [
       "[1.1, 2.1, 3.3, 4.2, 5.3, 6.0]"
      ]
     },
     "execution_count": 7,
     "metadata": {},
     "output_type": "execute_result"
    }
   ],
   "source": [
    "# Define a new list called my_list.\n",
    "my_list = [0.1, 1.1, 2.1, 3.3, 4.2, 5.3, 6.0, 7.8]\n",
    "# Find the 5th element.\n",
    "print(my_list[4])\n",
    "# New list with every other value.\n",
    "new_list = my_list[0::2]\n",
    "print(new_list)\n",
    "# Remove first and last values. \n",
    "my_list[1:-1]"
   ]
  },
  {
   "cell_type": "markdown",
   "metadata": {},
   "source": [
    "\n",
    "## 📚  <b> Practice 2. </b> \n",
    "Create the variable <code>str_list</code> and assign it to the list <code>['energy', 'water', 'carbon']</code>.\n",
    "Use indexing to extract the second letter of the third element ('a') in <code>str_list</code>.\n",
    "\n",
    "```python\n",
    "str_list = ['energy', 'water', 'carbon']\n",
    "```"
   ]
  },
  {
   "cell_type": "code",
   "execution_count": 12,
   "metadata": {},
   "outputs": [
    {
     "data": {
      "text/plain": [
       "'a'"
      ]
     },
     "execution_count": 12,
     "metadata": {},
     "output_type": "execute_result"
    }
   ],
   "source": [
    "str_list = ['energy', 'water', 'carbon']\n",
    "\n",
    "var1 = str_list[2]\n",
    "var1[1]"
   ]
  },
  {
   "cell_type": "markdown",
   "metadata": {},
   "source": [
    "\n",
    "## 📚  <b> Practice 3. </b> \n",
    "Create a copy of <code>my_list</code>, which you assigned above. \n",
    "\n",
    "1. Using indexing or list operators, remove the first and last elements of your copied list.\n",
    "2. Sort both the original list and the copied list in reverse order.\n",
    "3. Use the <code>len()</code> function and a boolean operator to determine which list is longer.\n"
   ]
  },
  {
   "cell_type": "code",
   "execution_count": 19,
   "metadata": {},
   "outputs": [
    {
     "name": "stdout",
     "output_type": "stream",
     "text": [
      "[0.1, 1.1, 2.1, 3.3, 4.2, 5.3, 6.0, 7.8]\n",
      "[1.1, 2.1, 3.3, 4.2, 5.3, 6.0]\n"
     ]
    }
   ],
   "source": [
    "my_list_copy = my_list.copy()\n",
    "print(my_list_copy)\n",
    "my_list_copy.pop()\n",
    "my_list_copy.pop(0)\n",
    "print(my_list_copy)\n"
   ]
  },
  {
   "cell_type": "code",
   "execution_count": 23,
   "metadata": {},
   "outputs": [
    {
     "name": "stdout",
     "output_type": "stream",
     "text": [
      "[7.8, 6.0, 5.3, 4.2, 3.3, 2.1, 1.1, 0.1]\n",
      "[6.0, 5.3, 4.2, 3.3, 2.1, 1.1]\n"
     ]
    }
   ],
   "source": [
    "my_list.sort(reverse=True)\n",
    "print(my_list)\n",
    "\n",
    "my_list_copy.sort(reverse=True)\n",
    "print(my_list_copy)"
   ]
  },
  {
   "cell_type": "code",
   "execution_count": 24,
   "metadata": {},
   "outputs": [
    {
     "data": {
      "text/plain": [
       "True"
      ]
     },
     "execution_count": 24,
     "metadata": {},
     "output_type": "execute_result"
    }
   ],
   "source": [
    "len(my_list) > len(my_list_copy)"
   ]
  },
  {
   "cell_type": "markdown",
   "metadata": {},
   "source": [
    "## 📚  <b> Practice 4. </b> \n",
    "\n",
    "1. Create a new list of 10 random floats between 0 and 1 called <code>rand_list</code>.\n",
    "1. Add <code>rand_list</code> and <code>my_list</code> together in a new list called <code>float_list</code>. \n",
    "1. Print the result.\n"
   ]
  },
  {
   "cell_type": "code",
   "execution_count": 28,
   "metadata": {},
   "outputs": [
    {
     "name": "stdout",
     "output_type": "stream",
     "text": [
      "[0.1, 0.2, 0.3, 0.4, 0.5, 0.6, 0.7, 0.8, 0.9, 0.95, 7.8, 6.0, 5.3, 4.2, 3.3, 2.1, 1.1, 0.1]\n"
     ]
    }
   ],
   "source": [
    "rand_list = [0.1, 0.2, 0.3, 0.4, 0.5, 0.6, 0.7, 0.8, 0.9, 0.95]\n",
    "\n",
    "float_list = rand_list + my_list\n",
    "print(float_list)"
   ]
  },
  {
   "cell_type": "code",
   "execution_count": 32,
   "metadata": {},
   "outputs": [
    {
     "name": "stdout",
     "output_type": "stream",
     "text": [
      "[7.8, 6.0, 5.3, 4.2, 3.3, 2.1, 1.1, 0.95, 0.9, 0.8, 0.7, 0.6, 0.5, 0.4, 0.3, 0.2, 0.1, 0.1]\n"
     ]
    }
   ],
   "source": [
    "float_list.sort(reverse=True)\n",
    "print(float_list)"
   ]
  },
  {
   "cell_type": "markdown",
   "metadata": {},
   "source": [
    "\n",
    "## 📚  <b> Practice 5. </b> \n",
    "Use the <code>range()</code> function to construct a list of all hundreds (e.g. 100, 200, etc.) between 0 and 1000, inclusive.\n"
   ]
  },
  {
   "cell_type": "code",
   "execution_count": 4,
   "metadata": {},
   "outputs": [
    {
     "name": "stdout",
     "output_type": "stream",
     "text": [
      "[100, 200, 300, 400, 500, 600, 700, 800, 900, 1000]\n"
     ]
    }
   ],
   "source": [
    "hundreds = list(range(100, 1001, 100))\n",
    "print(hundreds)"
   ]
  },
  {
   "cell_type": "markdown",
   "metadata": {},
   "source": [
    "<hr style=\"border-top: 1px solid gray; margin-top: 24px; margin-bottom: 1px\"></hr>"
   ]
  }
 ],
 "metadata": {
  "kernelspec": {
   "display_name": "Python 3",
   "language": "python",
   "name": "python3"
  },
  "language_info": {
   "codemirror_mode": {
    "name": "ipython",
    "version": 3
   },
   "file_extension": ".py",
   "mimetype": "text/x-python",
   "name": "python",
   "nbconvert_exporter": "python",
   "pygments_lexer": "ipython3",
   "version": "3.10.12"
  }
 },
 "nbformat": 4,
 "nbformat_minor": 2
}
