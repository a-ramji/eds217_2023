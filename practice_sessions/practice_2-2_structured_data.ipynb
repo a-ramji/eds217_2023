{
 "cells": [
  {
   "cell_type": "markdown",
   "metadata": {
    "slideshow": {
     "slide_type": "slide"
    }
   },
   "source": [
    "| [⬅️ Previous Session](practice_2-1_control_flow_statements.ipynb) | [🏠 Course Home](../index.ipynb) | [➡️ Next Session](practice_3-1_numpy.ipynb) |\n",
    "\n",
    "# Practice 1-4: Structured Data in Python"
   ]
  },
  {
   "cell_type": "markdown",
   "metadata": {},
   "source": [
    "## 📚  <b> Practice 1. </b> \n",
    "\n",
    "Dictionaries are an extremely common data structure. Often data is easiest to store according to keys, where each row of data has a unique key. \n",
    "\n",
    "For example, a dictionary of students might have a key for each student's name or id, and then a set of values that are associated with that student.\n",
    "\n",
    "### Make a dictionary of your peers.\n",
    "\n",
    "Come up with 3-4 questions and ask 5-6 of your peers to give answers to each one. The questions can be anything you want, but they should be questions that can be answered with a single word or number.\n",
    "\n",
    "For example, you might ask:\n",
    "- What is your favorite color? (pretty weak question)\n",
    "- How many siblings do you have? (ok, but not great)\n",
    "- What is your favorite genre of film? (better)\n",
    "- On a scale of 1-10, how well do you feel that you understand python dictionaries? (better still)\n",
    "\n",
    "Make sure you have a key for each person, and then a set of values for each question. \n",
    "\n",
    "Based on each person's responses, build a dictionary in the cell below:\n",
    "\n",
    "(note: You will end up with a dictionary of dictionaries)\n",
    "\n",
    "```python\n",
    "# Example:\n",
    "my_dict = {\n",
    "    'person1': {\n",
    "        'question1': 'answer1',\n",
    "        'question2': 'answer2',\n",
    "        'question3': 'answer3',\n",
    "        'question4': 'answer4',\n",
    "    },\n",
    "    'person2': {\n",
    "        'question1': 'answer1',\n",
    "        'question2': 'answer2',\n",
    "        'question3': 'answer3',\n",
    "        'question4': 'answer4',\n",
    "    },\n",
    "    'person3': {\n",
    "        'question1': 'answer1',\n",
    "        'question2': 'answer2',\n",
    "        'question3': 'answer3',\n",
    "        'question4': 'answer4',\n",
    "    },\n",
    "}\n",
    "```"
   ]
  },
  {
   "cell_type": "markdown",
   "metadata": {},
   "source": [
    "questions:\n",
    "\n",
    "1. how many siblings do you have\n",
    "2. what is your favorite caffeinated drink?\n",
    "3. what is your favorite genre of music to listen to?\n",
    "4. what is your favorite day of the week?"
   ]
  },
  {
   "cell_type": "code",
   "execution_count": 20,
   "metadata": {},
   "outputs": [],
   "source": [
    "my_dict = {\n",
    "    'Amanda': {\n",
    "        'how many siblings do you have': 2,\n",
    "        'what is your favorite caffeinated drink?': 'black tea',\n",
    "        'what is your favorite genre of music to listen to?': 'indie',\n",
    "        'what is your favorite day of the week?': 'Thursday',\n",
    "    },\n",
    "    'Hope': {\n",
    "        'how many siblings do you have': 2,\n",
    "        'what is your favorite caffeinated drink?': 'tea',\n",
    "        'what is your favorite genre of music to listen to?': 'alternative',\n",
    "        'what is your favorite day of the week?': 'Saturday',\n",
    "    },\n",
    "    'Anna': {\n",
    "        'how many siblings do you have': 2,\n",
    "        'what is your favorite caffeinated drink?': 'chai',\n",
    "        'what is your favorite genre of music to listen to?': 'celtic rock',\n",
    "        'what is your favorite day of the week?': 'Friday',\n",
    "    },\n",
    "    'Luna': {\n",
    "        'how many siblings do you have': 2,\n",
    "        'what is your favorite caffeinated drink?': 'coffee',\n",
    "        'what is your favorite genre of music to listen to?': 'afro-beats',\n",
    "        'what is your favorite day of the week?': 'Thursday',\n",
    "    },\n",
    "    'Olivia': {\n",
    "        'how many siblings do you have': 2,\n",
    "        'what is your favorite caffeinated drink?': 'vanilla latte',\n",
    "        'what is your favorite genre of music to listen to?': 'indie',\n",
    "        'what is your favorite day of the week?': 'Friday',\n",
    "    },\n",
    "    \n",
    "    'Carly': {\n",
    "        'how many siblings do you have': 3,\n",
    "        'what is your favorite caffeinated drink?': 'iced maple latte',\n",
    "        'what is your favorite genre of music to listen to?': 'folk',\n",
    "        'what is your favorite day of the week?': 'Saturday',\n",
    "    }\n",
    "    \n",
    "\n",
    "}"
   ]
  },
  {
   "cell_type": "markdown",
   "metadata": {},
   "source": [
    "## Dictionary to dataframe\n",
    "\n",
    "Now that you have a dictionary, you can convert it to a dataframe.\n",
    "\n",
    "### Convert your dictionary to a dataframe\n",
    "\n",
    "Use the `pd.DataFrame()` function to convert your dictionary to a dataframe.\n",
    "\n",
    "```python\n",
    "import pandas as pd\n",
    "\n",
    "# Convert a dictionary to a dataframe\n",
    "df = pd.DataFrame(my_dict)\n",
    "```\n"
   ]
  },
  {
   "cell_type": "code",
   "execution_count": 6,
   "metadata": {},
   "outputs": [],
   "source": [
    "import pandas as pd\n",
    "\n",
    "df = pd.DataFrame(my_dict)"
   ]
  },
  {
   "cell_type": "markdown",
   "metadata": {},
   "source": [
    "\n",
    "### Investigate your dataframe using the following functions:\n",
    "\n",
    "- `df.head()`\n",
    "- `df.tail()`\n",
    "- `df.info()`\n",
    "\n"
   ]
  },
  {
   "cell_type": "code",
   "execution_count": 7,
   "metadata": {},
   "outputs": [
    {
     "data": {
      "text/html": [
       "<div>\n",
       "<style scoped>\n",
       "    .dataframe tbody tr th:only-of-type {\n",
       "        vertical-align: middle;\n",
       "    }\n",
       "\n",
       "    .dataframe tbody tr th {\n",
       "        vertical-align: top;\n",
       "    }\n",
       "\n",
       "    .dataframe thead th {\n",
       "        text-align: right;\n",
       "    }\n",
       "</style>\n",
       "<table border=\"1\" class=\"dataframe\">\n",
       "  <thead>\n",
       "    <tr style=\"text-align: right;\">\n",
       "      <th></th>\n",
       "      <th>Amanda</th>\n",
       "      <th>Hope</th>\n",
       "      <th>Anna</th>\n",
       "      <th>Luna</th>\n",
       "      <th>Olivia</th>\n",
       "      <th>Carly</th>\n",
       "    </tr>\n",
       "  </thead>\n",
       "  <tbody>\n",
       "    <tr>\n",
       "      <th>how many siblings do you have</th>\n",
       "      <td>2</td>\n",
       "      <td>2</td>\n",
       "      <td>2</td>\n",
       "      <td>2</td>\n",
       "      <td>2</td>\n",
       "      <td>3</td>\n",
       "    </tr>\n",
       "    <tr>\n",
       "      <th>what is your favorite caffeinated drink?</th>\n",
       "      <td>black tea</td>\n",
       "      <td>tea</td>\n",
       "      <td>chai</td>\n",
       "      <td>coffee</td>\n",
       "      <td>vanilla latte</td>\n",
       "      <td>iced maple latte</td>\n",
       "    </tr>\n",
       "    <tr>\n",
       "      <th>what is your favorite genre of music to listen to?</th>\n",
       "      <td>indie</td>\n",
       "      <td>alternative</td>\n",
       "      <td>celtic rock</td>\n",
       "      <td>afro-beats</td>\n",
       "      <td>indie</td>\n",
       "      <td>folk</td>\n",
       "    </tr>\n",
       "    <tr>\n",
       "      <th>what is your favorite day of the week?</th>\n",
       "      <td>Thursday</td>\n",
       "      <td>Saturday</td>\n",
       "      <td>Friday</td>\n",
       "      <td>Thursday</td>\n",
       "      <td>Friday</td>\n",
       "      <td>Saturday</td>\n",
       "    </tr>\n",
       "  </tbody>\n",
       "</table>\n",
       "</div>"
      ],
      "text/plain": [
       "                                                       Amanda         Hope  \\\n",
       "how many siblings do you have                               2            2   \n",
       "what is your favorite caffeinated drink?            black tea          tea   \n",
       "what is your favorite genre of music to listen to?      indie  alternative   \n",
       "what is your favorite day of the week?               Thursday     Saturday   \n",
       "\n",
       "                                                           Anna        Luna  \\\n",
       "how many siblings do you have                                 2           2   \n",
       "what is your favorite caffeinated drink?                   chai      coffee   \n",
       "what is your favorite genre of music to listen to?  celtic rock  afro-beats   \n",
       "what is your favorite day of the week?                   Friday    Thursday   \n",
       "\n",
       "                                                           Olivia  \\\n",
       "how many siblings do you have                                   2   \n",
       "what is your favorite caffeinated drink?            vanilla latte   \n",
       "what is your favorite genre of music to listen to?          indie   \n",
       "what is your favorite day of the week?                     Friday   \n",
       "\n",
       "                                                               Carly  \n",
       "how many siblings do you have                                      3  \n",
       "what is your favorite caffeinated drink?            iced maple latte  \n",
       "what is your favorite genre of music to listen to?              folk  \n",
       "what is your favorite day of the week?                      Saturday  "
      ]
     },
     "execution_count": 7,
     "metadata": {},
     "output_type": "execute_result"
    }
   ],
   "source": [
    "df.head()"
   ]
  },
  {
   "cell_type": "code",
   "execution_count": 9,
   "metadata": {},
   "outputs": [
    {
     "name": "stdout",
     "output_type": "stream",
     "text": [
      "<class 'pandas.core.frame.DataFrame'>\n",
      "Index: 4 entries, how many siblings do you have to what is your favorite day of the week?\n",
      "Data columns (total 6 columns):\n",
      " #   Column  Non-Null Count  Dtype \n",
      "---  ------  --------------  ----- \n",
      " 0   Amanda  4 non-null      object\n",
      " 1   Hope    4 non-null      object\n",
      " 2   Anna    4 non-null      object\n",
      " 3   Luna    4 non-null      object\n",
      " 4   Olivia  4 non-null      object\n",
      " 5   Carly   4 non-null      object\n",
      "dtypes: object(6)\n",
      "memory usage: 224.0+ bytes\n"
     ]
    }
   ],
   "source": [
    "df.tail()\n",
    "df.info()"
   ]
  },
  {
   "cell_type": "markdown",
   "metadata": {},
   "source": [
    "Is your dataframe what you expected? If not, what is different? Why?? How would you need to change your data structure to get the dataframe you expected?"
   ]
  },
  {
   "cell_type": "markdown",
   "metadata": {},
   "source": [
    "I expected this but I'd prefer if the questions were columns and the people were rows"
   ]
  },
  {
   "cell_type": "code",
   "execution_count": null,
   "metadata": {},
   "outputs": [],
   "source": []
  },
  {
   "cell_type": "markdown",
   "metadata": {},
   "source": [
    "\n",
    "\n",
    "`df.transpose()` might be helpful here. What does it do?\n",
    "create a new dataframe that is a transposed version of your original dataframe.\n",
    "\n",
    "```python\n",
    "# Transpose a dataframe\n",
    "df_transposed = df.transpose()\n",
    "```"
   ]
  },
  {
   "cell_type": "code",
   "execution_count": 21,
   "metadata": {},
   "outputs": [],
   "source": [
    "# Transpose your dataframe so that the people are the rows and the questions are the columns.\n",
    "df_transposed = df.transpose()\n",
    "\n",
    "# yay!"
   ]
  },
  {
   "cell_type": "markdown",
   "metadata": {},
   "source": [
    "### Visualize/summarize your dataframe using one or more of the following functions:\n",
    "\n",
    "- `df.describe()`\n",
    "- `df.plot()`\n",
    "- `df.hist()`"
   ]
  },
  {
   "cell_type": "code",
   "execution_count": 34,
   "metadata": {},
   "outputs": [],
   "source": [
    "#df.describe()\n",
    "#df_transposed.plot()\n",
    "# df_transposed.hist()\n",
    "\n",
    "\n",
    "# df_transposed.plot('index', 'how many siblings do you have')"
   ]
  },
  {
   "cell_type": "markdown",
   "metadata": {},
   "source": [
    "## 📚  <b> Practice 2. </b>\n",
    "\n",
    "### Structured data search: Find structured data on the internet and convert it to a dataframe.\n",
    "\n",
    "You're looking for data that is in a table format, like a spreadsheet, but not available as an easy to download `.csv` or `.excel` file. This turns out to describe a lot of data!\n",
    "\n",
    "Often you can find this kind of data on wikipedia, or on government websites, or in research articles that contain tables of results.\n"
   ]
  },
  {
   "cell_type": "code",
   "execution_count": 24,
   "metadata": {},
   "outputs": [],
   "source": [
    "satisfaction_survey = {\n",
    "    'customer1': {\n",
    "        'how easy was it to navigate our website': 8,\n",
    "        'would you recommend this product to a friend': 6,\n",
    "        'how would you rate your delivery experience': 7,\n",
    "        'how likely would you be to use our product again': 8,\n",
    "    },\n",
    "    'customer2': {\n",
    "        'how easy was it to navigate our website': 4,\n",
    "        'would you recommend this product to a friend': 5,\n",
    "        'how would you rate your delivery experience': 6,\n",
    "        'how likely would you be to use our product again': 6,\n",
    "    },\n",
    "    'customer3': {\n",
    "        'how easy was it to navigate our website': 10,\n",
    "        'would you recommend this product to a friend': 9,\n",
    "        'how would you rate your delivery experience': 10,\n",
    "        'how likely would you be to use our product again': 9,\n",
    "    },\n",
    "    'customer4': {\n",
    "        'how easy was it to navigate our website': 7,\n",
    "        'would you recommend this product to a friend': 6,\n",
    "        'how would you rate your delivery experience': 8,\n",
    "        'how likely would you be to use our product again': 7,\n",
    "    },\n",
    "    'customer5': {\n",
    "        'how easy was it to navigate our website': 3,\n",
    "        'would you recommend this product to a friend': 2,\n",
    "        'how would you rate your delivery experience': 6,\n",
    "        'how likely would you be to use our product again': 3,\n",
    "    }\n",
    "}"
   ]
  },
  {
   "cell_type": "markdown",
   "metadata": {},
   "source": [
    "### Convert your data to a dataframe"
   ]
  },
  {
   "cell_type": "code",
   "execution_count": null,
   "metadata": {},
   "outputs": [],
   "source": []
  },
  {
   "cell_type": "code",
   "execution_count": 31,
   "metadata": {},
   "outputs": [
    {
     "data": {
      "text/html": [
       "<div>\n",
       "<style scoped>\n",
       "    .dataframe tbody tr th:only-of-type {\n",
       "        vertical-align: middle;\n",
       "    }\n",
       "\n",
       "    .dataframe tbody tr th {\n",
       "        vertical-align: top;\n",
       "    }\n",
       "\n",
       "    .dataframe thead th {\n",
       "        text-align: right;\n",
       "    }\n",
       "</style>\n",
       "<table border=\"1\" class=\"dataframe\">\n",
       "  <thead>\n",
       "    <tr style=\"text-align: right;\">\n",
       "      <th></th>\n",
       "      <th>how easy was it to navigate our website</th>\n",
       "      <th>would you recommend this product to a friend</th>\n",
       "      <th>how would you rate your delivery experience</th>\n",
       "      <th>how likely would you be to use our product again</th>\n",
       "    </tr>\n",
       "  </thead>\n",
       "  <tbody>\n",
       "    <tr>\n",
       "      <th>customer1</th>\n",
       "      <td>8</td>\n",
       "      <td>6</td>\n",
       "      <td>7</td>\n",
       "      <td>8</td>\n",
       "    </tr>\n",
       "    <tr>\n",
       "      <th>customer2</th>\n",
       "      <td>4</td>\n",
       "      <td>5</td>\n",
       "      <td>6</td>\n",
       "      <td>6</td>\n",
       "    </tr>\n",
       "    <tr>\n",
       "      <th>customer3</th>\n",
       "      <td>10</td>\n",
       "      <td>9</td>\n",
       "      <td>10</td>\n",
       "      <td>9</td>\n",
       "    </tr>\n",
       "    <tr>\n",
       "      <th>customer4</th>\n",
       "      <td>7</td>\n",
       "      <td>6</td>\n",
       "      <td>8</td>\n",
       "      <td>7</td>\n",
       "    </tr>\n",
       "    <tr>\n",
       "      <th>customer5</th>\n",
       "      <td>3</td>\n",
       "      <td>2</td>\n",
       "      <td>6</td>\n",
       "      <td>3</td>\n",
       "    </tr>\n",
       "  </tbody>\n",
       "</table>\n",
       "</div>"
      ],
      "text/plain": [
       "           how easy was it to navigate our website  \\\n",
       "customer1                                        8   \n",
       "customer2                                        4   \n",
       "customer3                                       10   \n",
       "customer4                                        7   \n",
       "customer5                                        3   \n",
       "\n",
       "           would you recommend this product to a friend  \\\n",
       "customer1                                             6   \n",
       "customer2                                             5   \n",
       "customer3                                             9   \n",
       "customer4                                             6   \n",
       "customer5                                             2   \n",
       "\n",
       "           how would you rate your delivery experience  \\\n",
       "customer1                                            7   \n",
       "customer2                                            6   \n",
       "customer3                                           10   \n",
       "customer4                                            8   \n",
       "customer5                                            6   \n",
       "\n",
       "           how likely would you be to use our product again  \n",
       "customer1                                                 8  \n",
       "customer2                                                 6  \n",
       "customer3                                                 9  \n",
       "customer4                                                 7  \n",
       "customer5                                                 3  "
      ]
     },
     "execution_count": 31,
     "metadata": {},
     "output_type": "execute_result"
    }
   ],
   "source": [
    "cs_df = pd.DataFrame(satisfaction_survey)\n",
    "\n",
    "cs_df.head()\n",
    "\n",
    "transposed_cs_df = cs_df.transpose()\n",
    "\n",
    "transposed_cs_df.head()\n"
   ]
  },
  {
   "cell_type": "markdown",
   "metadata": {},
   "source": [
    "## Explore your dataframe using the following functions:\n",
    "\n",
    "- `df.describe()`\n",
    "- `df.plot()`\n",
    "- `df.hist()`"
   ]
  },
  {
   "cell_type": "code",
   "execution_count": 32,
   "metadata": {},
   "outputs": [
    {
     "data": {
      "text/html": [
       "<div>\n",
       "<style scoped>\n",
       "    .dataframe tbody tr th:only-of-type {\n",
       "        vertical-align: middle;\n",
       "    }\n",
       "\n",
       "    .dataframe tbody tr th {\n",
       "        vertical-align: top;\n",
       "    }\n",
       "\n",
       "    .dataframe thead th {\n",
       "        text-align: right;\n",
       "    }\n",
       "</style>\n",
       "<table border=\"1\" class=\"dataframe\">\n",
       "  <thead>\n",
       "    <tr style=\"text-align: right;\">\n",
       "      <th></th>\n",
       "      <th>how easy was it to navigate our website</th>\n",
       "      <th>would you recommend this product to a friend</th>\n",
       "      <th>how would you rate your delivery experience</th>\n",
       "      <th>how likely would you be to use our product again</th>\n",
       "    </tr>\n",
       "  </thead>\n",
       "  <tbody>\n",
       "    <tr>\n",
       "      <th>count</th>\n",
       "      <td>5.000000</td>\n",
       "      <td>5.00000</td>\n",
       "      <td>5.00000</td>\n",
       "      <td>5.000000</td>\n",
       "    </tr>\n",
       "    <tr>\n",
       "      <th>mean</th>\n",
       "      <td>6.400000</td>\n",
       "      <td>5.60000</td>\n",
       "      <td>7.40000</td>\n",
       "      <td>6.600000</td>\n",
       "    </tr>\n",
       "    <tr>\n",
       "      <th>std</th>\n",
       "      <td>2.880972</td>\n",
       "      <td>2.50998</td>\n",
       "      <td>1.67332</td>\n",
       "      <td>2.302173</td>\n",
       "    </tr>\n",
       "    <tr>\n",
       "      <th>min</th>\n",
       "      <td>3.000000</td>\n",
       "      <td>2.00000</td>\n",
       "      <td>6.00000</td>\n",
       "      <td>3.000000</td>\n",
       "    </tr>\n",
       "    <tr>\n",
       "      <th>25%</th>\n",
       "      <td>4.000000</td>\n",
       "      <td>5.00000</td>\n",
       "      <td>6.00000</td>\n",
       "      <td>6.000000</td>\n",
       "    </tr>\n",
       "    <tr>\n",
       "      <th>50%</th>\n",
       "      <td>7.000000</td>\n",
       "      <td>6.00000</td>\n",
       "      <td>7.00000</td>\n",
       "      <td>7.000000</td>\n",
       "    </tr>\n",
       "    <tr>\n",
       "      <th>75%</th>\n",
       "      <td>8.000000</td>\n",
       "      <td>6.00000</td>\n",
       "      <td>8.00000</td>\n",
       "      <td>8.000000</td>\n",
       "    </tr>\n",
       "    <tr>\n",
       "      <th>max</th>\n",
       "      <td>10.000000</td>\n",
       "      <td>9.00000</td>\n",
       "      <td>10.00000</td>\n",
       "      <td>9.000000</td>\n",
       "    </tr>\n",
       "  </tbody>\n",
       "</table>\n",
       "</div>"
      ],
      "text/plain": [
       "       how easy was it to navigate our website  \\\n",
       "count                                 5.000000   \n",
       "mean                                  6.400000   \n",
       "std                                   2.880972   \n",
       "min                                   3.000000   \n",
       "25%                                   4.000000   \n",
       "50%                                   7.000000   \n",
       "75%                                   8.000000   \n",
       "max                                  10.000000   \n",
       "\n",
       "       would you recommend this product to a friend  \\\n",
       "count                                       5.00000   \n",
       "mean                                        5.60000   \n",
       "std                                         2.50998   \n",
       "min                                         2.00000   \n",
       "25%                                         5.00000   \n",
       "50%                                         6.00000   \n",
       "75%                                         6.00000   \n",
       "max                                         9.00000   \n",
       "\n",
       "       how would you rate your delivery experience  \\\n",
       "count                                      5.00000   \n",
       "mean                                       7.40000   \n",
       "std                                        1.67332   \n",
       "min                                        6.00000   \n",
       "25%                                        6.00000   \n",
       "50%                                        7.00000   \n",
       "75%                                        8.00000   \n",
       "max                                       10.00000   \n",
       "\n",
       "       how likely would you be to use our product again  \n",
       "count                                          5.000000  \n",
       "mean                                           6.600000  \n",
       "std                                            2.302173  \n",
       "min                                            3.000000  \n",
       "25%                                            6.000000  \n",
       "50%                                            7.000000  \n",
       "75%                                            8.000000  \n",
       "max                                            9.000000  "
      ]
     },
     "execution_count": 32,
     "metadata": {},
     "output_type": "execute_result"
    }
   ],
   "source": [
    "transposed_cs_df.describe()"
   ]
  },
  {
   "cell_type": "code",
   "execution_count": 35,
   "metadata": {},
   "outputs": [
    {
     "data": {
      "text/plain": [
       "<Axes: >"
      ]
     },
     "execution_count": 35,
     "metadata": {},
     "output_type": "execute_result"
    },
    {
     "data": {
      "image/png": "[encoded data removed]",
      "text/plain": [
       "<Figure size 640x480 with 1 Axes>"
      ]
     },
     "metadata": {},
     "output_type": "display_data"
    }
   ],
   "source": [
    "transposed_cs_df.plot()"
   ]
  },
  {
   "cell_type": "code",
   "execution_count": 39,
   "metadata": {},
   "outputs": [
    {
     "data": {
      "text/plain": [
       "<Axes: xlabel='how easy was it to navigate our website'>"
      ]
     },
     "execution_count": 39,
     "metadata": {},
     "output_type": "execute_result"
    },
    {
     "data": {
      "image/png": "[encoded data removed]",
      "text/plain": [
       "<Figure size 640x480 with 1 Axes>"
      ]
     },
     "metadata": {},
     "output_type": "display_data"
    }
   ],
   "source": [
    "transposed_cs_df.plot(x='how easy was it to navigate our website', y='how likely would you be to use our product again')"
   ]
  },
  {
   "cell_type": "code",
   "execution_count": 45,
   "metadata": {},
   "outputs": [],
   "source": [
    "# transposed_cs_df.hist()\n",
    "\n",
    "#transposed_cs_df.plot('index', 'how easy was it to navigate our website', kind='bar')"
   ]
  }
 ],
 "metadata": {
  "kernelspec": {
   "display_name": "Python 3",
   "language": "python",
   "name": "python3"
  },
  "language_info": {
   "codemirror_mode": {
    "name": "ipython",
    "version": 3
   },
   "file_extension": ".py",
   "mimetype": "text/x-python",
   "name": "python",
   "nbconvert_exporter": "python",
   "pygments_lexer": "ipython3",
   "version": "3.10.12"
  }
 },
 "nbformat": 4,
 "nbformat_minor": 4
}
