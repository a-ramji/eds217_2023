{
 "cells": [
  {
   "cell_type": "markdown",
   "metadata": {},
   "source": [
    "| [⬅️ Previous Session](practice_2-2_structured_data.ipynb) | [🏠 Course Home](../index.ipynb) | [➡️ Next Session](practice_4-1_pandas.ipynb) |\n",
    "\n",
    "# Practice 3-1: Introduction to NumPy"
   ]
  },
  {
   "cell_type": "markdown",
   "metadata": {},
   "source": [
    "\n",
    "<div class=\"run\">\n",
    "    ▶️ <b> Run the cell below. </b>\n",
    "</div>\n"
   ]
  },
  {
   "cell_type": "code",
   "execution_count": 2,
   "metadata": {},
   "outputs": [],
   "source": [
    "# Imports\n",
    "import numpy as np"
   ]
  },
  {
   "cell_type": "markdown",
   "metadata": {},
   "source": [
    "\n",
    "## 📚  **Practice 1.**  \n",
    "Create the following arrays and assign the corresponding variable names:\n",
    "\n",
    "1. `a`  \n",
    "    $$\n",
    "    \\begin{bmatrix}\n",
    "        4 & 5 & 0 & 12 & -1 \\\\\n",
    "        8 & -21 & -4 & 6 & 3 \\\\\n",
    "        17 & 1 & -13 & 7 & 0\n",
    "    \\end{bmatrix}\n",
    "    $$\n",
    "\n",
    "2. `b`  \n",
    "    $$\n",
    "    \\begin{bmatrix}\n",
    "        1.0 & 2.7 & 0 & 0.188 & 4.07 & 0.24\n",
    "    \\end{bmatrix}\n",
    "    $$\n",
    "\n",
    "3. `c`  \n",
    "    $$\n",
    "    \\begin{bmatrix}\n",
    "        0.4 \\\\\n",
    "        0.8 \\\\\n",
    "        1.2 \\\\\n",
    "        1.6 \\\\\n",
    "        2.0 \\\\\n",
    "        2.4\n",
    "    \\end{bmatrix}\n",
    "    $$\n"
   ]
  },
  {
   "cell_type": "code",
   "execution_count": 5,
   "metadata": {},
   "outputs": [
    {
     "name": "stdout",
     "output_type": "stream",
     "text": [
      "[[  4   5   0  12  -1]\n",
      " [  8 -21  -4   6   3]\n",
      " [ 17   1 -13   7   0]]\n",
      "[[1.    2.7   0.    0.188 4.07  0.24 ]]\n",
      "[[0.4]\n",
      " [0.8]\n",
      " [1.2]\n",
      " [1.6]\n",
      " [2. ]\n",
      " [2.4]]\n"
     ]
    }
   ],
   "source": [
    "a = np.array([[4, 5, 0, 12, -1], [8, -21, -4, 6, 3], [17, 1, -13, 7, 0]])\n",
    "print(a)\n",
    "\n",
    "b = np.array([[1.0, 2.7, 0, 0.188, 4.07, 0.24]])\n",
    "print(b)\n",
    "\n",
    "c = np.array([[0.4], [0.8], [1.2], [1.6], [2.0], [2.4]])\n",
    "print(c)"
   ]
  },
  {
   "cell_type": "markdown",
   "metadata": {},
   "source": [
    "## 📚  <b> Practice 2. </b> \n",
    "<ol class=\"alpha\">\n",
    "<li> Create a new array <code>d</code> of integers the multiples of 3 between 0 and 100.</li>\n",
    "<li> Create an array <code>f</code> 10 evenly spaced elements between 0 and 2.</li> \n",
    "<li> Re-create array <code>c</code> from Practice 1c using a function. Assign this to variable name <code>g</code>. </li>\n",
    "</ol>    "
   ]
  },
  {
   "cell_type": "code",
   "execution_count": 3,
   "metadata": {},
   "outputs": [
    {
     "name": "stdout",
     "output_type": "stream",
     "text": [
      "[ 0  3  6  9 12 15 18 21 24 27 30 33 36 39 42 45 48 51 54 57 60 63 66 69\n",
      " 72 75 78 81 84 87 90 93 96 99]\n",
      "[0.         0.22222222 0.44444444 0.66666667 0.88888889 1.11111111\n",
      " 1.33333333 1.55555556 1.77777778 2.        ]\n"
     ]
    },
    {
     "data": {
      "text/plain": [
       "array([[0.4],\n",
       "       [0.8],\n",
       "       [1.2],\n",
       "       [1.6],\n",
       "       [2. ],\n",
       "       [2.4]])"
      ]
     },
     "execution_count": 3,
     "metadata": {},
     "output_type": "execute_result"
    }
   ],
   "source": [
    "d = np.arange(0, 100, 3)\n",
    "print(d)\n",
    "\n",
    "f = np.linspace(0, 2, 10)\n",
    "print(f)\n",
    "\n",
    "g = np.linspace(0.4, 2.4, 6)\n",
    "f = g.reshape(-1, 1)\n",
    "f"
   ]
  },
  {
   "cell_type": "markdown",
   "metadata": {},
   "source": [
    "## 📚  <b> Practice 3. </b> Assign the following to variables:\n",
    "<ol class=\"alpha\">\n",
    "    <li> A 5x3 array of ones. </li>\n",
    "    <li> A one-dimensional array of 6 zeros. </li> \n",
    "    <li> A 7x7 identity array. </li>\n",
    "    <li> A random 10x10 array. </li>\n",
    "</ol>"
   ]
  },
  {
   "cell_type": "code",
   "execution_count": 6,
   "metadata": {},
   "outputs": [
    {
     "data": {
      "text/plain": [
       "array([[0.53643308, 0.26299143, 0.58222826, 0.46282818, 0.40225151,\n",
       "        0.52414325, 0.68088233, 0.85951816, 0.3038113 , 0.49095346],\n",
       "       [0.70255323, 0.23173392, 0.64543985, 0.21988705, 0.43984042,\n",
       "        0.3150801 , 0.35208903, 0.31419483, 0.13803026, 0.2093145 ],\n",
       "       [0.72562962, 0.95221793, 0.94575114, 0.89435156, 0.38417358,\n",
       "        0.68257077, 0.79794989, 0.26058069, 0.4956617 , 0.43364106],\n",
       "       [0.90238468, 0.9459533 , 0.8274205 , 0.23862764, 0.12218913,\n",
       "        0.80737113, 0.23696453, 0.96308737, 0.74465084, 0.50499848],\n",
       "       [0.77505461, 0.28909793, 0.79172185, 0.68417296, 0.20286906,\n",
       "        0.18861216, 0.21718496, 0.63224423, 0.13105543, 0.24668595],\n",
       "       [0.12212002, 0.77047246, 0.07543254, 0.21437494, 0.34058746,\n",
       "        0.91023707, 0.4816695 , 0.22166802, 0.41269367, 0.35683735],\n",
       "       [0.88101652, 0.09704907, 0.79821147, 0.99295162, 0.36292538,\n",
       "        0.01306863, 0.41645526, 0.63073669, 0.73215422, 0.02376269],\n",
       "       [0.51530662, 0.59689787, 0.48735603, 0.43087137, 0.85565271,\n",
       "        0.81000669, 0.02817177, 0.35087261, 0.87573085, 0.944661  ],\n",
       "       [0.1731615 , 0.23058313, 0.461542  , 0.7415972 , 0.32387721,\n",
       "        0.68282824, 0.69760863, 0.41188775, 0.75538406, 0.37995538],\n",
       "       [0.00670089, 0.40766792, 0.06411238, 0.13609126, 0.53340998,\n",
       "        0.46066093, 0.64122503, 0.28789361, 0.62427556, 0.99513268]])"
      ]
     },
     "execution_count": 6,
     "metadata": {},
     "output_type": "execute_result"
    }
   ],
   "source": [
    "big_ones = np.ones((5, 3))\n",
    "big_ones\n",
    "\n",
    "six_o = np.zeros(6)\n",
    "six_o\n",
    "\n",
    "sev = np.eye(7)\n",
    "sev\n",
    "\n",
    "ten_r = np.random.rand(10, 10)\n",
    "ten_r"
   ]
  },
  {
   "cell_type": "markdown",
   "metadata": {},
   "source": [
    "## 📚  <b> Practice 4. </b> \n",
    "Use array methods and the array you created in Practice 2a (<code>d</code>) to count the number of multiples of 3 between 0 and 100.\n"
   ]
  },
  {
   "cell_type": "code",
   "execution_count": 7,
   "metadata": {},
   "outputs": [
    {
     "data": {
      "text/plain": [
       "34"
      ]
     },
     "execution_count": 7,
     "metadata": {},
     "output_type": "execute_result"
    }
   ],
   "source": [
    "d.size"
   ]
  },
  {
   "cell_type": "markdown",
   "metadata": {},
   "source": [
    "\n",
    "## 📚  <b> Practice 5. </b> Using the array you created in Practice 3d,\n",
    "<ol class=\"alpha\">\n",
    "    <li> Print all the elements in column 4. </li>\n",
    "    <li> Print all the elements in row 7. </li>\n",
    "    <li> Extract the 4x4 subarray at the center of the array and assign it as a new variable. </li>\n",
    "    <li> Print the last two values in column 10. </li>\n",
    "</ol>"
   ]
  },
  {
   "cell_type": "code",
   "execution_count": 20,
   "metadata": {},
   "outputs": [
    {
     "name": "stdout",
     "output_type": "stream",
     "text": [
      "[[0.72726993 0.23493041 0.7505338  0.05608077 0.15986862 0.43206356\n",
      "  0.00168279 0.05421937 0.30967571 0.62946039]\n",
      " [0.1281782  0.98286262 0.88644267 0.70594149 0.31522481 0.67680671\n",
      "  0.09026066 0.44243719 0.25671182 0.30445976]\n",
      " [0.65622088 0.93492952 0.09863138 0.47734696 0.08613358 0.14403585\n",
      "  0.35633711 0.66861906 0.62019191 0.01795272]\n",
      " [0.21721413 0.69436251 0.22196616 0.16577091 0.43070568 0.11846508\n",
      "  0.20208677 0.6725347  0.93734201 0.04964409]\n",
      " [0.52201231 0.62685388 0.85406144 0.00968274 0.6809229  0.87024639\n",
      "  0.1190617  0.73904607 0.95421228 0.04304389]\n",
      " [0.75631601 0.74256608 0.42079757 0.64105693 0.35277868 0.93956318\n",
      "  0.34597832 0.94959508 0.80513795 0.93777319]\n",
      " [0.11180499 0.2268258  0.29412135 0.11712849 0.49104647 0.60933743\n",
      "  0.45752946 0.20461969 0.85582277 0.23141571]\n",
      " [0.1832486  0.18925908 0.00288771 0.12938239 0.5496794  0.01243169\n",
      "  0.8600632  0.18371879 0.29742723 0.84363395]\n",
      " [0.68368598 0.13837721 0.27630038 0.61190256 0.97461498 0.49675507\n",
      "  0.22780471 0.56690391 0.08106206 0.00811164]\n",
      " [0.80652632 0.62876556 0.00489646 0.42983782 0.95677958 0.47950288\n",
      "  0.04265795 0.24816409 0.01627967 0.05793224]]\n"
     ]
    }
   ],
   "source": [
    "ten_r = np.random.rand(10, 10)\n",
    "print(ten_r)\n"
   ]
  },
  {
   "cell_type": "code",
   "execution_count": 24,
   "metadata": {},
   "outputs": [
    {
     "name": "stdout",
     "output_type": "stream",
     "text": [
      "[0.05608077 0.70594149 0.47734696 0.16577091 0.00968274 0.64105693\n",
      " 0.11712849 0.12938239 0.61190256 0.42983782]\n"
     ]
    }
   ],
   "source": [
    "# Print all the elements in column 4.\n",
    "print(ten_r[:,3])"
   ]
  },
  {
   "cell_type": "code",
   "execution_count": 27,
   "metadata": {},
   "outputs": [
    {
     "name": "stdout",
     "output_type": "stream",
     "text": [
      "[0.11180499 0.2268258  0.29412135 0.11712849 0.49104647 0.60933743\n",
      " 0.45752946 0.20461969 0.85582277 0.23141571]\n",
      "[0.11180499 0.2268258  0.29412135 0.11712849 0.49104647 0.60933743\n",
      " 0.45752946 0.20461969 0.85582277 0.23141571]\n"
     ]
    }
   ],
   "source": [
    "# Print all the elements in row 7. \n",
    "print(ten_r[6])\n",
    "# or\n",
    "print(ten_r[6,:])"
   ]
  },
  {
   "cell_type": "code",
   "execution_count": 30,
   "metadata": {},
   "outputs": [
    {
     "data": {
      "text/plain": [
       "(4, 10)"
      ]
     },
     "execution_count": 30,
     "metadata": {},
     "output_type": "execute_result"
    }
   ],
   "source": [
    "# Extract the 4x4 subarray at the center of the array \n",
    "# and assign it as a new variable.\n",
    "\n",
    "mid = (ten_r[3:7, :])\n",
    "\n",
    "mid.shape"
   ]
  },
  {
   "cell_type": "code",
   "execution_count": 31,
   "metadata": {},
   "outputs": [
    {
     "data": {
      "text/plain": [
       "(4, 4)"
      ]
     },
     "execution_count": 31,
     "metadata": {},
     "output_type": "execute_result"
    }
   ],
   "source": [
    "center = ten_r[3:7, 3:7]\n",
    "center.shape"
   ]
  },
  {
   "cell_type": "code",
   "execution_count": 35,
   "metadata": {},
   "outputs": [
    {
     "data": {
      "text/plain": [
       "array([0.00811164, 0.05793224])"
      ]
     },
     "execution_count": 35,
     "metadata": {},
     "output_type": "execute_result"
    }
   ],
   "source": [
    "# Print the last two values in column 10.\n",
    "\n",
    "# return the values from the rows from index 8 onwards (row 9 and 10)\n",
    "# in column 10 (index 9)\n",
    "ten_r[8:,9]"
   ]
  },
  {
   "cell_type": "markdown",
   "metadata": {},
   "source": [
    "## 📚  <b> Practice 6. </b> \n",
    "Create a blank 8x8 matrix and fill it with a checkerboard pattern of 0s and 1s using indexing.\n"
   ]
  },
  {
   "cell_type": "code",
   "execution_count": 36,
   "metadata": {},
   "outputs": [
    {
     "data": {
      "text/plain": [
       "array([[1., 0., 0., 0., 0., 0., 0., 0., 0., 0.],\n",
       "       [0., 1., 0., 0., 0., 0., 0., 0., 0., 0.],\n",
       "       [0., 0., 1., 0., 0., 0., 0., 0., 0., 0.],\n",
       "       [0., 0., 0., 1., 0., 0., 0., 0., 0., 0.],\n",
       "       [0., 0., 0., 0., 1., 0., 0., 0., 0., 0.],\n",
       "       [0., 0., 0., 0., 0., 1., 0., 0., 0., 0.],\n",
       "       [0., 0., 0., 0., 0., 0., 1., 0., 0., 0.],\n",
       "       [0., 0., 0., 0., 0., 0., 0., 1., 0., 0.],\n",
       "       [0., 0., 0., 0., 0., 0., 0., 0., 1., 0.],\n",
       "       [0., 0., 0., 0., 0., 0., 0., 0., 0., 1.]])"
      ]
     },
     "execution_count": 36,
     "metadata": {},
     "output_type": "execute_result"
    }
   ],
   "source": [
    "np.eye(10)"
   ]
  },
  {
   "cell_type": "code",
   "execution_count": 44,
   "metadata": {},
   "outputs": [
    {
     "data": {
      "text/plain": [
       "array([[0., 1., 0., 1., 0., 1., 0., 1.],\n",
       "       [1., 0., 1., 0., 1., 0., 1., 0.],\n",
       "       [0., 1., 0., 1., 0., 1., 0., 1.],\n",
       "       [1., 0., 1., 0., 1., 0., 1., 0.],\n",
       "       [0., 1., 0., 1., 0., 1., 0., 1.],\n",
       "       [1., 0., 1., 0., 1., 0., 1., 0.],\n",
       "       [0., 1., 0., 1., 0., 1., 0., 1.],\n",
       "       [1., 0., 1., 0., 1., 0., 1., 0.]])"
      ]
     },
     "execution_count": 44,
     "metadata": {},
     "output_type": "execute_result"
    }
   ],
   "source": [
    "x = np.zeros((8, 8))\n",
    "x\n",
    "x[1::2, ::2] = 1\n",
    "x\n",
    "x[::2, 1::2] = 1\n",
    "x"
   ]
  },
  {
   "cell_type": "code",
   "execution_count": 57,
   "metadata": {},
   "outputs": [
    {
     "data": {
      "text/plain": [
       "array([[ 0,  1,  2,  3,  4,  5,  6,  7],\n",
       "       [ 1,  2,  3,  4,  5,  6,  7,  8],\n",
       "       [ 2,  3,  4,  5,  6,  7,  8,  9],\n",
       "       [ 3,  4,  5,  6,  7,  8,  9, 10],\n",
       "       [ 4,  5,  6,  7,  8,  9, 10, 11],\n",
       "       [ 5,  6,  7,  8,  9, 10, 11, 12],\n",
       "       [ 6,  7,  8,  9, 10, 11, 12, 13],\n",
       "       [ 7,  8,  9, 10, 11, 12, 13, 14]])"
      ]
     },
     "execution_count": 57,
     "metadata": {},
     "output_type": "execute_result"
    }
   ],
   "source": [
    "galaxy_checkers = np.indices((8,8)).sum(axis=0) # % 2\n",
    "galaxy_checkers"
   ]
  },
  {
   "cell_type": "markdown",
   "metadata": {},
   "source": [
    "## 📚  <b> Practice 7. </b>\n",
    "<ol class=\"alpha\">\n",
    "    <li> Create a 3x3 matrix with values ranging from 0 to 8. </li>\n",
    "    <li> Reverse the order of elements in your random 10x10 array from 3d. </li>\n",
    "</ol>"
   ]
  },
  {
   "cell_type": "code",
   "execution_count": 59,
   "metadata": {},
   "outputs": [
    {
     "data": {
      "text/plain": [
       "array([[0, 1, 2],\n",
       "       [3, 4, 5],\n",
       "       [6, 7, 8]])"
      ]
     },
     "execution_count": 59,
     "metadata": {},
     "output_type": "execute_result"
    }
   ],
   "source": [
    "values = np.arange(0, 9)\n",
    "shaped = values.reshape(3,3)\n",
    "# tbt[:,:] = np.arange(0,9)\n",
    "shaped"
   ]
  },
  {
   "cell_type": "code",
   "execution_count": 60,
   "metadata": {},
   "outputs": [
    {
     "data": {
      "text/plain": [
       "array([[0.05793224, 0.01627967, 0.24816409, 0.04265795, 0.47950288,\n",
       "        0.95677958, 0.42983782, 0.00489646, 0.62876556, 0.80652632],\n",
       "       [0.00811164, 0.08106206, 0.56690391, 0.22780471, 0.49675507,\n",
       "        0.97461498, 0.61190256, 0.27630038, 0.13837721, 0.68368598],\n",
       "       [0.84363395, 0.29742723, 0.18371879, 0.8600632 , 0.01243169,\n",
       "        0.5496794 , 0.12938239, 0.00288771, 0.18925908, 0.1832486 ],\n",
       "       [0.23141571, 0.85582277, 0.20461969, 0.45752946, 0.60933743,\n",
       "        0.49104647, 0.11712849, 0.29412135, 0.2268258 , 0.11180499],\n",
       "       [0.93777319, 0.80513795, 0.94959508, 0.34597832, 0.93956318,\n",
       "        0.35277868, 0.64105693, 0.42079757, 0.74256608, 0.75631601],\n",
       "       [0.04304389, 0.95421228, 0.73904607, 0.1190617 , 0.87024639,\n",
       "        0.6809229 , 0.00968274, 0.85406144, 0.62685388, 0.52201231],\n",
       "       [0.04964409, 0.93734201, 0.6725347 , 0.20208677, 0.11846508,\n",
       "        0.43070568, 0.16577091, 0.22196616, 0.69436251, 0.21721413],\n",
       "       [0.01795272, 0.62019191, 0.66861906, 0.35633711, 0.14403585,\n",
       "        0.08613358, 0.47734696, 0.09863138, 0.93492952, 0.65622088],\n",
       "       [0.30445976, 0.25671182, 0.44243719, 0.09026066, 0.67680671,\n",
       "        0.31522481, 0.70594149, 0.88644267, 0.98286262, 0.1281782 ],\n",
       "       [0.62946039, 0.30967571, 0.05421937, 0.00168279, 0.43206356,\n",
       "        0.15986862, 0.05608077, 0.7505338 , 0.23493041, 0.72726993]])"
      ]
     },
     "execution_count": 60,
     "metadata": {},
     "output_type": "execute_result"
    }
   ],
   "source": [
    "np.flip(ten_r)"
   ]
  },
  {
   "cell_type": "markdown",
   "metadata": {},
   "source": [
    "\n",
    "## 📚  <b> Practice 8. </b> \n",
    "Create two random 1-D arrays of length 10. Merge them into a 2x10 array and then a 10x2 array.\n"
   ]
  },
  {
   "cell_type": "code",
   "execution_count": 1,
   "metadata": {},
   "outputs": [],
   "source": [
    "import numpy as np"
   ]
  },
  {
   "cell_type": "code",
   "execution_count": 4,
   "metadata": {},
   "outputs": [],
   "source": [
    "xa = np.array([[4, 2, 0, 1, 5],\n",
    "              [9, 4, 1, 3, 0],\n",
    "              [6, 0, 8, 5, 9],\n",
    "              [7, 3, 2, 7, 4]])\n",
    "\n",
    "xb = np.array([[4,2,0],\n",
    "              [9,4,1],\n",
    "              [6,0,8]])\n",
    "\n",
    "ya = np.array([[2,8,6]])"
   ]
  },
  {
   "cell_type": "code",
   "execution_count": 6,
   "metadata": {},
   "outputs": [
    {
     "data": {
      "text/plain": [
       "array([[4, 2, 0],\n",
       "       [9, 4, 1],\n",
       "       [6, 0, 8],\n",
       "       [2, 8, 6]])"
      ]
     },
     "execution_count": 6,
     "metadata": {},
     "output_type": "execute_result"
    }
   ],
   "source": [
    "np.concatenate((xb, ya))"
   ]
  },
  {
   "cell_type": "code",
   "execution_count": null,
   "metadata": {},
   "outputs": [],
   "source": []
  },
  {
   "cell_type": "markdown",
   "metadata": {},
   "source": [
    "\n",
    "## 📚  <b> Practice 9. </b>\n",
    "<ol class=\"alpha\">\n",
    "    <li> Split your random 10x10 array from 3d into two 10x5 arrays. </li>\n",
    "    <li> Combine the first 10x5 array from (a), the 10x2 array from 8b, and the other 10x5 array from (a). In other words, recombine the 10x10 array from 3d with two new columns in index positions 5 and 6. Your final array should have 10 rows and 12 columns. Verify this by printing the shape of the resulting array. </li>\n",
    "</ol>\n"
   ]
  },
  {
   "cell_type": "code",
   "execution_count": null,
   "metadata": {},
   "outputs": [],
   "source": []
  },
  {
   "cell_type": "markdown",
   "metadata": {},
   "source": [
    "\n",
    "## 📚  <b> Practice 10. </b>\n",
    "<ol class=\"alpha\">\n",
    "    <li> Raise array <code>b</code> to the power of array <code>c</code>. </li>\n",
    "    <li> Create a new 5x10 array of random values. Subtract the mean of each row from every value. </li>\n",
    "</ol>\n"
   ]
  },
  {
   "cell_type": "code",
   "execution_count": null,
   "metadata": {},
   "outputs": [],
   "source": []
  },
  {
   "cell_type": "markdown",
   "metadata": {},
   "source": [
    "<hr style=\"border-top: 1px solid gray; margin-top: 24px; margin-bottom: 1px\"></hr>"
   ]
  }
 ],
 "metadata": {
  "kernelspec": {
   "display_name": "Python 3",
   "language": "python",
   "name": "python3"
  },
  "language_info": {
   "codemirror_mode": {
    "name": "ipython",
    "version": 3
   },
   "file_extension": ".py",
   "mimetype": "text/x-python",
   "name": "python",
   "nbconvert_exporter": "python",
   "pygments_lexer": "ipython3",
   "version": "3.10.12"
  }
 },
 "nbformat": 4,
 "nbformat_minor": 4
}
